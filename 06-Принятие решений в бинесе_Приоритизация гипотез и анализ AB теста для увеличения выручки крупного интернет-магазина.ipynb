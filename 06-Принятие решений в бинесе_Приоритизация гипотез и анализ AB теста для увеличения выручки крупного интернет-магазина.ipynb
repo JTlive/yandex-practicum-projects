{
 "cells": [
  {
   "cell_type": "markdown",
   "metadata": {},
   "source": [
    "# Приоритизация гипотез и анализ A/B теста для увеличения выручки крупного интернет-магазин"
   ]
  },
  {
   "cell_type": "markdown",
   "metadata": {
    "toc": true
   },
   "source": [
    "<h1>Содержание<span class=\"tocSkip\"></span></h1>\n",
    "<div class=\"toc\"><ul class=\"toc-item\"><li><span><a href=\"#Приоритизация-гипотез\" data-toc-modified-id=\"Приоритизация-гипотез-1\"><span class=\"toc-item-num\">1&nbsp;&nbsp;</span>Приоритизация гипотез</a></span><ul class=\"toc-item\"><li><span><a href=\"#Предобработка-таблицы-hypothesis\" data-toc-modified-id=\"Предобработка-таблицы-hypothesis-1.1\"><span class=\"toc-item-num\">1.1&nbsp;&nbsp;</span>Предобработка таблицы hypothesis</a></span></li><li><span><a href=\"#Фреймворк-ICE\" data-toc-modified-id=\"Фреймворк-ICE-1.2\"><span class=\"toc-item-num\">1.2&nbsp;&nbsp;</span>Фреймворк ICE</a></span></li><li><span><a href=\"#Фреймворк-RICE\" data-toc-modified-id=\"Фреймворк-RICE-1.3\"><span class=\"toc-item-num\">1.3&nbsp;&nbsp;</span>Фреймворк RICE</a></span></li><li><span><a href=\"#Применение-RICE-вместо-ICE\" data-toc-modified-id=\"Применение-RICE-вместо-ICE-1.4\"><span class=\"toc-item-num\">1.4&nbsp;&nbsp;</span>Применение RICE вместо ICE</a></span></li></ul></li><li><span><a href=\"#Анализ-A/B-теста\" data-toc-modified-id=\"Анализ-A/B-теста-2\"><span class=\"toc-item-num\">2&nbsp;&nbsp;</span>Анализ A/B-теста</a></span><ul class=\"toc-item\"><li><span><a href=\"#Предобрабтотка-таблиц-orders-и-visitors\" data-toc-modified-id=\"Предобрабтотка-таблиц-orders-и-visitors-2.1\"><span class=\"toc-item-num\">2.1&nbsp;&nbsp;</span>Предобрабтотка таблиц orders и visitors</a></span></li><li><span><a href=\"#Подготовка-данных-к-построению-графиков\" data-toc-modified-id=\"Подготовка-данных-к-построению-графиков-2.2\"><span class=\"toc-item-num\">2.2&nbsp;&nbsp;</span>Подготовка данных к построению графиков</a></span></li><li><span><a href=\"#Кумулятивная-выручка-по-группам\" data-toc-modified-id=\"Кумулятивная-выручка-по-группам-2.3\"><span class=\"toc-item-num\">2.3&nbsp;&nbsp;</span>Кумулятивная выручка по группам</a></span></li><li><span><a href=\"#Кумулятивный-средний-чек-по-группам\" data-toc-modified-id=\"Кумулятивный-средний-чек-по-группам-2.4\"><span class=\"toc-item-num\">2.4&nbsp;&nbsp;</span>Кумулятивный средний чек по группам</a></span></li><li><span><a href=\"#Относительное-изменение-кумулятивного-среднего-чека-группы-B-к-группе-A\" data-toc-modified-id=\"Относительное-изменение-кумулятивного-среднего-чека-группы-B-к-группе-A-2.5\"><span class=\"toc-item-num\">2.5&nbsp;&nbsp;</span>Относительное изменение кумулятивного среднего чека группы B к группе A</a></span></li><li><span><a href=\"#Кумулятивное-среднее-количество-заказов-по-группам\" data-toc-modified-id=\"Кумулятивное-среднее-количество-заказов-по-группам-2.6\"><span class=\"toc-item-num\">2.6&nbsp;&nbsp;</span>Кумулятивное среднее количество заказов по группам</a></span></li><li><span><a href=\"#Относительное-изменение-кумулятивного-среднего-количества-заказов-группы-B-к-группе-A\" data-toc-modified-id=\"Относительное-изменение-кумулятивного-среднего-количества-заказов-группы-B-к-группе-A-2.7\"><span class=\"toc-item-num\">2.7&nbsp;&nbsp;</span>Относительное изменение кумулятивного среднего количества заказов группы B к группе A</a></span></li><li><span><a href=\"#Количество-заказов-по-пользователям\" data-toc-modified-id=\"Количество-заказов-по-пользователям-2.8\"><span class=\"toc-item-num\">2.8&nbsp;&nbsp;</span>Количество заказов по пользователям</a></span></li><li><span><a href=\"#95-й-и-99-й-перцентили-количества-заказов-на-пользователя\" data-toc-modified-id=\"95-й-и-99-й-перцентили-количества-заказов-на-пользователя-2.9\"><span class=\"toc-item-num\">2.9&nbsp;&nbsp;</span>95-й и 99-й перцентили количества заказов на пользователя</a></span></li><li><span><a href=\"#Стоимость-заказов\" data-toc-modified-id=\"Стоимость-заказов-2.10\"><span class=\"toc-item-num\">2.10&nbsp;&nbsp;</span>Стоимость заказов</a></span></li><li><span><a href=\"#95-й-и-99-й-перцентили-стоимости-заказов\" data-toc-modified-id=\"95-й-и-99-й-перцентили-стоимости-заказов-2.11\"><span class=\"toc-item-num\">2.11&nbsp;&nbsp;</span>95-й и 99-й перцентили стоимости заказов</a></span></li><li><span><a href=\"#Статистическая-значимость\" data-toc-modified-id=\"Статистическая-значимость-2.12\"><span class=\"toc-item-num\">2.12&nbsp;&nbsp;</span>Статистическая значимость</a></span><ul class=\"toc-item\"><li><span><a href=\"#Cтатистическая-значимость-различий-в-среднем-количестве-заказов-между-группами-по-&quot;сырым&quot;-данным\" data-toc-modified-id=\"Cтатистическая-значимость-различий-в-среднем-количестве-заказов-между-группами-по-&quot;сырым&quot;-данным-2.12.1\"><span class=\"toc-item-num\">2.12.1&nbsp;&nbsp;</span>Cтатистическая значимость различий в среднем количестве заказов между группами по \"сырым\" данным</a></span></li><li><span><a href=\"#Статистическая-значимость-различий-в-среднем-чеке-заказа-между-группами-по-&quot;сырым&quot;-данным\" data-toc-modified-id=\"Статистическая-значимость-различий-в-среднем-чеке-заказа-между-группами-по-&quot;сырым&quot;-данным-2.12.2\"><span class=\"toc-item-num\">2.12.2&nbsp;&nbsp;</span>Статистическая значимость различий в среднем чеке заказа между группами по \"сырым\" данным</a></span></li><li><span><a href=\"#Статистическая-значимость-различий-в-среднем-количестве-заказов-между-группами-по-&quot;очищенным&quot;-данным\" data-toc-modified-id=\"Статистическая-значимость-различий-в-среднем-количестве-заказов-между-группами-по-&quot;очищенным&quot;-данным-2.12.3\"><span class=\"toc-item-num\">2.12.3&nbsp;&nbsp;</span>Статистическая значимость различий в среднем количестве заказов между группами по \"очищенным\" данным</a></span></li><li><span><a href=\"#Статистическая-значимость-различий-в-среднем-чеке-заказа-между-группами-по-&quot;очищенным&quot;-данным\" data-toc-modified-id=\"Статистическая-значимость-различий-в-среднем-чеке-заказа-между-группами-по-&quot;очищенным&quot;-данным-2.12.4\"><span class=\"toc-item-num\">2.12.4&nbsp;&nbsp;</span>Статистическая значимость различий в среднем чеке заказа между группами по \"очищенным\" данным</a></span></li></ul></li><li><span><a href=\"#Решение-по-результатам-теста\" data-toc-modified-id=\"Решение-по-результатам-теста-2.13\"><span class=\"toc-item-num\">2.13&nbsp;&nbsp;</span>Решение по результатам теста</a></span></li></ul></li><li><span><a href=\"#Общий-вывод\" data-toc-modified-id=\"Общий-вывод-3\"><span class=\"toc-item-num\">3&nbsp;&nbsp;</span>Общий вывод</a></span></li></ul></div>"
   ]
  },
  {
   "cell_type": "markdown",
   "metadata": {},
   "source": [
    "Вместе с отделом маркетинга был подготовлен список гипотез для увеличения выручки крупного интернет-магазина.\n",
    "\n",
    "Цель: приоритизировать гипотезы, запустить A/B-тест и проанализировать результаты."
   ]
  },
  {
   "cell_type": "markdown",
   "metadata": {},
   "source": [
    "Загрузим библиотеки для будущего анализа:"
   ]
  },
  {
   "cell_type": "code",
   "execution_count": 1,
   "metadata": {},
   "outputs": [],
   "source": [
    "import pandas as pd\n",
    "import scipy.stats as stats\n",
    "import datetime as dt\n",
    "import numpy as np\n",
    "import matplotlib.pyplot as plt"
   ]
  },
  {
   "cell_type": "markdown",
   "metadata": {},
   "source": [
    "## Приоритизация гипотез"
   ]
  },
  {
   "cell_type": "markdown",
   "metadata": {},
   "source": [
    "В файле /datasets/hypothesis.csv 9 гипотез по увеличению выручки интернет-магазина с указанными параметрами Reach, Impact, Confidence, Effort.\n",
    "\n",
    "**Задача:**\n",
    "- Применить фреймворк ICE для приоритизации гипотез. Отсортировать их по убыванию приоритета.\n",
    "- Применить фреймворк RICE для приоритизации гипотез. Отсортировать их по убыванию приоритета.\n",
    "- Указать, как изменилась приоритизация гипотез при применении RICE вместо ICE. Объяснить, почему так произошло."
   ]
  },
  {
   "cell_type": "markdown",
   "metadata": {},
   "source": [
    "### Предобработка таблицы hypothesis"
   ]
  },
  {
   "cell_type": "markdown",
   "metadata": {},
   "source": [
    "Посмотрим содержимое файла /datasets/hypothesis.csv и выведем по нему информацию:"
   ]
  },
  {
   "cell_type": "code",
   "execution_count": 2,
   "metadata": {},
   "outputs": [
    {
     "data": {
      "text/html": [
       "<div>\n",
       "<style scoped>\n",
       "    .dataframe tbody tr th:only-of-type {\n",
       "        vertical-align: middle;\n",
       "    }\n",
       "\n",
       "    .dataframe tbody tr th {\n",
       "        vertical-align: top;\n",
       "    }\n",
       "\n",
       "    .dataframe thead th {\n",
       "        text-align: right;\n",
       "    }\n",
       "</style>\n",
       "<table border=\"1\" class=\"dataframe\">\n",
       "  <thead>\n",
       "    <tr style=\"text-align: right;\">\n",
       "      <th></th>\n",
       "      <th>Hypothesis</th>\n",
       "      <th>Reach</th>\n",
       "      <th>Impact</th>\n",
       "      <th>Confidence</th>\n",
       "      <th>Efforts</th>\n",
       "    </tr>\n",
       "  </thead>\n",
       "  <tbody>\n",
       "    <tr>\n",
       "      <th>0</th>\n",
       "      <td>Добавить два новых канала привлечения трафика,...</td>\n",
       "      <td>3</td>\n",
       "      <td>10</td>\n",
       "      <td>8</td>\n",
       "      <td>6</td>\n",
       "    </tr>\n",
       "    <tr>\n",
       "      <th>1</th>\n",
       "      <td>Запустить собственную службу доставки, что сок...</td>\n",
       "      <td>2</td>\n",
       "      <td>5</td>\n",
       "      <td>4</td>\n",
       "      <td>10</td>\n",
       "    </tr>\n",
       "    <tr>\n",
       "      <th>2</th>\n",
       "      <td>Добавить блоки рекомендаций товаров на сайт ин...</td>\n",
       "      <td>8</td>\n",
       "      <td>3</td>\n",
       "      <td>7</td>\n",
       "      <td>3</td>\n",
       "    </tr>\n",
       "    <tr>\n",
       "      <th>3</th>\n",
       "      <td>Изменить структура категорий, что увеличит кон...</td>\n",
       "      <td>8</td>\n",
       "      <td>3</td>\n",
       "      <td>3</td>\n",
       "      <td>8</td>\n",
       "    </tr>\n",
       "    <tr>\n",
       "      <th>4</th>\n",
       "      <td>Изменить цвет фона главной страницы, чтобы уве...</td>\n",
       "      <td>3</td>\n",
       "      <td>1</td>\n",
       "      <td>1</td>\n",
       "      <td>1</td>\n",
       "    </tr>\n",
       "    <tr>\n",
       "      <th>5</th>\n",
       "      <td>Добавить страницу отзывов клиентов о магазине,...</td>\n",
       "      <td>3</td>\n",
       "      <td>2</td>\n",
       "      <td>2</td>\n",
       "      <td>3</td>\n",
       "    </tr>\n",
       "    <tr>\n",
       "      <th>6</th>\n",
       "      <td>Показать на главной странице баннеры с актуаль...</td>\n",
       "      <td>5</td>\n",
       "      <td>3</td>\n",
       "      <td>8</td>\n",
       "      <td>3</td>\n",
       "    </tr>\n",
       "    <tr>\n",
       "      <th>7</th>\n",
       "      <td>Добавить форму подписки на все основные страни...</td>\n",
       "      <td>10</td>\n",
       "      <td>7</td>\n",
       "      <td>8</td>\n",
       "      <td>5</td>\n",
       "    </tr>\n",
       "    <tr>\n",
       "      <th>8</th>\n",
       "      <td>Запустить акцию, дающую скидку на товар в день...</td>\n",
       "      <td>1</td>\n",
       "      <td>9</td>\n",
       "      <td>9</td>\n",
       "      <td>5</td>\n",
       "    </tr>\n",
       "  </tbody>\n",
       "</table>\n",
       "</div>"
      ],
      "text/plain": [
       "                                          Hypothesis  Reach  Impact  \\\n",
       "0  Добавить два новых канала привлечения трафика,...      3      10   \n",
       "1  Запустить собственную службу доставки, что сок...      2       5   \n",
       "2  Добавить блоки рекомендаций товаров на сайт ин...      8       3   \n",
       "3  Изменить структура категорий, что увеличит кон...      8       3   \n",
       "4  Изменить цвет фона главной страницы, чтобы уве...      3       1   \n",
       "5  Добавить страницу отзывов клиентов о магазине,...      3       2   \n",
       "6  Показать на главной странице баннеры с актуаль...      5       3   \n",
       "7  Добавить форму подписки на все основные страни...     10       7   \n",
       "8  Запустить акцию, дающую скидку на товар в день...      1       9   \n",
       "\n",
       "   Confidence  Efforts  \n",
       "0           8        6  \n",
       "1           4       10  \n",
       "2           7        3  \n",
       "3           3        8  \n",
       "4           1        1  \n",
       "5           2        3  \n",
       "6           8        3  \n",
       "7           8        5  \n",
       "8           9        5  "
      ]
     },
     "metadata": {},
     "output_type": "display_data"
    },
    {
     "name": "stdout",
     "output_type": "stream",
     "text": [
      "<class 'pandas.core.frame.DataFrame'>\n",
      "RangeIndex: 9 entries, 0 to 8\n",
      "Data columns (total 5 columns):\n",
      " #   Column      Non-Null Count  Dtype \n",
      "---  ------      --------------  ----- \n",
      " 0   Hypothesis  9 non-null      object\n",
      " 1   Reach       9 non-null      int64 \n",
      " 2   Impact      9 non-null      int64 \n",
      " 3   Confidence  9 non-null      int64 \n",
      " 4   Efforts     9 non-null      int64 \n",
      "dtypes: int64(4), object(1)\n",
      "memory usage: 488.0+ bytes\n"
     ]
    }
   ],
   "source": [
    "hypothesis = pd.read_csv('https://code.s3.yandex.net/datasets/hypothesis.csv')\n",
    "\n",
    "# выведем на экран таблицу и информацию по ней\n",
    "display(hypothesis)\n",
    "hypothesis.info()"
   ]
  },
  {
   "cell_type": "markdown",
   "metadata": {},
   "source": [
    "Названия столбцов:\n",
    "\n",
    "- Hypothesis — краткое описание гипотезы;\n",
    "- Reach — охват пользователей по 10-балльной шкале;\n",
    "- Impact — влияние на пользователей по 10-балльной шкале;\n",
    "- Confidence — уверенность в гипотезе по 10-балльной шкале;\n",
    "- Efforts — затраты ресурсов на проверку гипотезы по 10-балльной шкале. Чем больше значение Efforts, тем дороже проверка гипотезы."
   ]
  },
  {
   "cell_type": "markdown",
   "metadata": {},
   "source": [
    "С данными все в порядке, отформатируем текст:"
   ]
  },
  {
   "cell_type": "code",
   "execution_count": 3,
   "metadata": {},
   "outputs": [
    {
     "data": {
      "text/html": [
       "<div>\n",
       "<style scoped>\n",
       "    .dataframe tbody tr th:only-of-type {\n",
       "        vertical-align: middle;\n",
       "    }\n",
       "\n",
       "    .dataframe tbody tr th {\n",
       "        vertical-align: top;\n",
       "    }\n",
       "\n",
       "    .dataframe thead th {\n",
       "        text-align: right;\n",
       "    }\n",
       "</style>\n",
       "<table border=\"1\" class=\"dataframe\">\n",
       "  <thead>\n",
       "    <tr style=\"text-align: right;\">\n",
       "      <th></th>\n",
       "      <th>hypothesis</th>\n",
       "      <th>reach</th>\n",
       "      <th>impact</th>\n",
       "      <th>confidence</th>\n",
       "      <th>efforts</th>\n",
       "    </tr>\n",
       "  </thead>\n",
       "  <tbody>\n",
       "    <tr>\n",
       "      <th>0</th>\n",
       "      <td>Добавить два новых канала привлечения трафика, что позволит привлекать на 30% больше пользователей</td>\n",
       "      <td>3</td>\n",
       "      <td>10</td>\n",
       "      <td>8</td>\n",
       "      <td>6</td>\n",
       "    </tr>\n",
       "    <tr>\n",
       "      <th>1</th>\n",
       "      <td>Запустить собственную службу доставки, что сократит срок доставки заказов</td>\n",
       "      <td>2</td>\n",
       "      <td>5</td>\n",
       "      <td>4</td>\n",
       "      <td>10</td>\n",
       "    </tr>\n",
       "    <tr>\n",
       "      <th>2</th>\n",
       "      <td>Добавить блоки рекомендаций товаров на сайт интернет магазина, чтобы повысить конверсию и средний чек заказа</td>\n",
       "      <td>8</td>\n",
       "      <td>3</td>\n",
       "      <td>7</td>\n",
       "      <td>3</td>\n",
       "    </tr>\n",
       "    <tr>\n",
       "      <th>3</th>\n",
       "      <td>Изменить структура категорий, что увеличит конверсию, т.к. пользователи быстрее найдут нужный товар</td>\n",
       "      <td>8</td>\n",
       "      <td>3</td>\n",
       "      <td>3</td>\n",
       "      <td>8</td>\n",
       "    </tr>\n",
       "    <tr>\n",
       "      <th>4</th>\n",
       "      <td>Изменить цвет фона главной страницы, чтобы увеличить вовлеченность пользователей</td>\n",
       "      <td>3</td>\n",
       "      <td>1</td>\n",
       "      <td>1</td>\n",
       "      <td>1</td>\n",
       "    </tr>\n",
       "    <tr>\n",
       "      <th>5</th>\n",
       "      <td>Добавить страницу отзывов клиентов о магазине, что позволит увеличить количество заказов</td>\n",
       "      <td>3</td>\n",
       "      <td>2</td>\n",
       "      <td>2</td>\n",
       "      <td>3</td>\n",
       "    </tr>\n",
       "    <tr>\n",
       "      <th>6</th>\n",
       "      <td>Показать на главной странице баннеры с актуальными акциями и распродажами, чтобы увеличить конверсию</td>\n",
       "      <td>5</td>\n",
       "      <td>3</td>\n",
       "      <td>8</td>\n",
       "      <td>3</td>\n",
       "    </tr>\n",
       "    <tr>\n",
       "      <th>7</th>\n",
       "      <td>Добавить форму подписки на все основные страницы, чтобы собрать базу клиентов для email-рассылок</td>\n",
       "      <td>10</td>\n",
       "      <td>7</td>\n",
       "      <td>8</td>\n",
       "      <td>5</td>\n",
       "    </tr>\n",
       "    <tr>\n",
       "      <th>8</th>\n",
       "      <td>Запустить акцию, дающую скидку на товар в день рождения</td>\n",
       "      <td>1</td>\n",
       "      <td>9</td>\n",
       "      <td>9</td>\n",
       "      <td>5</td>\n",
       "    </tr>\n",
       "  </tbody>\n",
       "</table>\n",
       "</div>"
      ],
      "text/plain": [
       "                                                                                                     hypothesis  \\\n",
       "0            Добавить два новых канала привлечения трафика, что позволит привлекать на 30% больше пользователей   \n",
       "1                                     Запустить собственную службу доставки, что сократит срок доставки заказов   \n",
       "2  Добавить блоки рекомендаций товаров на сайт интернет магазина, чтобы повысить конверсию и средний чек заказа   \n",
       "3           Изменить структура категорий, что увеличит конверсию, т.к. пользователи быстрее найдут нужный товар   \n",
       "4                              Изменить цвет фона главной страницы, чтобы увеличить вовлеченность пользователей   \n",
       "5                      Добавить страницу отзывов клиентов о магазине, что позволит увеличить количество заказов   \n",
       "6          Показать на главной странице баннеры с актуальными акциями и распродажами, чтобы увеличить конверсию   \n",
       "7              Добавить форму подписки на все основные страницы, чтобы собрать базу клиентов для email-рассылок   \n",
       "8                                                       Запустить акцию, дающую скидку на товар в день рождения   \n",
       "\n",
       "   reach  impact  confidence  efforts  \n",
       "0      3      10           8        6  \n",
       "1      2       5           4       10  \n",
       "2      8       3           7        3  \n",
       "3      8       3           3        8  \n",
       "4      3       1           1        1  \n",
       "5      3       2           2        3  \n",
       "6      5       3           8        3  \n",
       "7     10       7           8        5  \n",
       "8      1       9           9        5  "
      ]
     },
     "metadata": {},
     "output_type": "display_data"
    }
   ],
   "source": [
    "# установим ширину столбца так, чтобы гипотеза была видна полностью\n",
    "pd.options.display.max_colwidth = 150\n",
    "\n",
    "# приведем названия столбцов к нижнем регистру:\n",
    "hypothesis.columns = hypothesis.columns.str.lower()\n",
    "\n",
    "display(hypothesis)"
   ]
  },
  {
   "cell_type": "markdown",
   "metadata": {},
   "source": [
    "**Вывод:**\n",
    "\n",
    "Данные файла /datasets/hypothesis.csv с гипотезами приведены к нужному типу, отформатированы и готовы для дальнейшего анализа."
   ]
  },
  {
   "cell_type": "markdown",
   "metadata": {},
   "source": [
    "### Фреймворк ICE"
   ]
  },
  {
   "cell_type": "markdown",
   "metadata": {},
   "source": [
    "Применим фреймворк ICE для приоритизации гипотез. ICE (от англ. impact, confidence, effort / ease «влияние, уверенность, усилия / простота») определяется по формуле:\n",
    "\n",
    "`ICE = (Impact * Confidence) / Effort`"
   ]
  },
  {
   "cell_type": "code",
   "execution_count": 4,
   "metadata": {},
   "outputs": [
    {
     "data": {
      "text/html": [
       "<div>\n",
       "<style scoped>\n",
       "    .dataframe tbody tr th:only-of-type {\n",
       "        vertical-align: middle;\n",
       "    }\n",
       "\n",
       "    .dataframe tbody tr th {\n",
       "        vertical-align: top;\n",
       "    }\n",
       "\n",
       "    .dataframe thead th {\n",
       "        text-align: right;\n",
       "    }\n",
       "</style>\n",
       "<table border=\"1\" class=\"dataframe\">\n",
       "  <thead>\n",
       "    <tr style=\"text-align: right;\">\n",
       "      <th></th>\n",
       "      <th>hypothesis</th>\n",
       "      <th>ICE</th>\n",
       "    </tr>\n",
       "  </thead>\n",
       "  <tbody>\n",
       "    <tr>\n",
       "      <th>8</th>\n",
       "      <td>Запустить акцию, дающую скидку на товар в день рождения</td>\n",
       "      <td>16.2</td>\n",
       "    </tr>\n",
       "    <tr>\n",
       "      <th>0</th>\n",
       "      <td>Добавить два новых канала привлечения трафика, что позволит привлекать на 30% больше пользователей</td>\n",
       "      <td>13.3</td>\n",
       "    </tr>\n",
       "    <tr>\n",
       "      <th>7</th>\n",
       "      <td>Добавить форму подписки на все основные страницы, чтобы собрать базу клиентов для email-рассылок</td>\n",
       "      <td>11.2</td>\n",
       "    </tr>\n",
       "    <tr>\n",
       "      <th>6</th>\n",
       "      <td>Показать на главной странице баннеры с актуальными акциями и распродажами, чтобы увеличить конверсию</td>\n",
       "      <td>8.0</td>\n",
       "    </tr>\n",
       "    <tr>\n",
       "      <th>2</th>\n",
       "      <td>Добавить блоки рекомендаций товаров на сайт интернет магазина, чтобы повысить конверсию и средний чек заказа</td>\n",
       "      <td>7.0</td>\n",
       "    </tr>\n",
       "    <tr>\n",
       "      <th>1</th>\n",
       "      <td>Запустить собственную службу доставки, что сократит срок доставки заказов</td>\n",
       "      <td>2.0</td>\n",
       "    </tr>\n",
       "    <tr>\n",
       "      <th>5</th>\n",
       "      <td>Добавить страницу отзывов клиентов о магазине, что позволит увеличить количество заказов</td>\n",
       "      <td>1.3</td>\n",
       "    </tr>\n",
       "    <tr>\n",
       "      <th>3</th>\n",
       "      <td>Изменить структура категорий, что увеличит конверсию, т.к. пользователи быстрее найдут нужный товар</td>\n",
       "      <td>1.1</td>\n",
       "    </tr>\n",
       "    <tr>\n",
       "      <th>4</th>\n",
       "      <td>Изменить цвет фона главной страницы, чтобы увеличить вовлеченность пользователей</td>\n",
       "      <td>1.0</td>\n",
       "    </tr>\n",
       "  </tbody>\n",
       "</table>\n",
       "</div>"
      ],
      "text/plain": [
       "                                                                                                     hypothesis  \\\n",
       "8                                                       Запустить акцию, дающую скидку на товар в день рождения   \n",
       "0            Добавить два новых канала привлечения трафика, что позволит привлекать на 30% больше пользователей   \n",
       "7              Добавить форму подписки на все основные страницы, чтобы собрать базу клиентов для email-рассылок   \n",
       "6          Показать на главной странице баннеры с актуальными акциями и распродажами, чтобы увеличить конверсию   \n",
       "2  Добавить блоки рекомендаций товаров на сайт интернет магазина, чтобы повысить конверсию и средний чек заказа   \n",
       "1                                     Запустить собственную службу доставки, что сократит срок доставки заказов   \n",
       "5                      Добавить страницу отзывов клиентов о магазине, что позволит увеличить количество заказов   \n",
       "3           Изменить структура категорий, что увеличит конверсию, т.к. пользователи быстрее найдут нужный товар   \n",
       "4                              Изменить цвет фона главной страницы, чтобы увеличить вовлеченность пользователей   \n",
       "\n",
       "    ICE  \n",
       "8  16.2  \n",
       "0  13.3  \n",
       "7  11.2  \n",
       "6   8.0  \n",
       "2   7.0  \n",
       "1   2.0  \n",
       "5   1.3  \n",
       "3   1.1  \n",
       "4   1.0  "
      ]
     },
     "metadata": {},
     "output_type": "display_data"
    }
   ],
   "source": [
    "# добавим колонку ICE и округлим в ней значение до одного знака после запятой\n",
    "hypothesis['ICE'] = ((hypothesis['impact'] * hypothesis['confidence']) / hypothesis['efforts']).round(1)\n",
    "\n",
    "# отсортируем по убыванию приоритета\n",
    "display(hypothesis[['hypothesis', 'ICE']].sort_values(by='ICE', ascending=False))"
   ]
  },
  {
   "cell_type": "markdown",
   "metadata": {},
   "source": [
    "**Вывод:**\n",
    "\n",
    "Мы расставили приоритеты, применив фреймворк ICE. Первые три места по начимости заняли гипотезы 8, 0 и 7. Посмотрим, что изменится, если применить другой фреймворк."
   ]
  },
  {
   "cell_type": "markdown",
   "metadata": {},
   "source": [
    "### Фреймворк RICE"
   ]
  },
  {
   "cell_type": "markdown",
   "metadata": {},
   "source": [
    "У метода ICE есть модификация RICE (R от англ. reach, «охват», то есть скольких пользователей затронет изменение, которое мы хотим внести). Она вычисляется по формуле:\n",
    "\n",
    "`RICE = (Reach * Impact * Confidence) / Effort`"
   ]
  },
  {
   "cell_type": "code",
   "execution_count": 5,
   "metadata": {},
   "outputs": [
    {
     "data": {
      "text/html": [
       "<div>\n",
       "<style scoped>\n",
       "    .dataframe tbody tr th:only-of-type {\n",
       "        vertical-align: middle;\n",
       "    }\n",
       "\n",
       "    .dataframe tbody tr th {\n",
       "        vertical-align: top;\n",
       "    }\n",
       "\n",
       "    .dataframe thead th {\n",
       "        text-align: right;\n",
       "    }\n",
       "</style>\n",
       "<table border=\"1\" class=\"dataframe\">\n",
       "  <thead>\n",
       "    <tr style=\"text-align: right;\">\n",
       "      <th></th>\n",
       "      <th>hypothesis</th>\n",
       "      <th>RICE</th>\n",
       "    </tr>\n",
       "  </thead>\n",
       "  <tbody>\n",
       "    <tr>\n",
       "      <th>7</th>\n",
       "      <td>Добавить форму подписки на все основные страницы, чтобы собрать базу клиентов для email-рассылок</td>\n",
       "      <td>112.0</td>\n",
       "    </tr>\n",
       "    <tr>\n",
       "      <th>2</th>\n",
       "      <td>Добавить блоки рекомендаций товаров на сайт интернет магазина, чтобы повысить конверсию и средний чек заказа</td>\n",
       "      <td>56.0</td>\n",
       "    </tr>\n",
       "    <tr>\n",
       "      <th>0</th>\n",
       "      <td>Добавить два новых канала привлечения трафика, что позволит привлекать на 30% больше пользователей</td>\n",
       "      <td>40.0</td>\n",
       "    </tr>\n",
       "    <tr>\n",
       "      <th>6</th>\n",
       "      <td>Показать на главной странице баннеры с актуальными акциями и распродажами, чтобы увеличить конверсию</td>\n",
       "      <td>40.0</td>\n",
       "    </tr>\n",
       "    <tr>\n",
       "      <th>8</th>\n",
       "      <td>Запустить акцию, дающую скидку на товар в день рождения</td>\n",
       "      <td>16.2</td>\n",
       "    </tr>\n",
       "    <tr>\n",
       "      <th>3</th>\n",
       "      <td>Изменить структура категорий, что увеличит конверсию, т.к. пользователи быстрее найдут нужный товар</td>\n",
       "      <td>9.0</td>\n",
       "    </tr>\n",
       "    <tr>\n",
       "      <th>1</th>\n",
       "      <td>Запустить собственную службу доставки, что сократит срок доставки заказов</td>\n",
       "      <td>4.0</td>\n",
       "    </tr>\n",
       "    <tr>\n",
       "      <th>5</th>\n",
       "      <td>Добавить страницу отзывов клиентов о магазине, что позволит увеличить количество заказов</td>\n",
       "      <td>4.0</td>\n",
       "    </tr>\n",
       "    <tr>\n",
       "      <th>4</th>\n",
       "      <td>Изменить цвет фона главной страницы, чтобы увеличить вовлеченность пользователей</td>\n",
       "      <td>3.0</td>\n",
       "    </tr>\n",
       "  </tbody>\n",
       "</table>\n",
       "</div>"
      ],
      "text/plain": [
       "                                                                                                     hypothesis  \\\n",
       "7              Добавить форму подписки на все основные страницы, чтобы собрать базу клиентов для email-рассылок   \n",
       "2  Добавить блоки рекомендаций товаров на сайт интернет магазина, чтобы повысить конверсию и средний чек заказа   \n",
       "0            Добавить два новых канала привлечения трафика, что позволит привлекать на 30% больше пользователей   \n",
       "6          Показать на главной странице баннеры с актуальными акциями и распродажами, чтобы увеличить конверсию   \n",
       "8                                                       Запустить акцию, дающую скидку на товар в день рождения   \n",
       "3           Изменить структура категорий, что увеличит конверсию, т.к. пользователи быстрее найдут нужный товар   \n",
       "1                                     Запустить собственную службу доставки, что сократит срок доставки заказов   \n",
       "5                      Добавить страницу отзывов клиентов о магазине, что позволит увеличить количество заказов   \n",
       "4                              Изменить цвет фона главной страницы, чтобы увеличить вовлеченность пользователей   \n",
       "\n",
       "    RICE  \n",
       "7  112.0  \n",
       "2   56.0  \n",
       "0   40.0  \n",
       "6   40.0  \n",
       "8   16.2  \n",
       "3    9.0  \n",
       "1    4.0  \n",
       "5    4.0  \n",
       "4    3.0  "
      ]
     },
     "metadata": {},
     "output_type": "display_data"
    }
   ],
   "source": [
    "hypothesis['RICE'] = (hypothesis['reach'] * hypothesis['impact'] * hypothesis['confidence']) / hypothesis['efforts']\n",
    "\n",
    "display(hypothesis[['hypothesis', 'RICE']].sort_values(by='RICE', ascending=False))"
   ]
  },
  {
   "cell_type": "markdown",
   "metadata": {},
   "source": [
    "**Вывод:**\n",
    "\n",
    "В первую тройку по-прежнему вошли 7-я и 0-я гипотезы (6-я делит третье место с 0-й), а вот 8-я переместилась с первого места в середину списка."
   ]
  },
  {
   "cell_type": "markdown",
   "metadata": {},
   "source": [
    "### Применение RICE вместо ICE"
   ]
  },
  {
   "cell_type": "markdown",
   "metadata": {},
   "source": [
    "Помотрим на горизонтальной гистограмме, как изменилась приоритизация гипотез при применении RICE вместо ICE."
   ]
  },
  {
   "cell_type": "code",
   "execution_count": 6,
   "metadata": {},
   "outputs": [
    {
     "data": {
      "image/png": "[encoded data removed]",
      "text/plain": [
       "<Figure size 640x480 with 1 Axes>"
      ]
     },
     "metadata": {},
     "output_type": "display_data"
    }
   ],
   "source": [
    "barh = hypothesis.set_index('hypothesis')[['ICE','RICE']].plot(kind='barh')\n",
    "barh.set_xlabel('Значение параметра ICE / RICE')\n",
    "barh.set_ylabel('Гипотеза')\n",
    "barh.set_title('Приоритет гипотез')\n",
    "plt.show()"
   ]
  },
  {
   "cell_type": "markdown",
   "metadata": {},
   "source": [
    "**Вывод:**\n",
    "\n",
    "Практически на все гипотезы существенно повлиял параметр охвата пользовтелей (скольких пользователей затронет изменение, которое мы хотим внести). Это означает, что при приоритизаци гипотез мы не можем оставить его без внимания. С учетом предыдущих выводов целесообразно проверить следующие гипотезы:\n",
    "- №7. Добавить форму подписки на все основные страницы, чтобы собрать базу клиентов для email-рассылок.\n",
    "- №0. Добавить два новых канала привлечения трафика, что позволит привлекать на 30% больше пользователей\n",
    "\n",
    "Обе эти гипотезы вошли в тройку при приритизации обоими методами.\n",
    "\n",
    "Также стоит проверить гипотезу №2 \"Добавить блоки рекомендаций товаров на сайт интернет магазина, чтобы повысить конверсию и средний чек заказа\", т.к. результат ее применения повлияет на большое число пользователей."
   ]
  },
  {
   "cell_type": "markdown",
   "metadata": {},
   "source": [
    "## Анализ A/B-теста"
   ]
  },
  {
   "cell_type": "markdown",
   "metadata": {},
   "source": [
    "Мы провели A/B-тест и получили результаты, которые описаны в файлах /datasets/orders.csv и /datasets/visitors.csv.\n",
    "\n",
    "**Задача:**\n",
    "\n",
    "Проанализировать A/B-тест:\n",
    "- Построить график кумулятивной выручки по группам. Сделайте выводы и предположения.\n",
    "- Построить график кумулятивного среднего чека по группам. Сделайте выводы и предположения.\n",
    "- Построить график относительного изменения кумулятивного среднего чека группы B к группе A. Сделайте выводы и предположения.\n",
    "- Построить график кумулятивного среднего количества заказов по группам. Сделайте выводы и предположения.\n",
    "- Построить график относительного изменения кумулятивного среднего количества заказов группы B к группе A. Сделайте выводы и предположения.\n",
    "- Построить точечный график количества заказов по пользователям. Сделайте выводы и предположения.\n",
    "- Посчитать 95-й и 99-й перцентили количества заказов на пользователя. Выберите границу для определения аномальных пользователей.\n",
    "- Построить точечный график стоимостей заказов. Сделайте выводы и предположения.\n",
    "- Посчитать 95-й и 99-й перцентили стоимости заказов. Выберите границу для определения аномальных заказов.\n",
    "- Посчитать статистическую значимость различий в среднем количестве заказов между группами по «сырым» данным. Сделайте выводы и предположения.\n",
    "- Посчитать статистическую значимость различий в среднем чеке заказа между группами по «сырым» данным. Сделайте выводы и предположения.\n",
    "- Посчитать статистическую значимость различий в среднем количестве заказов между группами по «очищенным» данным. Сделайте выводы и предположения.\n",
    "- Посчитать статистическую значимость различий в среднем чеке заказа между группами по «очищенным» данным. Сделайте выводы и предположения.\n",
    "- Принять решение по результатам теста и объяснить его. Варианты решений: 1. Остановить тест, зафиксировать победу одной из групп. 2. Остановить тест, зафиксировать отсутствие различий между группами. 3. Продолжить тест."
   ]
  },
  {
   "cell_type": "markdown",
   "metadata": {},
   "source": [
    "### Предобрабтотка таблиц orders и visitors"
   ]
  },
  {
   "cell_type": "markdown",
   "metadata": {},
   "source": [
    "Подготовим данные для дальнейшего анализа. Посмотрим содержимое файла /datasets/orders.csv и выведем по нему информацию:"
   ]
  },
  {
   "cell_type": "code",
   "execution_count": 7,
   "metadata": {},
   "outputs": [
    {
     "data": {
      "text/html": [
       "<div>\n",
       "<style scoped>\n",
       "    .dataframe tbody tr th:only-of-type {\n",
       "        vertical-align: middle;\n",
       "    }\n",
       "\n",
       "    .dataframe tbody tr th {\n",
       "        vertical-align: top;\n",
       "    }\n",
       "\n",
       "    .dataframe thead th {\n",
       "        text-align: right;\n",
       "    }\n",
       "</style>\n",
       "<table border=\"1\" class=\"dataframe\">\n",
       "  <thead>\n",
       "    <tr style=\"text-align: right;\">\n",
       "      <th></th>\n",
       "      <th>transactionId</th>\n",
       "      <th>visitorId</th>\n",
       "      <th>date</th>\n",
       "      <th>revenue</th>\n",
       "      <th>group</th>\n",
       "    </tr>\n",
       "  </thead>\n",
       "  <tbody>\n",
       "    <tr>\n",
       "      <th>0</th>\n",
       "      <td>3667963787</td>\n",
       "      <td>3312258926</td>\n",
       "      <td>2019-08-15</td>\n",
       "      <td>1650</td>\n",
       "      <td>B</td>\n",
       "    </tr>\n",
       "    <tr>\n",
       "      <th>1</th>\n",
       "      <td>2804400009</td>\n",
       "      <td>3642806036</td>\n",
       "      <td>2019-08-15</td>\n",
       "      <td>730</td>\n",
       "      <td>B</td>\n",
       "    </tr>\n",
       "    <tr>\n",
       "      <th>2</th>\n",
       "      <td>2961555356</td>\n",
       "      <td>4069496402</td>\n",
       "      <td>2019-08-15</td>\n",
       "      <td>400</td>\n",
       "      <td>A</td>\n",
       "    </tr>\n",
       "    <tr>\n",
       "      <th>3</th>\n",
       "      <td>3797467345</td>\n",
       "      <td>1196621759</td>\n",
       "      <td>2019-08-15</td>\n",
       "      <td>9759</td>\n",
       "      <td>B</td>\n",
       "    </tr>\n",
       "    <tr>\n",
       "      <th>4</th>\n",
       "      <td>2282983706</td>\n",
       "      <td>2322279887</td>\n",
       "      <td>2019-08-15</td>\n",
       "      <td>2308</td>\n",
       "      <td>B</td>\n",
       "    </tr>\n",
       "  </tbody>\n",
       "</table>\n",
       "</div>"
      ],
      "text/plain": [
       "   transactionId   visitorId        date  revenue group\n",
       "0     3667963787  3312258926  2019-08-15     1650     B\n",
       "1     2804400009  3642806036  2019-08-15      730     B\n",
       "2     2961555356  4069496402  2019-08-15      400     A\n",
       "3     3797467345  1196621759  2019-08-15     9759     B\n",
       "4     2282983706  2322279887  2019-08-15     2308     B"
      ]
     },
     "metadata": {},
     "output_type": "display_data"
    },
    {
     "name": "stdout",
     "output_type": "stream",
     "text": [
      "<class 'pandas.core.frame.DataFrame'>\n",
      "RangeIndex: 1197 entries, 0 to 1196\n",
      "Data columns (total 5 columns):\n",
      " #   Column         Non-Null Count  Dtype \n",
      "---  ------         --------------  ----- \n",
      " 0   transactionId  1197 non-null   int64 \n",
      " 1   visitorId      1197 non-null   int64 \n",
      " 2   date           1197 non-null   object\n",
      " 3   revenue        1197 non-null   int64 \n",
      " 4   group          1197 non-null   object\n",
      "dtypes: int64(3), object(2)\n",
      "memory usage: 46.9+ KB\n",
      "Количество дубликатов: 0\n"
     ]
    }
   ],
   "source": [
    "orders = pd.read_csv('https://code.s3.yandex.net/datasets/orders.csv')\n",
    "\n",
    "# выведем на экран таблицу и информацию по ней\n",
    "display(orders.head())\n",
    "orders.info()\n",
    "\n",
    "# количество дубликатов\n",
    "print('Количество дубликатов:', orders.duplicated().sum())"
   ]
  },
  {
   "cell_type": "markdown",
   "metadata": {},
   "source": [
    "Названия столбцов:\n",
    "- transactionId — идентификатор заказа;\n",
    "- visitorId — идентификатор пользователя, совершившего заказ;\n",
    "- date — дата, когда был совершён заказ;\n",
    "- revenue — выручка заказа;\n",
    "- group — группа A/B-теста, в которую попал заказ."
   ]
  },
  {
   "cell_type": "markdown",
   "metadata": {},
   "source": [
    "Пропущенных значений и дубликатов нет. Поменяем названия столбцов и приведем дату к нужному типу:"
   ]
  },
  {
   "cell_type": "code",
   "execution_count": 8,
   "metadata": {},
   "outputs": [
    {
     "data": {
      "text/html": [
       "<div>\n",
       "<style scoped>\n",
       "    .dataframe tbody tr th:only-of-type {\n",
       "        vertical-align: middle;\n",
       "    }\n",
       "\n",
       "    .dataframe tbody tr th {\n",
       "        vertical-align: top;\n",
       "    }\n",
       "\n",
       "    .dataframe thead th {\n",
       "        text-align: right;\n",
       "    }\n",
       "</style>\n",
       "<table border=\"1\" class=\"dataframe\">\n",
       "  <thead>\n",
       "    <tr style=\"text-align: right;\">\n",
       "      <th></th>\n",
       "      <th>transaction_id</th>\n",
       "      <th>visitor_id</th>\n",
       "      <th>date</th>\n",
       "      <th>revenue</th>\n",
       "      <th>group</th>\n",
       "    </tr>\n",
       "  </thead>\n",
       "  <tbody>\n",
       "    <tr>\n",
       "      <th>0</th>\n",
       "      <td>3667963787</td>\n",
       "      <td>3312258926</td>\n",
       "      <td>2019-08-15</td>\n",
       "      <td>1650</td>\n",
       "      <td>B</td>\n",
       "    </tr>\n",
       "    <tr>\n",
       "      <th>1</th>\n",
       "      <td>2804400009</td>\n",
       "      <td>3642806036</td>\n",
       "      <td>2019-08-15</td>\n",
       "      <td>730</td>\n",
       "      <td>B</td>\n",
       "    </tr>\n",
       "    <tr>\n",
       "      <th>2</th>\n",
       "      <td>2961555356</td>\n",
       "      <td>4069496402</td>\n",
       "      <td>2019-08-15</td>\n",
       "      <td>400</td>\n",
       "      <td>A</td>\n",
       "    </tr>\n",
       "    <tr>\n",
       "      <th>3</th>\n",
       "      <td>3797467345</td>\n",
       "      <td>1196621759</td>\n",
       "      <td>2019-08-15</td>\n",
       "      <td>9759</td>\n",
       "      <td>B</td>\n",
       "    </tr>\n",
       "    <tr>\n",
       "      <th>4</th>\n",
       "      <td>2282983706</td>\n",
       "      <td>2322279887</td>\n",
       "      <td>2019-08-15</td>\n",
       "      <td>2308</td>\n",
       "      <td>B</td>\n",
       "    </tr>\n",
       "  </tbody>\n",
       "</table>\n",
       "</div>"
      ],
      "text/plain": [
       "   transaction_id  visitor_id       date  revenue group\n",
       "0      3667963787  3312258926 2019-08-15     1650     B\n",
       "1      2804400009  3642806036 2019-08-15      730     B\n",
       "2      2961555356  4069496402 2019-08-15      400     A\n",
       "3      3797467345  1196621759 2019-08-15     9759     B\n",
       "4      2282983706  2322279887 2019-08-15     2308     B"
      ]
     },
     "metadata": {},
     "output_type": "display_data"
    },
    {
     "name": "stdout",
     "output_type": "stream",
     "text": [
      "<class 'pandas.core.frame.DataFrame'>\n",
      "RangeIndex: 1197 entries, 0 to 1196\n",
      "Data columns (total 5 columns):\n",
      " #   Column          Non-Null Count  Dtype         \n",
      "---  ------          --------------  -----         \n",
      " 0   transaction_id  1197 non-null   int64         \n",
      " 1   visitor_id      1197 non-null   int64         \n",
      " 2   date            1197 non-null   datetime64[ns]\n",
      " 3   revenue         1197 non-null   int64         \n",
      " 4   group           1197 non-null   object        \n",
      "dtypes: datetime64[ns](1), int64(3), object(1)\n",
      "memory usage: 46.9+ KB\n"
     ]
    }
   ],
   "source": [
    "orders.rename(columns={'transactionId': 'transaction_id', 'visitorId': 'visitor_id'}, inplace=True)\n",
    "\n",
    "#orders['date'] = pd.to_datetime(orders['date'])\n",
    "orders['date'] = orders['date'].map(lambda x: dt.datetime.strptime(x, '%Y-%m-%d'))\n",
    "\n",
    "display(orders.head())\n",
    "\n",
    "orders.info()"
   ]
  },
  {
   "cell_type": "markdown",
   "metadata": {},
   "source": [
    "Теперь в таблице `orders` все корректно. Посмотрим содержимое файла /datasets/visitors.csv и выведем по нему информацию:"
   ]
  },
  {
   "cell_type": "code",
   "execution_count": 9,
   "metadata": {},
   "outputs": [
    {
     "data": {
      "text/html": [
       "<div>\n",
       "<style scoped>\n",
       "    .dataframe tbody tr th:only-of-type {\n",
       "        vertical-align: middle;\n",
       "    }\n",
       "\n",
       "    .dataframe tbody tr th {\n",
       "        vertical-align: top;\n",
       "    }\n",
       "\n",
       "    .dataframe thead th {\n",
       "        text-align: right;\n",
       "    }\n",
       "</style>\n",
       "<table border=\"1\" class=\"dataframe\">\n",
       "  <thead>\n",
       "    <tr style=\"text-align: right;\">\n",
       "      <th></th>\n",
       "      <th>date</th>\n",
       "      <th>group</th>\n",
       "      <th>visitors</th>\n",
       "    </tr>\n",
       "  </thead>\n",
       "  <tbody>\n",
       "    <tr>\n",
       "      <th>0</th>\n",
       "      <td>2019-08-01</td>\n",
       "      <td>A</td>\n",
       "      <td>719</td>\n",
       "    </tr>\n",
       "    <tr>\n",
       "      <th>1</th>\n",
       "      <td>2019-08-02</td>\n",
       "      <td>A</td>\n",
       "      <td>619</td>\n",
       "    </tr>\n",
       "    <tr>\n",
       "      <th>2</th>\n",
       "      <td>2019-08-03</td>\n",
       "      <td>A</td>\n",
       "      <td>507</td>\n",
       "    </tr>\n",
       "    <tr>\n",
       "      <th>3</th>\n",
       "      <td>2019-08-04</td>\n",
       "      <td>A</td>\n",
       "      <td>717</td>\n",
       "    </tr>\n",
       "    <tr>\n",
       "      <th>4</th>\n",
       "      <td>2019-08-05</td>\n",
       "      <td>A</td>\n",
       "      <td>756</td>\n",
       "    </tr>\n",
       "  </tbody>\n",
       "</table>\n",
       "</div>"
      ],
      "text/plain": [
       "         date group  visitors\n",
       "0  2019-08-01     A       719\n",
       "1  2019-08-02     A       619\n",
       "2  2019-08-03     A       507\n",
       "3  2019-08-04     A       717\n",
       "4  2019-08-05     A       756"
      ]
     },
     "metadata": {},
     "output_type": "display_data"
    },
    {
     "name": "stdout",
     "output_type": "stream",
     "text": [
      "<class 'pandas.core.frame.DataFrame'>\n",
      "RangeIndex: 62 entries, 0 to 61\n",
      "Data columns (total 3 columns):\n",
      " #   Column    Non-Null Count  Dtype \n",
      "---  ------    --------------  ----- \n",
      " 0   date      62 non-null     object\n",
      " 1   group     62 non-null     object\n",
      " 2   visitors  62 non-null     int64 \n",
      "dtypes: int64(1), object(2)\n",
      "memory usage: 1.6+ KB\n",
      "Количество дубликатов: 0\n"
     ]
    }
   ],
   "source": [
    "visitors = pd.read_csv('https://code.s3.yandex.net/datasets/visitors.csv')\n",
    "\n",
    "# выведем на экран таблицу и информацию по ней\n",
    "display(visitors.head())\n",
    "visitors.info()\n",
    "\n",
    "# количество дубликатов\n",
    "print('Количество дубликатов:', visitors.duplicated().sum())"
   ]
  },
  {
   "cell_type": "markdown",
   "metadata": {},
   "source": [
    "Названия столбцов:\n",
    "- date — дата;\n",
    "- group — группа A/B-теста;\n",
    "- visitors — количество пользователей в указанную дату в указанной группе A/B-теста."
   ]
  },
  {
   "cell_type": "markdown",
   "metadata": {},
   "source": [
    "Пропущенных значений и дубликатов нет. Приведем дату к нужному типу:"
   ]
  },
  {
   "cell_type": "code",
   "execution_count": 10,
   "metadata": {},
   "outputs": [
    {
     "data": {
      "text/html": [
       "<div>\n",
       "<style scoped>\n",
       "    .dataframe tbody tr th:only-of-type {\n",
       "        vertical-align: middle;\n",
       "    }\n",
       "\n",
       "    .dataframe tbody tr th {\n",
       "        vertical-align: top;\n",
       "    }\n",
       "\n",
       "    .dataframe thead th {\n",
       "        text-align: right;\n",
       "    }\n",
       "</style>\n",
       "<table border=\"1\" class=\"dataframe\">\n",
       "  <thead>\n",
       "    <tr style=\"text-align: right;\">\n",
       "      <th></th>\n",
       "      <th>date</th>\n",
       "      <th>group</th>\n",
       "      <th>visitors</th>\n",
       "    </tr>\n",
       "  </thead>\n",
       "  <tbody>\n",
       "    <tr>\n",
       "      <th>0</th>\n",
       "      <td>2019-08-01</td>\n",
       "      <td>A</td>\n",
       "      <td>719</td>\n",
       "    </tr>\n",
       "    <tr>\n",
       "      <th>1</th>\n",
       "      <td>2019-08-02</td>\n",
       "      <td>A</td>\n",
       "      <td>619</td>\n",
       "    </tr>\n",
       "    <tr>\n",
       "      <th>2</th>\n",
       "      <td>2019-08-03</td>\n",
       "      <td>A</td>\n",
       "      <td>507</td>\n",
       "    </tr>\n",
       "    <tr>\n",
       "      <th>3</th>\n",
       "      <td>2019-08-04</td>\n",
       "      <td>A</td>\n",
       "      <td>717</td>\n",
       "    </tr>\n",
       "    <tr>\n",
       "      <th>4</th>\n",
       "      <td>2019-08-05</td>\n",
       "      <td>A</td>\n",
       "      <td>756</td>\n",
       "    </tr>\n",
       "  </tbody>\n",
       "</table>\n",
       "</div>"
      ],
      "text/plain": [
       "        date group  visitors\n",
       "0 2019-08-01     A       719\n",
       "1 2019-08-02     A       619\n",
       "2 2019-08-03     A       507\n",
       "3 2019-08-04     A       717\n",
       "4 2019-08-05     A       756"
      ]
     },
     "metadata": {},
     "output_type": "display_data"
    },
    {
     "name": "stdout",
     "output_type": "stream",
     "text": [
      "<class 'pandas.core.frame.DataFrame'>\n",
      "RangeIndex: 62 entries, 0 to 61\n",
      "Data columns (total 3 columns):\n",
      " #   Column    Non-Null Count  Dtype         \n",
      "---  ------    --------------  -----         \n",
      " 0   date      62 non-null     datetime64[ns]\n",
      " 1   group     62 non-null     object        \n",
      " 2   visitors  62 non-null     int64         \n",
      "dtypes: datetime64[ns](1), int64(1), object(1)\n",
      "memory usage: 1.6+ KB\n"
     ]
    }
   ],
   "source": [
    "#visitors['date'] = pd.to_datetime(visitors['date'])\n",
    "visitors['date'] = visitors['date'].map(lambda x: dt.datetime.strptime(x, '%Y-%m-%d'))\n",
    "\n",
    "display(visitors.head())\n",
    "\n",
    "visitors.info()"
   ]
  },
  {
   "cell_type": "markdown",
   "metadata": {},
   "source": [
    "Посмотрим, сколько пользователей участвует в тесте:"
   ]
  },
  {
   "cell_type": "code",
   "execution_count": 11,
   "metadata": {},
   "outputs": [
    {
     "data": {
      "text/plain": [
       "1031"
      ]
     },
     "execution_count": 11,
     "metadata": {},
     "output_type": "execute_result"
    }
   ],
   "source": [
    "orders['visitor_id'].nunique()"
   ]
  },
  {
   "cell_type": "markdown",
   "metadata": {},
   "source": [
    "Проверим, как уникальные пользователи разделены по группам:"
   ]
  },
  {
   "cell_type": "code",
   "execution_count": 12,
   "metadata": {},
   "outputs": [
    {
     "data": {
      "text/plain": [
       "group\n",
       "A    503\n",
       "B    586\n",
       "Name: visitor_id, dtype: int64"
      ]
     },
     "execution_count": 12,
     "metadata": {},
     "output_type": "execute_result"
    }
   ],
   "source": [
    "orders.groupby('group')['visitor_id'].nunique()"
   ]
  },
  {
   "cell_type": "markdown",
   "metadata": {},
   "source": [
    "Мы видим, что общее количество уникальных пользователей поменялось, их стало 1089 вместо 1031 человек. Это означает, что есть 58 пользователей, чьи заказы попали в обе группы:"
   ]
  },
  {
   "cell_type": "code",
   "execution_count": 13,
   "metadata": {},
   "outputs": [
    {
     "data": {
      "text/plain": [
       "58"
      ]
     },
     "execution_count": 13,
     "metadata": {},
     "output_type": "execute_result"
    }
   ],
   "source": [
    "len(np.intersect1d(orders.query('group == \"A\"')['visitor_id'].unique(), orders.query('group == \"B\"')['visitor_id'].unique()))"
   ]
  },
  {
   "cell_type": "markdown",
   "metadata": {},
   "source": [
    "По критериям успешного А/В теста каждый посетитель, попавший в одну из групп теста, остается в этой группе до конца теста. Если пользователь видит разные вариации А/В теста в течение одного исследования, неизвестно, какая из них повлияла на него. Значит, и результаты теста нельзя интерпретировать однозначно. Поэтому добавим \"лишних\" пользователей в список `list_odd` и удалим из таблицы `orders`:"
   ]
  },
  {
   "cell_type": "code",
   "execution_count": 14,
   "metadata": {},
   "outputs": [
    {
     "data": {
      "text/plain": [
       "group\n",
       "A    445\n",
       "B    528\n",
       "Name: visitor_id, dtype: int64"
      ]
     },
     "execution_count": 14,
     "metadata": {},
     "output_type": "execute_result"
    }
   ],
   "source": [
    "# объявим переменную list_id со списком \"лишних\" пользователей\n",
    "list_odd = np.intersect1d(orders.query('group == \"A\"')['visitor_id'].unique(), \n",
    "                         orders.query('group == \"B\"')['visitor_id'].unique())\n",
    "\n",
    "# переведем массив в список:\n",
    "list_odd = list_odd.tolist()\n",
    "\n",
    "# удалим данные пользователей, заказы которых попали в обе группы\n",
    "orders = orders[~orders.visitor_id.isin(list_odd)]\n",
    "\n",
    "# выведем список уникальных пользователей по группам еще раз:\n",
    "orders.groupby('group')['visitor_id'].nunique()"
   ]
  },
  {
   "cell_type": "markdown",
   "metadata": {},
   "source": [
    "Мы видим, что количество пользователей в группе В более чем на 15% больше чем в группе А. "
   ]
  },
  {
   "cell_type": "markdown",
   "metadata": {},
   "source": [
    "**Вывод:**\n",
    "\n",
    "В таблицах `orders` и `visitors` мы скорректировали названия столбцов и привели столбец `date` к нужному типу. Данные готовы для дальнейшего анализа."
   ]
  },
  {
   "cell_type": "markdown",
   "metadata": {},
   "source": [
    "### Подготовка данных к построению графиков"
   ]
  },
  {
   "cell_type": "markdown",
   "metadata": {},
   "source": [
    "Чтобы построить графики, нужно собрать кумулятивные данные. Объявим датафрейм `cumulativeData` со столбцами:\n",
    "- `date` — дата;\n",
    "- `group` — группа A/B-теста (A или B);\n",
    "- `orders` — кумулятивное количество заказов на указанную дату в указанной группе;\n",
    "- `buyers` — кумулятивное количество пользователей, совершивших хотя бы один заказ, на указанную дату в указанной группе;\n",
    "- `revenue` — кумулятивная выручка на указанную дату в указанной группе (средний чек);\n",
    "- `visitors` — кумулятивное количество посетителей интернет-магазина на указанную дату в определённой группе."
   ]
  },
  {
   "cell_type": "markdown",
   "metadata": {},
   "source": [
    "Создадим массив уникальных пар значений дат и групп теста методом `drop_duplicates()`:"
   ]
  },
  {
   "cell_type": "code",
   "execution_count": 15,
   "metadata": {},
   "outputs": [],
   "source": [
    "# создаем массив уникальных пар значений дат и групп теста\n",
    "datesGroups = orders[['date','group']].drop_duplicates()"
   ]
  },
  {
   "cell_type": "markdown",
   "metadata": {},
   "source": [
    "Соберём агрегированные кумулятивные по дням данные о заказах в несколько действий."
   ]
  },
  {
   "cell_type": "markdown",
   "metadata": {},
   "source": [
    "Получим строки таблицы `orders`, дата которых меньше или равна дате элемента из `datesGroups`, а группа теста равна группе из `datesGroups`:\n",
    "`orders[np.logical_and(orders['date'] <= x['date'], orders['group'] == x['group'])]`"
   ]
  },
  {
   "cell_type": "markdown",
   "metadata": {},
   "source": [
    "Агрегируем значения. Вычислим максимальную дату. Для группы тоже рассчитаем максимум, и хотя она будет определённой, сделаем это, чтобы столбец `'group'` не пропал из итогового вывода. Найдём число уникальных ID заказов и пользователей. Подсчитаем сумму средних чеков:\n",
    "`.agg({'date' : 'max', 'group' : 'max', 'transaction_id' : 'nunique', 'visitor_id' : 'nunique', 'revenue' : 'sum'})`. Применим методы к каждой строке датафрейма: `apply(axis=1)` и отсортируем результаты по столбцам `'date'` и `'group'`:"
   ]
  },
  {
   "cell_type": "code",
   "execution_count": 16,
   "metadata": {},
   "outputs": [],
   "source": [
    "ordersAggregated = (datesGroups\n",
    "                    .apply(lambda x: orders[np.logical_and(orders['date'] <= x['date'],\n",
    "                                                           orders['group'] == x['group'])]\n",
    "                    .agg({'date': 'max',\n",
    "                          'group': 'max',\n",
    "                          'transaction_id': 'nunique',\n",
    "                          'visitor_id': 'nunique',\n",
    "                          'revenue': 'sum'}), axis=1)\n",
    "                    .sort_values(by=['date','group'])\n",
    "                   )"
   ]
  },
  {
   "cell_type": "markdown",
   "metadata": {},
   "source": [
    "Этот код работает так, будто мы ежедневно считали результаты тестирования до выбранного дня включительно и сохраняли их в строках таблицы `ordersAggregated`."
   ]
  },
  {
   "cell_type": "markdown",
   "metadata": {},
   "source": [
    "Аналогично получим агрегированные кумулятивные по дням данные о посетителях интернет-магазина:"
   ]
  },
  {
   "cell_type": "code",
   "execution_count": 17,
   "metadata": {},
   "outputs": [],
   "source": [
    "visitorsAggregated = (datesGroups\n",
    "                      .apply(lambda x: visitors[np.logical_and(visitors['date'] <= x['date'],\n",
    "                                                               visitors['group'] == x['group'])]\n",
    "                      .agg({'date': 'max',\n",
    "                            'group': 'max',\n",
    "                            'visitors': 'sum'}), axis=1)\n",
    "                      .sort_values(by=['date','group'])\n",
    "                     )"
   ]
  },
  {
   "cell_type": "markdown",
   "metadata": {},
   "source": [
    "Объединим обе таблицы в одну с понятными названиями столбцов:"
   ]
  },
  {
   "cell_type": "code",
   "execution_count": 18,
   "metadata": {},
   "outputs": [
    {
     "data": {
      "text/html": [
       "<div>\n",
       "<style scoped>\n",
       "    .dataframe tbody tr th:only-of-type {\n",
       "        vertical-align: middle;\n",
       "    }\n",
       "\n",
       "    .dataframe tbody tr th {\n",
       "        vertical-align: top;\n",
       "    }\n",
       "\n",
       "    .dataframe thead th {\n",
       "        text-align: right;\n",
       "    }\n",
       "</style>\n",
       "<table border=\"1\" class=\"dataframe\">\n",
       "  <thead>\n",
       "    <tr style=\"text-align: right;\">\n",
       "      <th></th>\n",
       "      <th>date</th>\n",
       "      <th>group</th>\n",
       "      <th>orders</th>\n",
       "      <th>buyers</th>\n",
       "      <th>revenue</th>\n",
       "      <th>visitors</th>\n",
       "    </tr>\n",
       "  </thead>\n",
       "  <tbody>\n",
       "    <tr>\n",
       "      <th>0</th>\n",
       "      <td>2019-08-01</td>\n",
       "      <td>A</td>\n",
       "      <td>23</td>\n",
       "      <td>19</td>\n",
       "      <td>142779</td>\n",
       "      <td>719</td>\n",
       "    </tr>\n",
       "    <tr>\n",
       "      <th>1</th>\n",
       "      <td>2019-08-01</td>\n",
       "      <td>B</td>\n",
       "      <td>17</td>\n",
       "      <td>17</td>\n",
       "      <td>59758</td>\n",
       "      <td>713</td>\n",
       "    </tr>\n",
       "    <tr>\n",
       "      <th>2</th>\n",
       "      <td>2019-08-02</td>\n",
       "      <td>A</td>\n",
       "      <td>42</td>\n",
       "      <td>36</td>\n",
       "      <td>234381</td>\n",
       "      <td>1338</td>\n",
       "    </tr>\n",
       "    <tr>\n",
       "      <th>3</th>\n",
       "      <td>2019-08-02</td>\n",
       "      <td>B</td>\n",
       "      <td>40</td>\n",
       "      <td>39</td>\n",
       "      <td>221801</td>\n",
       "      <td>1294</td>\n",
       "    </tr>\n",
       "    <tr>\n",
       "      <th>4</th>\n",
       "      <td>2019-08-03</td>\n",
       "      <td>A</td>\n",
       "      <td>66</td>\n",
       "      <td>60</td>\n",
       "      <td>346854</td>\n",
       "      <td>1845</td>\n",
       "    </tr>\n",
       "  </tbody>\n",
       "</table>\n",
       "</div>"
      ],
      "text/plain": [
       "        date group  orders  buyers  revenue  visitors\n",
       "0 2019-08-01     A      23      19   142779       719\n",
       "1 2019-08-01     B      17      17    59758       713\n",
       "2 2019-08-02     A      42      36   234381      1338\n",
       "3 2019-08-02     B      40      39   221801      1294\n",
       "4 2019-08-03     A      66      60   346854      1845"
      ]
     },
     "metadata": {},
     "output_type": "display_data"
    }
   ],
   "source": [
    "# создаем массив уникальных пар значений дат и групп теста\n",
    "datesGroups = orders[['date','group']].drop_duplicates()\n",
    "\n",
    "# получаем агрегированные кумулятивные по дням данные о заказах \n",
    "ordersAggregated = datesGroups.apply(lambda x: orders[np.logical_and(orders['date'] <= x['date'],\n",
    "                                                                     orders['group'] == x['group'])]\n",
    "                                     .agg({'date': 'max',\n",
    "                                           'group': 'max',\n",
    "                                           'transaction_id': 'nunique',\n",
    "                                           'visitor_id': 'nunique',\n",
    "                                           'revenue': 'sum'}), axis=1).sort_values(by=['date','group'])\n",
    "\n",
    "# получаем агрегированные кумулятивные по дням данные о посетителях интернет-магазина \n",
    "visitorsAggregated = datesGroups.apply(lambda x: visitors[np.logical_and(visitors['date'] <= x['date'],\n",
    "                                                                         visitors['group'] == x['group'])]\n",
    "                                       .agg({'date': 'max',\n",
    "                                             'group': 'max',\n",
    "                                             'visitors': 'sum'}), axis=1).sort_values(by=['date','group'])\n",
    "\n",
    "# объединяем кумулятивные данные в одной таблице и присваиваем ее столбцам понятные названия\n",
    "cumulativeData = ordersAggregated.merge(visitorsAggregated, left_on=['date', 'group'], right_on=['date', 'group'])\n",
    "cumulativeData.columns = ['date', 'group', 'orders', 'buyers', 'revenue', 'visitors']\n",
    "\n",
    "display(cumulativeData.head())"
   ]
  },
  {
   "cell_type": "markdown",
   "metadata": {},
   "source": [
    "**Вывод:**\n",
    "\n",
    "Данные готовы для построения графиков."
   ]
  },
  {
   "cell_type": "markdown",
   "metadata": {},
   "source": [
    "### Кумулятивная выручка по группам"
   ]
  },
  {
   "cell_type": "markdown",
   "metadata": {},
   "source": [
    "Построим график кумулятивной выручки по группам A/B-тестирования:"
   ]
  },
  {
   "cell_type": "code",
   "execution_count": 19,
   "metadata": {},
   "outputs": [
    {
     "data": {
      "image/png": "[encoded data removed]",
      "text/plain": [
       "<Figure size 640x480 with 1 Axes>"
      ]
     },
     "metadata": {},
     "output_type": "display_data"
    }
   ],
   "source": [
    "# датафрейм с кумулятивным количеством заказов и кумулятивной выручкой по дням в группе А\n",
    "cumulativeRevenueA = cumulativeData[cumulativeData['group']=='A'][['date','revenue', 'orders']]\n",
    "\n",
    "# датафрейм с кумулятивным количеством заказов и кумулятивной выручкой по дням в группе B\n",
    "cumulativeRevenueB = cumulativeData[cumulativeData['group']=='B'][['date','revenue', 'orders']]\n",
    "\n",
    "# Строим график выручки группы А\n",
    "plt.plot(cumulativeRevenueA['date'], cumulativeRevenueA['revenue'], label='A')\n",
    "\n",
    "# Строим график выручки группы B\n",
    "plt.plot(cumulativeRevenueB['date'], cumulativeRevenueB['revenue'], label='B')\n",
    "\n",
    "plt.title('График кумулятивной выручки по группам')\n",
    "plt.ylabel('Выручка')\n",
    "plt.grid()\n",
    "plt.xticks(rotation=45)\n",
    "plt.legend() \n",
    "plt.show()"
   ]
  },
  {
   "cell_type": "markdown",
   "metadata": {},
   "source": [
    "**Вывод:**\n",
    "\n",
    "13 августа выручки обеих групп были равны. Выручка по группе А равномерно увеличивается в течение всего теста, а по группе В наблюдается резкий скачок в районе 18-19 августа, что может сигнализировать о всплесках числа заказов либо о появлении очень дорогих заказов в выборке. Такие выбросы проанализируем позднее в разделе 2.10 \"Стоимость заказов\"."
   ]
  },
  {
   "cell_type": "markdown",
   "metadata": {},
   "source": [
    "### Кумулятивный средний чек по группам"
   ]
  },
  {
   "cell_type": "markdown",
   "metadata": {},
   "source": [
    "Построим графики среднего чека по группам — разделим кумулятивную выручку на кумулятивное число заказов:"
   ]
  },
  {
   "cell_type": "code",
   "execution_count": 20,
   "metadata": {},
   "outputs": [
    {
     "data": {
      "image/png": "[encoded data removed]",
      "text/plain": [
       "<Figure size 640x480 with 1 Axes>"
      ]
     },
     "metadata": {},
     "output_type": "display_data"
    }
   ],
   "source": [
    "plt.plot(cumulativeRevenueA['date'], cumulativeRevenueA['revenue']/cumulativeRevenueA['orders'], label='A')\n",
    "plt.plot(cumulativeRevenueB['date'], cumulativeRevenueB['revenue']/cumulativeRevenueB['orders'], label='B')\n",
    "\n",
    "plt.title('График кумулятивного среднего чека по группам')\n",
    "plt.ylabel('Средний чек')\n",
    "plt.grid()\n",
    "plt.xticks(rotation=45)\n",
    "plt.legend()\n",
    "plt.show()"
   ]
  },
  {
   "cell_type": "markdown",
   "metadata": {},
   "source": [
    "**Вывод:**\n",
    "\n",
    "Средний чек постоянно колеблется, и не становится равномерным ближе к концу теста. По группе В к 18-19 августа также наблюжается резкий скачок стоимости. Нужно больше данных, чтобы прийти к реальному среднему чеку и установиться на его уровне."
   ]
  },
  {
   "cell_type": "markdown",
   "metadata": {},
   "source": [
    "### Относительное изменение кумулятивного среднего чека группы B к группе A"
   ]
  },
  {
   "cell_type": "markdown",
   "metadata": {},
   "source": [
    "Построим график относительного изменения кумулятивного среднего чека группы B к группе A. Добавим горизонтальную ось методом axhline() (от англ. horizontal line across the axis*, \"горизонтальная линия поперек оси\"):"
   ]
  },
  {
   "cell_type": "code",
   "execution_count": 21,
   "metadata": {},
   "outputs": [
    {
     "data": {
      "image/png": "[encoded data removed]",
      "text/plain": [
       "<Figure size 640x480 with 1 Axes>"
      ]
     },
     "metadata": {},
     "output_type": "display_data"
    }
   ],
   "source": [
    "# собираем данные в одном датафрейме\n",
    "mergedCumulativeRevenue = cumulativeRevenueA.merge(cumulativeRevenueB,\n",
    "                                                   left_on='date',\n",
    "                                                   right_on='date',\n",
    "                                                   how='left',\n",
    "                                                   suffixes=['A', 'B'])\n",
    "\n",
    "# cтроим отношение средних чеков\n",
    "plt.plot(mergedCumulativeRevenue['date'],\n",
    "         (mergedCumulativeRevenue['revenueB']/mergedCumulativeRevenue['ordersB'])/\\\n",
    "         (mergedCumulativeRevenue['revenueA']/mergedCumulativeRevenue['ordersA'])-1)\n",
    "\n",
    "# добавляем ось X\n",
    "plt.axhline(y=0, color='black', linestyle='--')\n",
    "\n",
    "plt.title('График относительного изменения кумулятивного среднего чека группы B к группе A')\n",
    "plt.grid()\n",
    "plt.xticks(rotation=45)\n",
    "plt.show()"
   ]
  },
  {
   "cell_type": "markdown",
   "metadata": {},
   "source": [
    "**Вывод:**\n",
    "\n",
    "В нескольких точках график различия между сегментами резко \"скачет\", то есть были крупные заказы и выбросы, которые найдем позже."
   ]
  },
  {
   "cell_type": "markdown",
   "metadata": {},
   "source": [
    "### Кумулятивное среднее количество заказов по группам"
   ]
  },
  {
   "cell_type": "markdown",
   "metadata": {},
   "source": [
    "Построим график кумулятивного среднего количества заказов по группам."
   ]
  },
  {
   "cell_type": "code",
   "execution_count": 22,
   "metadata": {},
   "outputs": [
    {
     "data": {
      "image/png": "[encoded data removed]",
      "text/plain": [
       "<Figure size 640x480 with 1 Axes>"
      ]
     },
     "metadata": {},
     "output_type": "display_data"
    }
   ],
   "source": [
    "# считаем кумулятивную конверсию\n",
    "cumulativeData['conversion'] = cumulativeData['orders']/cumulativeData['visitors']\n",
    "\n",
    "# отделяем данные по группе A\n",
    "cumulativeDataA = cumulativeData[cumulativeData['group']=='A']\n",
    "\n",
    "# отделяем данные по группе B\n",
    "cumulativeDataB = cumulativeData[cumulativeData['group']=='B']\n",
    "\n",
    "# строим графики\n",
    "plt.plot(cumulativeDataA['date'], cumulativeDataA['conversion'], label='A')\n",
    "plt.plot(cumulativeDataB['date'], cumulativeDataB['conversion'], label='B')\n",
    "\n",
    "\n",
    "plt.title('График  кумулятивного среднего количества заказов по группам')\n",
    "plt.ylabel('Конверсия')\n",
    "plt.grid()\n",
    "plt.xticks(rotation=45)\n",
    "plt.legend()\n",
    "plt.show()"
   ]
  },
  {
   "cell_type": "markdown",
   "metadata": {},
   "source": [
    "**Вывод:**\n",
    "\n",
    "После 05 августа график практически симметричный. Группы постоянно колеблются, но в целом можно сказать, что после первой недели тестирования графики зафиксировались. При этом конверсия группы В выше чем у группы А, хотя поначалу конверсия группы А лидировала. Первая неделя тестирования как правило не показательна, т.к. данные еще не стабилизировались, но в нашем случае четкой фиксации результата нет и в последующие недели тестирования."
   ]
  },
  {
   "cell_type": "markdown",
   "metadata": {},
   "source": [
    "### Относительное изменение кумулятивного среднего количества заказов группы B к группе A"
   ]
  },
  {
   "cell_type": "markdown",
   "metadata": {},
   "source": [
    "Построим график относительного изменения кумулятивного среднего количества заказов группы B к группе A."
   ]
  },
  {
   "cell_type": "code",
   "execution_count": 23,
   "metadata": {},
   "outputs": [
    {
     "data": {
      "image/png": "[encoded data removed]",
      "text/plain": [
       "<Figure size 640x480 with 1 Axes>"
      ]
     },
     "metadata": {},
     "output_type": "display_data"
    }
   ],
   "source": [
    "mergedCumulativeConversions = cumulativeDataA[['date','conversion']].merge(cumulativeDataB[['date','conversion']],\n",
    "                                                                           left_on='date',\n",
    "                                                                           right_on='date',\n",
    "                                                                           how='left',\n",
    "                                                                           suffixes=['A', 'B'])\n",
    "\n",
    "plt.plot(mergedCumulativeConversions['date'],\n",
    "         mergedCumulativeConversions['conversionB']/mergedCumulativeConversions['conversionA']-1,\n",
    "         label=\"Относительный прирост конверсии группы B относительно группы A\")\n",
    "\n",
    "plt.legend()\n",
    "plt.axhline(y=0, color='black', linestyle='--')\n",
    "plt.axhline(y=-0.1, color='grey', linestyle='--')\n",
    "plt.axhline(y=0.1, color='grey', linestyle='--')\n",
    "plt.axhline(y=0.15, color='grey', linestyle='--')\n",
    "plt.axhline(y=0.2, color='grey', linestyle='--')\n",
    "plt.title('График относительного изменения кумулятивного среднего количества заказов группы B к группе A')\n",
    "plt.xticks(rotation=45)\n",
    "plt.show()"
   ]
  },
  {
   "cell_type": "markdown",
   "metadata": {},
   "source": [
    "**Вывод:**\n",
    "\n",
    "В начале теста конверсия группы B была нестабильна - то проигрывала группе A, то вырывалась вперёд. После 05 августа конверсия группы В показала резкий рост, и далее в целом на протяжении оставшегося срока тестирования была выше чем у группы А, несколько снижаясь ближе к концу.\n",
    "\n",
    "В целом отношение конверсии установилось (примерно около 10-15%), но прежде чем делать какие-либо выводы по тесту, стоит проанализировать аномалии, которые возможно изменят картину."
   ]
  },
  {
   "cell_type": "markdown",
   "metadata": {},
   "source": [
    "### Количество заказов по пользователям"
   ]
  },
  {
   "cell_type": "markdown",
   "metadata": {},
   "source": [
    "Построим точечный график количества заказов по пользователям. Для начала подготовим данные и оставим нужные столбцы:"
   ]
  },
  {
   "cell_type": "code",
   "execution_count": 24,
   "metadata": {},
   "outputs": [
    {
     "data": {
      "text/html": [
       "<div>\n",
       "<style scoped>\n",
       "    .dataframe tbody tr th:only-of-type {\n",
       "        vertical-align: middle;\n",
       "    }\n",
       "\n",
       "    .dataframe tbody tr th {\n",
       "        vertical-align: top;\n",
       "    }\n",
       "\n",
       "    .dataframe thead th {\n",
       "        text-align: right;\n",
       "    }\n",
       "</style>\n",
       "<table border=\"1\" class=\"dataframe\">\n",
       "  <thead>\n",
       "    <tr style=\"text-align: right;\">\n",
       "      <th></th>\n",
       "      <th>visitor_id</th>\n",
       "      <th>orders</th>\n",
       "    </tr>\n",
       "  </thead>\n",
       "  <tbody>\n",
       "    <tr>\n",
       "      <th>908</th>\n",
       "      <td>3967698036</td>\n",
       "      <td>3</td>\n",
       "    </tr>\n",
       "    <tr>\n",
       "      <th>55</th>\n",
       "      <td>249864742</td>\n",
       "      <td>3</td>\n",
       "    </tr>\n",
       "    <tr>\n",
       "      <th>478</th>\n",
       "      <td>2108163459</td>\n",
       "      <td>3</td>\n",
       "    </tr>\n",
       "    <tr>\n",
       "      <th>687</th>\n",
       "      <td>2988190573</td>\n",
       "      <td>3</td>\n",
       "    </tr>\n",
       "    <tr>\n",
       "      <th>890</th>\n",
       "      <td>3908431265</td>\n",
       "      <td>3</td>\n",
       "    </tr>\n",
       "    <tr>\n",
       "      <th>138</th>\n",
       "      <td>611059232</td>\n",
       "      <td>3</td>\n",
       "    </tr>\n",
       "    <tr>\n",
       "      <th>632</th>\n",
       "      <td>2742574263</td>\n",
       "      <td>3</td>\n",
       "    </tr>\n",
       "    <tr>\n",
       "      <th>157</th>\n",
       "      <td>678354126</td>\n",
       "      <td>2</td>\n",
       "    </tr>\n",
       "    <tr>\n",
       "      <th>323</th>\n",
       "      <td>1404560065</td>\n",
       "      <td>2</td>\n",
       "    </tr>\n",
       "    <tr>\n",
       "      <th>452</th>\n",
       "      <td>1985475298</td>\n",
       "      <td>2</td>\n",
       "    </tr>\n",
       "  </tbody>\n",
       "</table>\n",
       "</div>"
      ],
      "text/plain": [
       "     visitor_id  orders\n",
       "908  3967698036       3\n",
       "55    249864742       3\n",
       "478  2108163459       3\n",
       "687  2988190573       3\n",
       "890  3908431265       3\n",
       "138   611059232       3\n",
       "632  2742574263       3\n",
       "157   678354126       2\n",
       "323  1404560065       2\n",
       "452  1985475298       2"
      ]
     },
     "metadata": {},
     "output_type": "display_data"
    }
   ],
   "source": [
    "ordersByUsers = (\n",
    "    orders.groupby('visitor_id', as_index=False)\n",
    "    .agg({'transaction_id': 'nunique'})\n",
    ")\n",
    "\n",
    "ordersByUsers.columns = ['visitor_id', 'orders']\n",
    "\n",
    "display(ordersByUsers.sort_values(by='orders', ascending=False).head(10))"
   ]
  },
  {
   "cell_type": "markdown",
   "metadata": {},
   "source": [
    "Наибольшее количество заказов, сделанных одним пользователем - 3. Построим точечную диаграмму числа заказов на одного пользователя:"
   ]
  },
  {
   "cell_type": "code",
   "execution_count": 25,
   "metadata": {},
   "outputs": [
    {
     "data": {
      "image/png": "[encoded data removed]",
      "text/plain": [
       "<Figure size 640x480 with 1 Axes>"
      ]
     },
     "metadata": {},
     "output_type": "display_data"
    }
   ],
   "source": [
    "x_orders = pd.Series(range(0,len(ordersByUsers)))\n",
    "\n",
    "plt.scatter(x_orders, ordersByUsers['orders'])\n",
    "plt.title('Точечный график количества заказов по пользователям')\n",
    "plt.ylabel('Количество заказов')\n",
    "plt.xlabel('Пользователи')\n",
    "plt.grid()\n",
    "plt.show()"
   ]
  },
  {
   "cell_type": "markdown",
   "metadata": {},
   "source": [
    "**Вывод:**\n",
    "\n",
    "Большинство пользователей совершает по одному заказу, но многие делают по 2 заказа, и реже три. При этом их точная доля не ясна, поэтому непонятно, считать их аномалиями или нет. Далее мы выберем границу для определения аномальных пользователей."
   ]
  },
  {
   "cell_type": "markdown",
   "metadata": {},
   "source": [
    "### 95-й и 99-й перцентили количества заказов на пользователя"
   ]
  },
  {
   "cell_type": "markdown",
   "metadata": {},
   "source": [
    "Посчитаем 95-й и 99-й перцентили количества заказов на пользователя:"
   ]
  },
  {
   "cell_type": "code",
   "execution_count": 26,
   "metadata": {},
   "outputs": [
    {
     "name": "stdout",
     "output_type": "stream",
     "text": [
      "[1. 2.]\n"
     ]
    }
   ],
   "source": [
    "print(np.percentile(ordersByUsers['orders'], [95, 99]))"
   ]
  },
  {
   "cell_type": "markdown",
   "metadata": {},
   "source": [
    "**Вывод:**\n",
    "\n",
    "Не более 5% пользователей оформляли больше чем 1 заказ. Только 1% пользователей делали больше 2 заказов. Соответственно, если пользователь делал больше 2-х заказов, это аномально много."
   ]
  },
  {
   "cell_type": "markdown",
   "metadata": {},
   "source": [
    "### Стоимость заказов"
   ]
  },
  {
   "cell_type": "markdown",
   "metadata": {},
   "source": [
    "Изучим данные о заказах:"
   ]
  },
  {
   "cell_type": "code",
   "execution_count": 27,
   "metadata": {},
   "outputs": [
    {
     "data": {
      "text/html": [
       "<div>\n",
       "<style scoped>\n",
       "    .dataframe tbody tr th:only-of-type {\n",
       "        vertical-align: middle;\n",
       "    }\n",
       "\n",
       "    .dataframe tbody tr th {\n",
       "        vertical-align: top;\n",
       "    }\n",
       "\n",
       "    .dataframe thead th {\n",
       "        text-align: right;\n",
       "    }\n",
       "</style>\n",
       "<table border=\"1\" class=\"dataframe\">\n",
       "  <thead>\n",
       "    <tr style=\"text-align: right;\">\n",
       "      <th></th>\n",
       "      <th>transaction_id</th>\n",
       "      <th>visitor_id</th>\n",
       "      <th>date</th>\n",
       "      <th>revenue</th>\n",
       "      <th>group</th>\n",
       "    </tr>\n",
       "  </thead>\n",
       "  <tbody>\n",
       "    <tr>\n",
       "      <th>425</th>\n",
       "      <td>590470918</td>\n",
       "      <td>1920142716</td>\n",
       "      <td>2019-08-19</td>\n",
       "      <td>1294500</td>\n",
       "      <td>B</td>\n",
       "    </tr>\n",
       "    <tr>\n",
       "      <th>1196</th>\n",
       "      <td>3936777065</td>\n",
       "      <td>2108080724</td>\n",
       "      <td>2019-08-15</td>\n",
       "      <td>202740</td>\n",
       "      <td>B</td>\n",
       "    </tr>\n",
       "    <tr>\n",
       "      <th>1136</th>\n",
       "      <td>666610489</td>\n",
       "      <td>1307669133</td>\n",
       "      <td>2019-08-13</td>\n",
       "      <td>92550</td>\n",
       "      <td>A</td>\n",
       "    </tr>\n",
       "    <tr>\n",
       "      <th>744</th>\n",
       "      <td>3668308183</td>\n",
       "      <td>888512513</td>\n",
       "      <td>2019-08-27</td>\n",
       "      <td>86620</td>\n",
       "      <td>B</td>\n",
       "    </tr>\n",
       "    <tr>\n",
       "      <th>743</th>\n",
       "      <td>3603576309</td>\n",
       "      <td>4133034833</td>\n",
       "      <td>2019-08-09</td>\n",
       "      <td>67990</td>\n",
       "      <td>A</td>\n",
       "    </tr>\n",
       "    <tr>\n",
       "      <th>1103</th>\n",
       "      <td>1348774318</td>\n",
       "      <td>1164614297</td>\n",
       "      <td>2019-08-12</td>\n",
       "      <td>66350</td>\n",
       "      <td>A</td>\n",
       "    </tr>\n",
       "    <tr>\n",
       "      <th>1099</th>\n",
       "      <td>316924019</td>\n",
       "      <td>148427295</td>\n",
       "      <td>2019-08-12</td>\n",
       "      <td>65710</td>\n",
       "      <td>A</td>\n",
       "    </tr>\n",
       "    <tr>\n",
       "      <th>949</th>\n",
       "      <td>1347999392</td>\n",
       "      <td>887908475</td>\n",
       "      <td>2019-08-21</td>\n",
       "      <td>60450</td>\n",
       "      <td>A</td>\n",
       "    </tr>\n",
       "    <tr>\n",
       "      <th>940</th>\n",
       "      <td>2420050534</td>\n",
       "      <td>4003628586</td>\n",
       "      <td>2019-08-08</td>\n",
       "      <td>58550</td>\n",
       "      <td>B</td>\n",
       "    </tr>\n",
       "    <tr>\n",
       "      <th>131</th>\n",
       "      <td>3163614039</td>\n",
       "      <td>2254586615</td>\n",
       "      <td>2019-08-22</td>\n",
       "      <td>53904</td>\n",
       "      <td>A</td>\n",
       "    </tr>\n",
       "  </tbody>\n",
       "</table>\n",
       "</div>"
      ],
      "text/plain": [
       "      transaction_id  visitor_id       date  revenue group\n",
       "425        590470918  1920142716 2019-08-19  1294500     B\n",
       "1196      3936777065  2108080724 2019-08-15   202740     B\n",
       "1136       666610489  1307669133 2019-08-13    92550     A\n",
       "744       3668308183   888512513 2019-08-27    86620     B\n",
       "743       3603576309  4133034833 2019-08-09    67990     A\n",
       "1103      1348774318  1164614297 2019-08-12    66350     A\n",
       "1099       316924019   148427295 2019-08-12    65710     A\n",
       "949       1347999392   887908475 2019-08-21    60450     A\n",
       "940       2420050534  4003628586 2019-08-08    58550     B\n",
       "131       3163614039  2254586615 2019-08-22    53904     A"
      ]
     },
     "metadata": {},
     "output_type": "display_data"
    }
   ],
   "source": [
    "display(orders.sort_values(by='revenue', ascending=False).head(10))"
   ]
  },
  {
   "cell_type": "markdown",
   "metadata": {},
   "source": [
    "Заказ с `transaction_id` 425 составил целых 1 294 500 руб. Если такой дорогой заказ попадёт в одну из групп теста, он сразу же исказит результаты и сделает победителем ту группу, где оказался. При этом такие покупки — редкость, исключение, которое проявилось не из-за тестирования гипотезы, а случайно.\n",
    "\n",
    "Такие аномально дорогие заказы следует удалять из теста. Можно провести и анализ самых дешёвых заказов, но из-за маленькой стоимости они слабо повлияют на средний чек."
   ]
  },
  {
   "cell_type": "markdown",
   "metadata": {},
   "source": [
    "Построим точечный график стоимости заказов:"
   ]
  },
  {
   "cell_type": "code",
   "execution_count": 28,
   "metadata": {},
   "outputs": [
    {
     "data": {
      "image/png": "[encoded data removed]",
      "text/plain": [
       "<Figure size 640x480 with 1 Axes>"
      ]
     },
     "metadata": {},
     "output_type": "display_data"
    }
   ],
   "source": [
    "x_values = pd.Series(range(0, len(orders['revenue'])))\n",
    "plt.scatter(x_values, orders['revenue'])\n",
    "plt.title('Точечный график стоимости заказов по пользователям')\n",
    "plt.ylabel('Стоимость заказа')\n",
    "plt.xlabel('Количество заказов')\n",
    "plt.grid()"
   ]
  },
  {
   "cell_type": "markdown",
   "metadata": {},
   "source": [
    "Уберем выбросы и построим более информативный график:"
   ]
  },
  {
   "cell_type": "code",
   "execution_count": 29,
   "metadata": {},
   "outputs": [
    {
     "data": {
      "image/png": "[encoded data removed]",
      "text/plain": [
       "<Figure size 640x480 with 1 Axes>"
      ]
     },
     "metadata": {},
     "output_type": "display_data"
    }
   ],
   "source": [
    "# убираем выбросы\n",
    "lim_orders = orders.query('revenue < 200000')\n",
    "\n",
    "# строим график еще раз\n",
    "x_values = pd.Series(range(0, len(lim_orders['revenue'])))\n",
    "plt.scatter(x_values, lim_orders['revenue'])\n",
    "plt.title('Точечный график стоимости заказов по пользователям')\n",
    "plt.ylabel('Стоимость заказа')\n",
    "plt.xlabel('Количество заказов')\n",
    "plt.grid()"
   ]
  },
  {
   "cell_type": "markdown",
   "metadata": {},
   "source": [
    "**Вывод:**\n",
    "\n",
    "Точечный график наглядно подтверждает данные таблицы, отсортированные от заказов - дорогих заказов всего два. Далее мы выберем границу для определения аномальных по стоимости заказов."
   ]
  },
  {
   "cell_type": "markdown",
   "metadata": {},
   "source": [
    "### 95-й и 99-й перцентили стоимости заказов"
   ]
  },
  {
   "cell_type": "markdown",
   "metadata": {},
   "source": [
    "Посчитаем 95-й и 99-й перцентили стоимости заказов:"
   ]
  },
  {
   "cell_type": "code",
   "execution_count": 30,
   "metadata": {},
   "outputs": [
    {
     "name": "stdout",
     "output_type": "stream",
     "text": [
      "[26785. 53904.]\n"
     ]
    }
   ],
   "source": [
    "print(np.percentile(orders['revenue'], [95, 99]))"
   ]
  },
  {
   "cell_type": "markdown",
   "metadata": {},
   "source": [
    "**Вывод:**\n",
    "\n",
    "Не более 5% заказов дороже 26 785 руб., и не более 1% дороже 53 904 руб. Заказы стоимостью выше 53 904 руб. можно принять за аномальные."
   ]
  },
  {
   "cell_type": "markdown",
   "metadata": {},
   "source": [
    "### Статистическая значимость"
   ]
  },
  {
   "cell_type": "markdown",
   "metadata": {},
   "source": [
    "Начнём с подготовки данных."
   ]
  },
  {
   "cell_type": "code",
   "execution_count": 31,
   "metadata": {},
   "outputs": [],
   "source": [
    "# определим количество пользователей группы А в день\n",
    "visitorsADaily = visitors[visitors['group'] == 'A'][['date', 'visitors']]\n",
    "visitorsADaily.columns = ['date', 'visitorsPerDateA']\n",
    "\n",
    "# определим кумулятивное количество пользователей группы А в день\n",
    "visitorsACummulative = visitorsADaily.apply(\n",
    "    lambda x: visitorsADaily[visitorsADaily['date'] <= x['date']].agg(\n",
    "        {'date': 'max', 'visitorsPerDateA': 'sum'}\n",
    "    ),\n",
    "    axis=1,\n",
    ")\n",
    "visitorsACummulative.columns = ['date', 'visitorsCummulativeA']\n",
    "\n",
    "# определим количество пользователей группы В в день\n",
    "visitorsBDaily = visitors[visitors['group'] == 'B'][['date', 'visitors']]\n",
    "visitorsBDaily.columns = ['date', 'visitorsPerDateB']\n",
    "\n",
    "# определим кумулятивное количество пользователей группы В в день\n",
    "visitorsBCummulative = visitorsBDaily.apply(\n",
    "    lambda x: visitorsBDaily[visitorsBDaily['date'] <= x['date']].agg(\n",
    "        {'date': 'max', 'visitorsPerDateB': 'sum'}\n",
    "    ),\n",
    "    axis=1,\n",
    ")\n",
    "visitorsBCummulative.columns = ['date', 'visitorsCummulativeB']\n",
    "\n",
    "# определим количество заказов и суммарную выручку группы А в день\n",
    "ordersADaily = (\n",
    "    orders[orders['group'] == 'A'][['date', 'transaction_id', 'visitor_id', 'revenue']]\n",
    "    .groupby('date', as_index=False)\n",
    "    .agg({'transaction_id': pd.Series.nunique, 'revenue': 'sum'})\n",
    ")\n",
    "ordersADaily.columns = ['date', 'ordersPerDateA', 'revenuePerDateA']\n",
    "\n",
    "# определим кумулятивное количество заказов и суммарную выручку группы А в день\n",
    "ordersACummulative = ordersADaily.apply(\n",
    "    lambda x: ordersADaily[ordersADaily['date'] <= x['date']].agg(\n",
    "        {'date': 'max', 'ordersPerDateA': 'sum', 'revenuePerDateA': 'sum'}\n",
    "    ),\n",
    "    axis=1,\n",
    ").sort_values(by=['date'])\n",
    "ordersACummulative.columns = [\n",
    "    'date',\n",
    "    'ordersCummulativeA',\n",
    "    'revenueCummulativeA',\n",
    "]\n",
    "\n",
    "# определим количество заказов и суммарную выручку группы В в день\n",
    "ordersBDaily = (\n",
    "    orders[orders['group'] == 'B'][['date', 'transaction_id', 'visitor_id', 'revenue']]\n",
    "    .groupby('date', as_index=False)\n",
    "    .agg({'transaction_id': pd.Series.nunique, 'revenue': 'sum'})\n",
    ")\n",
    "ordersBDaily.columns = ['date', 'ordersPerDateB', 'revenuePerDateB']\n",
    "\n",
    "# определим кумулятивное количество заказов и суммарную выручку группы В в день\n",
    "ordersBCummulative = ordersBDaily.apply(\n",
    "    lambda x: ordersBDaily[ordersBDaily['date'] <= x['date']].agg(\n",
    "        {'date': 'max', 'ordersPerDateB': 'sum', 'revenuePerDateB': 'sum'}\n",
    "    ),\n",
    "    axis=1,\n",
    ").sort_values(by=['date'])\n",
    "ordersBCummulative.columns = [\n",
    "    'date',\n",
    "    'ordersCummulativeB',\n",
    "    'revenueCummulativeB',\n",
    "]\n",
    "\n",
    "# объединим найденные данные в одну таблицу\n",
    "data = (\n",
    "    ordersADaily.merge(\n",
    "        ordersBDaily, left_on='date', right_on='date', how='left'\n",
    "    )\n",
    "    .merge(ordersACummulative, left_on='date', right_on='date', how='left')\n",
    "    .merge(ordersBCummulative, left_on='date', right_on='date', how='left')\n",
    "    .merge(visitorsADaily, left_on='date', right_on='date', how='left')\n",
    "    .merge(visitorsBDaily, left_on='date', right_on='date', how='left')\n",
    "    .merge(visitorsACummulative, left_on='date', right_on='date', how='left')\n",
    "    .merge(visitorsBCummulative, left_on='date', right_on='date', how='left')\n",
    ")\n",
    "\n",
    "# display(data.head())"
   ]
  },
  {
   "cell_type": "markdown",
   "metadata": {},
   "source": [
    "Названия столбцов данных:\n",
    "- date — дата;\n",
    "- ordersPerDateA — количество заказов в выбранную дату в группе A;\n",
    "- revenuePerDateA — суммарная выручка в выбранную дату в группе A;\n",
    "- ordersPerDateB — количество заказов в выбранную дату в группе B;\n",
    "- revenuePerDateB — суммарная выручка в выбранную дату в группе B;\n",
    "- ordersCummulativeA — суммарное число заказов до выбранной даты включительно в группе A;\n",
    "- revenueCummulativeA — суммарная выручка до выбранной даты включительно в группе A;\n",
    "- ordersCummulativeB — суммарное количество заказов до выбранной даты включительно в группе B;\n",
    "- revenueCummulativeB — суммарная выручка до выбранной даты включительно в группе B;\n",
    "- visitorsPerDateA — количество пользователей в выбранную дату в группе A;\n",
    "- visitorsPerDateB — количество пользователей в выбранную дату в группе B;\n",
    "- visitorsCummulativeA — количество пользователей до выбранной даты включительно в группе A;\n",
    "- visitorsCummulativeB — количество пользователей до выбранной даты включительно в группе B."
   ]
  },
  {
   "cell_type": "markdown",
   "metadata": {},
   "source": [
    "Посчитаем статистическую значимость различий в среднем количестве заказов между группами по \"сырым\" данным."
   ]
  },
  {
   "cell_type": "markdown",
   "metadata": {},
   "source": [
    "#### Cтатистическая значимость различий в среднем количестве заказов между группами по \"сырым\" данным"
   ]
  },
  {
   "cell_type": "markdown",
   "metadata": {},
   "source": [
    "Посчитаем статистическую значимость различий в среднем числе заказов на пользователя между группами по \"сырым\" данным — без удаления аномальных пользователей.\n",
    "\n",
    "Сформулируем гипотезы:\n",
    "- Нулевая: различий в среднем количестве заказов между группами нет.\n",
    "- Альтернативная: различия в среднем между группами есть."
   ]
  },
  {
   "cell_type": "markdown",
   "metadata": {},
   "source": [
    "Создадим переменные `ordersByUsersA` и `ordersByUsersB` со столбцами `['userId', 'orders']`. В них для пользователей, которые заказывали хотя бы 1 раз, укажем число совершённых заказов."
   ]
  },
  {
   "cell_type": "code",
   "execution_count": 32,
   "metadata": {},
   "outputs": [],
   "source": [
    "ordersByUsersA = (\n",
    "    orders[orders['group'] == 'A']\n",
    "    .groupby('visitor_id', as_index=False)\n",
    "    .agg({'transaction_id': pd.Series.nunique})\n",
    ")\n",
    "ordersByUsersA.columns = ['visitor_id', 'orders']\n",
    "\n",
    "ordersByUsersB = (\n",
    "    orders[orders['group'] == 'B']\n",
    "    .groupby('visitor_id', as_index=False)\n",
    "    .agg({'transaction_id': pd.Series.nunique})\n",
    ")\n",
    "ordersByUsersB.columns = ['visitor_id', 'orders']"
   ]
  },
  {
   "cell_type": "markdown",
   "metadata": {},
   "source": [
    "Объявим переменные `sampleA` и `sampleB`, в которых пользователям из разных групп будет соответствовать количество заказов. Тем, кто ничего не заказал, будут соответствовать нули. Это нужно, чтобы подготовить выборки к проверке критерием Манна-Уитни."
   ]
  },
  {
   "cell_type": "code",
   "execution_count": 33,
   "metadata": {},
   "outputs": [],
   "source": [
    "sampleA = pd.concat([ordersByUsersA['orders'],\n",
    "                     pd.Series(0, index=np.arange(data['visitorsPerDateA']\n",
    "                                                  .sum() - len(ordersByUsersA['orders'])),\n",
    "                               name='orders')],axis=0)\n",
    "\n",
    "sampleB = pd.concat([ordersByUsersB['orders'],\n",
    "                     pd.Series(0, index=np.arange(data['visitorsPerDateB']\n",
    "                                                  .sum() - len(ordersByUsersB['orders'])),\n",
    "                               name='orders')],axis=0)"
   ]
  },
  {
   "cell_type": "markdown",
   "metadata": {},
   "source": [
    "Воспользуемся критерием Манна-Уитни для разности двух долей."
   ]
  },
  {
   "cell_type": "code",
   "execution_count": 34,
   "metadata": {},
   "outputs": [
    {
     "name": "stdout",
     "output_type": "stream",
     "text": [
      "p-value: 0.011\n",
      "Разница в количестве заказов между группами: 0.160\n"
     ]
    }
   ],
   "source": [
    "print('p-value: {0:.3f}'.format(stats.mannwhitneyu(sampleA, sampleB)[1]))\n",
    "\n",
    "print('Разница в количестве заказов между группами: {0:.3f}'.format(sampleB.mean() / sampleA.mean() - 1))"
   ]
  },
  {
   "cell_type": "markdown",
   "metadata": {},
   "source": [
    "**Вывод:**\n",
    "\n",
    "p-value = 0.011 меньше 0.05. Значит, нулевую гипотезу о том, что статистически значимых различий в конверсии между группами нет, отвергаем. Относительный выигрыш группы B равен 16%."
   ]
  },
  {
   "cell_type": "markdown",
   "metadata": {},
   "source": [
    "#### Статистическая значимость различий в среднем чеке заказа между группами по \"сырым\" данным"
   ]
  },
  {
   "cell_type": "markdown",
   "metadata": {},
   "source": [
    "Посчитаем статистическую значимость различий в среднем чеке между группами по \"сырым\" данным — без удаления аномальных пользователей.\n",
    "\n",
    "Сформулируем гипотезы:\n",
    "- Нулевая: различий в среднем чеке между группами нет.\n",
    "- Альтернативная: различия в среднем между группами есть."
   ]
  },
  {
   "cell_type": "markdown",
   "metadata": {},
   "source": [
    "Чтобы рассчитать статистическую значимость различий в среднем чеке, передадим критерию mannwhitneyu() данные о выручке с заказов. Также найдём относительные различия в среднем чеке между группами:"
   ]
  },
  {
   "cell_type": "code",
   "execution_count": 35,
   "metadata": {},
   "outputs": [
    {
     "name": "stdout",
     "output_type": "stream",
     "text": [
      "p-value: 0.829\n",
      "Разница в среднем чеке заказа между группами: 0.287\n"
     ]
    }
   ],
   "source": [
    "print('p-value: {0:.3f}'.format(stats.mannwhitneyu(orders[orders['group']=='A']['revenue'],\n",
    "                                                   orders[orders['group']=='B']['revenue'])[1]))\n",
    "print('Разница в среднем чеке заказа между группами: {0:.3f}'.format(orders[orders['group']=='B']['revenue'].mean()/\\\n",
    "                                                                     orders[orders['group']=='A']['revenue'].mean()-1))"
   ]
  },
  {
   "cell_type": "markdown",
   "metadata": {},
   "source": [
    "**Вывод:**\n",
    "\n",
    "p-value = 0.829, что больше 0.05. Значит, нулевую гипотезу о том, что статистически значимых различий в среднем чеке между группами нет, не отвергаем. Различий в среднем чеке заказа между группами А и В нет, а наблюдаемое превышение среднего чека группы В на 28,7% не является значимым, получено случайно."
   ]
  },
  {
   "cell_type": "markdown",
   "metadata": {},
   "source": [
    "#### Статистическая значимость различий в среднем количестве заказов между группами по \"очищенным\" данным"
   ]
  },
  {
   "cell_type": "markdown",
   "metadata": {},
   "source": [
    "Посчитаем статистическую значимость различий в среднем числе заказов на пользователя между группами по \"очищенным\" данным.\n",
    "\n",
    "Сформулируем гипотезы:\n",
    "- Нулевая: различий в среднем количестве заказов между группами нет.\n",
    "- Альтернативная: различия в среднем между группами есть."
   ]
  },
  {
   "cell_type": "markdown",
   "metadata": {},
   "source": [
    "Для начала подготовим данные. Примем за аномальных пользователей тех, кто совершил от 2 заказов или совершил заказ дороже 53 904 рублей. Так мы уберём от 1% до 5% пользователей с наибольшим числом заказов и от 1% до 5% пользователей с дорогими заказами. Сделаем срезы пользователей с числом заказов больше 2 — `usersWithManyOrders` и пользователей, совершивших заказы дороже 53 904 — `usersWithExpensiveOrders`. Объединим их в таблице `abnormalUsers`."
   ]
  },
  {
   "cell_type": "markdown",
   "metadata": {},
   "source": [
    "Узнаем, сколько всего аномальных пользователей атрибутом `shape`."
   ]
  },
  {
   "cell_type": "code",
   "execution_count": 36,
   "metadata": {},
   "outputs": [
    {
     "name": "stdout",
     "output_type": "stream",
     "text": [
      "1099    148427295\n",
      "33      249864742\n",
      "58      611059232\n",
      "949     887908475\n",
      "744     888512513\n",
      "Name: visitor_id, dtype: int64\n",
      "16\n"
     ]
    }
   ],
   "source": [
    "# выведем в переменную order_99 99-й перцентиль количества заказов на пользователя\n",
    "order_99 = int(np.percentile(ordersByUsers['orders'], [99]))\n",
    "\n",
    "# в переменную revenue_99 - 99-й перцентиль стоимости заказов\n",
    "revenue_99 = int(np.percentile(orders['revenue'], [99]))\n",
    "\n",
    "usersWithManyOrders = pd.concat(\n",
    "    [\n",
    "        ordersByUsersA[ordersByUsersA['orders'] > order_99]['visitor_id'],\n",
    "        ordersByUsersB[ordersByUsersB['orders'] > order_99]['visitor_id'],\n",
    "    ],\n",
    "        axis=0,\n",
    ")\n",
    "# usersWithExpensiveOrders = orders[orders['revenue'] > revenue_99]['visitor_id']\n",
    "usersWithExpensiveOrders = orders[orders['revenue'] > int(np.percentile(orders['revenue'], [99]))]['visitor_id']\n",
    "abnormalUsers = (\n",
    "    pd.concat([usersWithManyOrders, usersWithExpensiveOrders], axis=0)\n",
    "    .drop_duplicates()\n",
    "    .sort_values()\n",
    ")\n",
    "print(abnormalUsers.head())\n",
    "print(abnormalUsers.shape[0])"
   ]
  },
  {
   "cell_type": "markdown",
   "metadata": {},
   "source": [
    "Всего 16 аномальных пользователей."
   ]
  },
  {
   "cell_type": "markdown",
   "metadata": {},
   "source": [
    "Узнаем, как их действия повлияли на результаты теста. Посчитаем статистическую значимость различий в среднем количестве заказов между группами теста по очищенным данным. Сначала подготовим выборки количества заказов по пользователям по группам теста:"
   ]
  },
  {
   "cell_type": "code",
   "execution_count": 37,
   "metadata": {},
   "outputs": [],
   "source": [
    "sampleAFiltered = pd.concat(\n",
    "    [\n",
    "        ordersByUsersA[\n",
    "            np.logical_not(ordersByUsersA['visitor_id'].isin(abnormalUsers))\n",
    "        ]['orders'],\n",
    "        pd.Series(\n",
    "            0,\n",
    "            index=np.arange(\n",
    "                data['visitorsPerDateA'].sum() - len(ordersByUsersA['orders'])\n",
    "            ),\n",
    "            name='orders',\n",
    "        ),\n",
    "    ],\n",
    "    axis=0,\n",
    ")\n",
    "\n",
    "sampleBFiltered = pd.concat(\n",
    "    [\n",
    "        ordersByUsersB[\n",
    "            np.logical_not(ordersByUsersB['visitor_id'].isin(abnormalUsers))\n",
    "        ]['orders'],\n",
    "        pd.Series(\n",
    "            0,\n",
    "            index=np.arange(\n",
    "                data['visitorsPerDateB'].sum() - len(ordersByUsersB['orders'])\n",
    "            ),\n",
    "            name='orders',\n",
    "        ),\n",
    "    ],\n",
    "    axis=0,\n",
    ")"
   ]
  },
  {
   "cell_type": "markdown",
   "metadata": {},
   "source": [
    "Применим статистический критерий Манна-Уитни к полученным выборкам:"
   ]
  },
  {
   "cell_type": "code",
   "execution_count": 38,
   "metadata": {},
   "outputs": [
    {
     "name": "stdout",
     "output_type": "stream",
     "text": [
      "p-value: 0.007\n",
      "Разница в количестве заказов между группами: 0.189\n"
     ]
    }
   ],
   "source": [
    "print('p-value: {0:.3f}'.format(stats.mannwhitneyu(sampleAFiltered, sampleBFiltered)[1]))\n",
    "print('Разница в количестве заказов между группами: {0:.3f}'.format(sampleBFiltered.mean()/sampleAFiltered.mean()-1))"
   ]
  },
  {
   "cell_type": "markdown",
   "metadata": {},
   "source": [
    "**Вывод:**\n",
    "\n",
    "p-value = 0.007 что меньше 0.05. Значит, нулевую гипотезу о том, что статистически значимых различий в конверсии между группами нет, отвергаем. То есть по \"очищенным\" данным, как и по \"сырым\", различия в конверсии групп A и B есть. По \"очищенным\" данным относительный выигрыш группы \"B\" над \"A\" равен 18,9% (по \"сырым\" данным - 16%)."
   ]
  },
  {
   "cell_type": "markdown",
   "metadata": {},
   "source": [
    "#### Статистическая значимость различий в среднем чеке заказа между группами по \"очищенным\" данным"
   ]
  },
  {
   "cell_type": "markdown",
   "metadata": {},
   "source": [
    "Посчитаем статистическую значимость различий в среднем чеке между группами по \"очищенным\" данным.\n",
    "\n",
    "Сформулируем гипотезы:\n",
    "- Нулевая: различий в среднем количестве заказов между группами нет.\n",
    "- Альтернативная: различия в среднем между группами есть."
   ]
  },
  {
   "cell_type": "markdown",
   "metadata": {},
   "source": [
    "Посмотрим, произошло ли что-нибудь с результатами по среднему чеку."
   ]
  },
  {
   "cell_type": "code",
   "execution_count": 39,
   "metadata": {},
   "outputs": [
    {
     "name": "stdout",
     "output_type": "stream",
     "text": [
      "p-value: 0.788\n",
      "Разница в среднем чеке заказа между группами: -0.032\n"
     ]
    }
   ],
   "source": [
    "print(\n",
    "    'p-value: {0:.3f}'.format(\n",
    "        stats.mannwhitneyu(\n",
    "            orders[\n",
    "                np.logical_and(\n",
    "                    orders['group'] == 'A',\n",
    "                    np.logical_not(orders['visitor_id'].isin(abnormalUsers)),\n",
    "                )\n",
    "            ]['revenue'],\n",
    "            orders[\n",
    "                np.logical_and(\n",
    "                    orders['group'] == 'B',\n",
    "                    np.logical_not(orders['visitor_id'].isin(abnormalUsers)),\n",
    "                )\n",
    "            ]['revenue'],\n",
    "        )[1]\n",
    "    )\n",
    ")\n",
    "\n",
    "print(\n",
    "    \"Разница в среднем чеке заказа между группами: {0:.3f}\".format(\n",
    "        orders[\n",
    "            np.logical_and(\n",
    "                orders['group'] == 'B',\n",
    "                np.logical_not(orders['visitor_id'].isin(abnormalUsers)),\n",
    "            )\n",
    "        ]['revenue'].mean()\n",
    "        / orders[\n",
    "            np.logical_and(\n",
    "                orders['group'] == 'A',\n",
    "                np.logical_not(orders['visitor_id'].isin(abnormalUsers)),\n",
    "            )\n",
    "        ]['revenue'].mean()\n",
    "        - 1\n",
    "    )\n",
    ")"
   ]
  },
  {
   "cell_type": "markdown",
   "metadata": {},
   "source": [
    "**Вывод:**\n",
    "\n",
    "P-value значительно больше 0.05, то есть мы не можем отвергнуть нулевую нипотезу. Средний чек группы B оказался незначительно ниже среднего чека группы A (на 3%), а по \"сырым\" данным, он был выше на почти на 29%. Такая существенная разница объясняется суммой аномального заказа №425 (почти 1,3 млн. руб.)."
   ]
  },
  {
   "cell_type": "markdown",
   "metadata": {},
   "source": [
    "### Решение по результатам теста"
   ]
  },
  {
   "cell_type": "markdown",
   "metadata": {},
   "source": [
    "Варианты решений: 1. Остановить тест, зафиксировать победу одной из групп. 2. Остановить тест, зафиксировать отсутствие различий между группами. 3. Продолжить тест."
   ]
  },
  {
   "cell_type": "markdown",
   "metadata": {},
   "source": [
    "Останвливаем тест, фиксируем победу группы B. После применения гипотезы конверсия увеличится на 18,9%, средний чек не изменится.\n",
    "\n",
    "При этом если нужно добиться не только улучшения конверсии, но и улучшения среднего чека, то тест следует остановить и признать неуспешным. Вероятность того, что в рамках теста мы добьемся статистически значимого различия по среднему чеку между группами, маловероятна."
   ]
  },
  {
   "cell_type": "markdown",
   "metadata": {},
   "source": [
    "## Общий вывод"
   ]
  },
  {
   "cell_type": "markdown",
   "metadata": {},
   "source": [
    "В целом результаты работы следующие. Практически на все гипотезы существенно повлиял параметр охвата пользовтелей (скольких пользователей затронет изменение, которое мы хотим внести). Это означает, что при приоритизаци гипотез мы не можем оставить его без внимания. С учетом предыдущих выводов целесообразно проверить следующие гипотезы:\n",
    "- №7. Добавить форму подписки на все основные страницы, чтобы собрать базу клиентов для email-рассылок.\n",
    "- №0. Добавить два новых канала привлечения трафика, что позволит привлекать на 30% больше пользователей\n",
    "\n",
    "Обе эти гипотезы вошли в тройку при приритизации обоими методами.\n",
    "\n",
    "Также стоит проверить гипотезу №2 \"Добавить блоки рекомендаций товаров на сайт интернет магазина, чтобы повысить конверсию и средний чек заказа\", т.к. результат ее применения повлияет на большое число пользователей.\n",
    "\n",
    "Что касается выручки, она расчет, и в группе В наодится на более высоком уровне. Необходимо учитывать влияние аномального заказа.\n",
    "\n",
    "Средний чек постоянно колеблется, и не становится равномерным ближе к концу теста. Нужно больше данных, чтобы прийти к реальному среднему чеку и установиться на его уровне.\n",
    "\n",
    "Конверсия группы В выше чем у группы А, тем не менее нельзя сказать что к концу тестирования график стабилизируется.\n",
    "\n",
    "Относительные различия среднего чека между группами колеблются на протяжении всего периода, лишь в нескольких точках различия близки к 0. Таким образом, в данных присутствуют аномалии.\n",
    "\n",
    "За аномальных пользователей были приняты те, кто совершил от 2 заказов или совершил заказ дороже 53 904 рублей. Так мы убрали от 1% до 5% пользователей с наибольшим числом заказов и от 1% до 5% пользователей с дорогими заказами.\n",
    "\n",
    "По результатам A/B теста:\n",
    "- Статистически значимые различия в среднем количестве заказов между группами по \"сырым\" и \"очищенным\" данным присутствуют.\n",
    "- Нет статистически значимых различий в среднем чеке заказа между группами по \"сырым\" и \"очищенным\" данным."
   ]
  }
 ],
 "metadata": {
  "ExecuteTimeLog": [
   {
    "duration": 1221,
    "start_time": "2022-11-14T18:51:28.270Z"
   },
   {
    "duration": 61,
    "start_time": "2022-11-14T18:53:28.300Z"
   },
   {
    "duration": 86,
    "start_time": "2022-11-14T18:56:37.913Z"
   },
   {
    "duration": 34,
    "start_time": "2022-11-14T18:57:02.941Z"
   },
   {
    "duration": 43,
    "start_time": "2022-11-14T18:59:36.476Z"
   },
   {
    "duration": 39,
    "start_time": "2022-11-14T19:02:33.850Z"
   },
   {
    "duration": 37,
    "start_time": "2022-11-14T19:02:38.396Z"
   },
   {
    "duration": 37,
    "start_time": "2022-11-14T19:02:53.404Z"
   },
   {
    "duration": 1233,
    "start_time": "2022-11-14T19:03:00.606Z"
   },
   {
    "duration": 45,
    "start_time": "2022-11-14T19:03:01.841Z"
   },
   {
    "duration": 1260,
    "start_time": "2022-11-14T19:03:11.478Z"
   },
   {
    "duration": 43,
    "start_time": "2022-11-14T19:03:12.740Z"
   },
   {
    "duration": 1203,
    "start_time": "2022-11-14T19:03:25.460Z"
   },
   {
    "duration": 43,
    "start_time": "2022-11-14T19:03:26.665Z"
   },
   {
    "duration": 1235,
    "start_time": "2022-11-14T19:03:35.647Z"
   },
   {
    "duration": 44,
    "start_time": "2022-11-14T19:03:36.885Z"
   },
   {
    "duration": 39,
    "start_time": "2022-11-14T19:05:01.228Z"
   },
   {
    "duration": 9,
    "start_time": "2022-11-14T19:07:27.079Z"
   },
   {
    "duration": 1223,
    "start_time": "2022-11-14T19:08:26.298Z"
   },
   {
    "duration": 53,
    "start_time": "2022-11-14T19:08:27.523Z"
   },
   {
    "duration": 10,
    "start_time": "2022-11-14T19:08:27.578Z"
   },
   {
    "duration": 40,
    "start_time": "2022-11-14T19:08:49.199Z"
   },
   {
    "duration": 38,
    "start_time": "2022-11-14T19:08:52.695Z"
   },
   {
    "duration": 1738,
    "start_time": "2022-11-14T19:14:59.579Z"
   },
   {
    "duration": 936,
    "start_time": "2022-11-14T19:15:44.245Z"
   },
   {
    "duration": 1147,
    "start_time": "2022-11-14T19:16:28.215Z"
   },
   {
    "duration": 1105,
    "start_time": "2022-11-14T19:16:50.741Z"
   },
   {
    "duration": 44,
    "start_time": "2022-11-14T19:16:51.848Z"
   },
   {
    "duration": 10,
    "start_time": "2022-11-14T19:16:51.894Z"
   },
   {
    "duration": 108,
    "start_time": "2022-11-14T19:16:51.906Z"
   },
   {
    "duration": 11,
    "start_time": "2022-11-14T19:17:47.737Z"
   },
   {
    "duration": 12,
    "start_time": "2022-11-14T19:18:00.339Z"
   },
   {
    "duration": 11,
    "start_time": "2022-11-14T19:18:52.790Z"
   },
   {
    "duration": 11,
    "start_time": "2022-11-14T19:21:46.701Z"
   },
   {
    "duration": 944,
    "start_time": "2022-11-14T19:22:04.319Z"
   },
   {
    "duration": 12,
    "start_time": "2022-11-14T19:22:19.406Z"
   },
   {
    "duration": 11,
    "start_time": "2022-11-14T19:27:29.999Z"
   },
   {
    "duration": 11,
    "start_time": "2022-11-14T20:48:37.247Z"
   },
   {
    "duration": 6,
    "start_time": "2022-11-14T20:48:54.789Z"
   },
   {
    "duration": 11,
    "start_time": "2022-11-14T20:49:17.467Z"
   },
   {
    "duration": 13,
    "start_time": "2022-11-14T20:49:36.558Z"
   },
   {
    "duration": 11,
    "start_time": "2022-11-14T20:49:42.530Z"
   },
   {
    "duration": 49,
    "start_time": "2022-11-14T21:04:05.602Z"
   },
   {
    "duration": 46,
    "start_time": "2022-11-14T21:11:11.818Z"
   },
   {
    "duration": 304,
    "start_time": "2022-11-14T21:11:51.880Z"
   },
   {
    "duration": 291,
    "start_time": "2022-11-14T21:13:23.439Z"
   },
   {
    "duration": 324,
    "start_time": "2022-11-14T21:14:23.929Z"
   },
   {
    "duration": 289,
    "start_time": "2022-11-14T21:14:52.157Z"
   },
   {
    "duration": 277,
    "start_time": "2022-11-14T21:16:06.752Z"
   },
   {
    "duration": 278,
    "start_time": "2022-11-14T21:16:30.405Z"
   },
   {
    "duration": 286,
    "start_time": "2022-11-14T21:16:55.256Z"
   },
   {
    "duration": 305,
    "start_time": "2022-11-14T21:21:02.176Z"
   },
   {
    "duration": 403,
    "start_time": "2022-11-14T21:21:12.304Z"
   },
   {
    "duration": 277,
    "start_time": "2022-11-14T21:22:24.828Z"
   },
   {
    "duration": 42,
    "start_time": "2022-11-14T21:31:03.677Z"
   },
   {
    "duration": 119,
    "start_time": "2022-11-14T21:31:37.864Z"
   },
   {
    "duration": 86,
    "start_time": "2022-11-14T21:32:53.191Z"
   },
   {
    "duration": 66,
    "start_time": "2022-11-14T21:34:42.360Z"
   },
   {
    "duration": 57,
    "start_time": "2022-11-14T21:43:03.914Z"
   },
   {
    "duration": 9,
    "start_time": "2022-11-14T21:43:18.813Z"
   },
   {
    "duration": 20,
    "start_time": "2022-11-14T21:44:07.247Z"
   },
   {
    "duration": 21,
    "start_time": "2022-11-14T21:45:09.277Z"
   },
   {
    "duration": 13,
    "start_time": "2022-11-14T21:48:04.134Z"
   },
   {
    "duration": 8,
    "start_time": "2022-11-14T21:48:13.967Z"
   },
   {
    "duration": 6,
    "start_time": "2022-11-14T21:48:21.041Z"
   },
   {
    "duration": 5,
    "start_time": "2022-11-14T21:57:26.416Z"
   },
   {
    "duration": 7,
    "start_time": "2022-11-14T21:57:50.269Z"
   },
   {
    "duration": 8,
    "start_time": "2022-11-14T21:58:02.633Z"
   },
   {
    "duration": 47,
    "start_time": "2022-11-14T22:01:23.335Z"
   },
   {
    "duration": 15,
    "start_time": "2022-11-14T22:03:27.765Z"
   },
   {
    "duration": 1208,
    "start_time": "2022-11-14T22:03:55.012Z"
   },
   {
    "duration": 44,
    "start_time": "2022-11-14T22:03:56.222Z"
   },
   {
    "duration": 9,
    "start_time": "2022-11-14T22:03:56.268Z"
   },
   {
    "duration": 16,
    "start_time": "2022-11-14T22:03:56.280Z"
   },
   {
    "duration": 17,
    "start_time": "2022-11-14T22:03:56.299Z"
   },
   {
    "duration": 344,
    "start_time": "2022-11-14T22:03:56.318Z"
   },
   {
    "duration": 64,
    "start_time": "2022-11-14T22:03:56.664Z"
   },
   {
    "duration": 24,
    "start_time": "2022-11-14T22:03:56.731Z"
   },
   {
    "duration": 42,
    "start_time": "2022-11-14T22:03:56.757Z"
   },
   {
    "duration": 23,
    "start_time": "2022-11-14T22:03:56.811Z"
   },
   {
    "duration": 7,
    "start_time": "2022-11-14T22:06:12.811Z"
   },
   {
    "duration": 5,
    "start_time": "2022-11-14T22:06:33.025Z"
   },
   {
    "duration": 54,
    "start_time": "2022-11-15T19:49:09.705Z"
   },
   {
    "duration": 1303,
    "start_time": "2022-11-15T19:49:21.656Z"
   },
   {
    "duration": 104,
    "start_time": "2022-11-15T19:49:22.961Z"
   },
   {
    "duration": 10,
    "start_time": "2022-11-15T19:49:23.067Z"
   },
   {
    "duration": 15,
    "start_time": "2022-11-15T19:49:23.080Z"
   },
   {
    "duration": 12,
    "start_time": "2022-11-15T19:49:23.096Z"
   },
   {
    "duration": 290,
    "start_time": "2022-11-15T19:49:23.110Z"
   },
   {
    "duration": 114,
    "start_time": "2022-11-15T19:49:23.402Z"
   },
   {
    "duration": 28,
    "start_time": "2022-11-15T19:49:23.517Z"
   },
   {
    "duration": 84,
    "start_time": "2022-11-15T19:49:23.546Z"
   },
   {
    "duration": 19,
    "start_time": "2022-11-15T19:49:23.632Z"
   },
   {
    "duration": 6,
    "start_time": "2022-11-15T19:49:23.652Z"
   },
   {
    "duration": 44,
    "start_time": "2022-11-15T20:16:20.765Z"
   },
   {
    "duration": 70,
    "start_time": "2022-11-15T20:16:27.567Z"
   },
   {
    "duration": 51,
    "start_time": "2022-11-15T20:16:38.204Z"
   },
   {
    "duration": 70,
    "start_time": "2022-11-15T20:16:54.711Z"
   },
   {
    "duration": 87,
    "start_time": "2022-11-15T20:17:03.280Z"
   },
   {
    "duration": 51,
    "start_time": "2022-11-15T20:17:31.997Z"
   },
   {
    "duration": 1019,
    "start_time": "2022-11-15T20:24:37.296Z"
   },
   {
    "duration": 91,
    "start_time": "2022-11-15T20:24:38.317Z"
   },
   {
    "duration": 7,
    "start_time": "2022-11-15T20:24:38.410Z"
   },
   {
    "duration": 31,
    "start_time": "2022-11-15T20:24:38.419Z"
   },
   {
    "duration": 13,
    "start_time": "2022-11-15T20:24:38.452Z"
   },
   {
    "duration": 291,
    "start_time": "2022-11-15T20:24:38.467Z"
   },
   {
    "duration": 52,
    "start_time": "2022-11-15T20:24:38.759Z"
   },
   {
    "duration": 34,
    "start_time": "2022-11-15T20:24:38.813Z"
   },
   {
    "duration": 29,
    "start_time": "2022-11-15T20:24:38.848Z"
   },
   {
    "duration": 13,
    "start_time": "2022-11-15T20:24:38.880Z"
   },
   {
    "duration": 5,
    "start_time": "2022-11-15T20:31:38.270Z"
   },
   {
    "duration": 6,
    "start_time": "2022-11-15T20:32:48.432Z"
   },
   {
    "duration": 111,
    "start_time": "2022-11-15T20:34:45.875Z"
   },
   {
    "duration": 26,
    "start_time": "2022-11-15T20:35:15.267Z"
   },
   {
    "duration": 1074,
    "start_time": "2022-11-15T20:38:41.333Z"
   },
   {
    "duration": 100,
    "start_time": "2022-11-15T20:38:42.409Z"
   },
   {
    "duration": 25,
    "start_time": "2022-11-15T20:38:42.511Z"
   },
   {
    "duration": 17,
    "start_time": "2022-11-15T20:38:42.538Z"
   },
   {
    "duration": 11,
    "start_time": "2022-11-15T20:38:42.557Z"
   },
   {
    "duration": 318,
    "start_time": "2022-11-15T20:38:42.571Z"
   },
   {
    "duration": 61,
    "start_time": "2022-11-15T20:38:42.891Z"
   },
   {
    "duration": 17,
    "start_time": "2022-11-15T20:38:42.953Z"
   },
   {
    "duration": 28,
    "start_time": "2022-11-15T20:38:42.972Z"
   },
   {
    "duration": 15,
    "start_time": "2022-11-15T20:38:43.001Z"
   },
   {
    "duration": 7,
    "start_time": "2022-11-15T20:38:43.030Z"
   },
   {
    "duration": 126,
    "start_time": "2022-11-15T20:38:43.039Z"
   },
   {
    "duration": 184,
    "start_time": "2022-11-15T20:40:09.814Z"
   },
   {
    "duration": 165,
    "start_time": "2022-11-15T20:41:13.939Z"
   },
   {
    "duration": 1026,
    "start_time": "2022-11-15T20:41:20.248Z"
   },
   {
    "duration": 103,
    "start_time": "2022-11-15T20:41:21.277Z"
   },
   {
    "duration": 10,
    "start_time": "2022-11-15T20:41:21.382Z"
   },
   {
    "duration": 29,
    "start_time": "2022-11-15T20:41:21.394Z"
   },
   {
    "duration": 13,
    "start_time": "2022-11-15T20:41:21.424Z"
   },
   {
    "duration": 334,
    "start_time": "2022-11-15T20:41:21.439Z"
   },
   {
    "duration": 66,
    "start_time": "2022-11-15T20:41:21.775Z"
   },
   {
    "duration": 19,
    "start_time": "2022-11-15T20:41:21.842Z"
   },
   {
    "duration": 30,
    "start_time": "2022-11-15T20:41:21.863Z"
   },
   {
    "duration": 33,
    "start_time": "2022-11-15T20:41:21.895Z"
   },
   {
    "duration": 9,
    "start_time": "2022-11-15T20:41:21.930Z"
   },
   {
    "duration": 198,
    "start_time": "2022-11-15T20:41:21.941Z"
   },
   {
    "duration": 154,
    "start_time": "2022-11-15T20:45:09.080Z"
   },
   {
    "duration": 162,
    "start_time": "2022-11-15T20:45:57.376Z"
   },
   {
    "duration": 199,
    "start_time": "2022-11-15T20:46:31.635Z"
   },
   {
    "duration": 106,
    "start_time": "2022-11-15T20:48:00.496Z"
   },
   {
    "duration": 1027,
    "start_time": "2022-11-15T20:48:12.599Z"
   },
   {
    "duration": 96,
    "start_time": "2022-11-15T20:48:13.638Z"
   },
   {
    "duration": 9,
    "start_time": "2022-11-15T20:48:13.736Z"
   },
   {
    "duration": 16,
    "start_time": "2022-11-15T20:48:13.748Z"
   },
   {
    "duration": 10,
    "start_time": "2022-11-15T20:48:13.766Z"
   },
   {
    "duration": 292,
    "start_time": "2022-11-15T20:48:13.777Z"
   },
   {
    "duration": 56,
    "start_time": "2022-11-15T20:48:14.070Z"
   },
   {
    "duration": 18,
    "start_time": "2022-11-15T20:48:14.136Z"
   },
   {
    "duration": 26,
    "start_time": "2022-11-15T20:48:14.156Z"
   },
   {
    "duration": 14,
    "start_time": "2022-11-15T20:48:14.185Z"
   },
   {
    "duration": 9,
    "start_time": "2022-11-15T20:48:14.200Z"
   },
   {
    "duration": 168,
    "start_time": "2022-11-15T20:48:14.211Z"
   },
   {
    "duration": 118,
    "start_time": "2022-11-15T20:48:14.380Z"
   },
   {
    "duration": 138,
    "start_time": "2022-11-15T20:49:06.805Z"
   },
   {
    "duration": 272,
    "start_time": "2022-11-15T20:50:21.747Z"
   },
   {
    "duration": 277,
    "start_time": "2022-11-15T20:50:28.253Z"
   },
   {
    "duration": 278,
    "start_time": "2022-11-15T20:50:48.176Z"
   },
   {
    "duration": 263,
    "start_time": "2022-11-15T20:52:18.758Z"
   },
   {
    "duration": 180,
    "start_time": "2022-11-15T20:56:29.271Z"
   },
   {
    "duration": 58,
    "start_time": "2022-11-15T20:57:14.618Z"
   },
   {
    "duration": 1131,
    "start_time": "2022-11-15T20:57:19.442Z"
   },
   {
    "duration": 43,
    "start_time": "2022-11-15T20:57:20.574Z"
   },
   {
    "duration": 15,
    "start_time": "2022-11-15T20:57:20.619Z"
   },
   {
    "duration": 25,
    "start_time": "2022-11-15T20:57:20.637Z"
   },
   {
    "duration": 12,
    "start_time": "2022-11-15T20:57:20.664Z"
   },
   {
    "duration": 310,
    "start_time": "2022-11-15T20:57:20.677Z"
   },
   {
    "duration": 64,
    "start_time": "2022-11-15T20:57:20.989Z"
   },
   {
    "duration": 18,
    "start_time": "2022-11-15T20:57:21.054Z"
   },
   {
    "duration": 39,
    "start_time": "2022-11-15T20:57:21.074Z"
   },
   {
    "duration": 30,
    "start_time": "2022-11-15T20:57:21.116Z"
   },
   {
    "duration": 7,
    "start_time": "2022-11-15T20:57:21.148Z"
   },
   {
    "duration": 198,
    "start_time": "2022-11-15T20:57:21.157Z"
   },
   {
    "duration": 122,
    "start_time": "2022-11-15T20:57:21.356Z"
   },
   {
    "duration": 319,
    "start_time": "2022-11-15T20:57:21.480Z"
   },
   {
    "duration": 301,
    "start_time": "2022-11-15T20:57:21.801Z"
   },
   {
    "duration": 195,
    "start_time": "2022-11-15T20:57:28.312Z"
   },
   {
    "duration": 3,
    "start_time": "2022-11-15T20:57:34.391Z"
   },
   {
    "duration": 191,
    "start_time": "2022-11-15T21:12:11.684Z"
   },
   {
    "duration": 177,
    "start_time": "2022-11-15T21:12:54.834Z"
   },
   {
    "duration": 230,
    "start_time": "2022-11-15T21:31:23.765Z"
   },
   {
    "duration": 287,
    "start_time": "2022-11-15T21:32:03.334Z"
   },
   {
    "duration": 174,
    "start_time": "2022-11-15T21:36:45.821Z"
   },
   {
    "duration": 253,
    "start_time": "2022-11-15T21:39:52.336Z"
   },
   {
    "duration": 203,
    "start_time": "2022-11-15T21:40:19.050Z"
   },
   {
    "duration": 392,
    "start_time": "2022-11-15T21:50:49.139Z"
   },
   {
    "duration": 270,
    "start_time": "2022-11-15T21:50:59.051Z"
   },
   {
    "duration": 330,
    "start_time": "2022-11-15T21:51:47.891Z"
   },
   {
    "duration": 332,
    "start_time": "2022-11-15T21:52:20.284Z"
   },
   {
    "duration": 334,
    "start_time": "2022-11-15T21:52:48.798Z"
   },
   {
    "duration": 283,
    "start_time": "2022-11-15T21:54:28.088Z"
   },
   {
    "duration": 269,
    "start_time": "2022-11-15T21:54:40.964Z"
   },
   {
    "duration": 308,
    "start_time": "2022-11-15T22:05:13.992Z"
   },
   {
    "duration": 56,
    "start_time": "2022-11-16T20:10:42.721Z"
   },
   {
    "duration": 1426,
    "start_time": "2022-11-16T20:11:08.782Z"
   },
   {
    "duration": 150,
    "start_time": "2022-11-16T20:11:10.211Z"
   },
   {
    "duration": 9,
    "start_time": "2022-11-16T20:11:10.363Z"
   },
   {
    "duration": 18,
    "start_time": "2022-11-16T20:11:10.374Z"
   },
   {
    "duration": 12,
    "start_time": "2022-11-16T20:11:10.394Z"
   },
   {
    "duration": 358,
    "start_time": "2022-11-16T20:11:10.409Z"
   },
   {
    "duration": 123,
    "start_time": "2022-11-16T20:11:10.769Z"
   },
   {
    "duration": 33,
    "start_time": "2022-11-16T20:11:10.894Z"
   },
   {
    "duration": 77,
    "start_time": "2022-11-16T20:11:10.929Z"
   },
   {
    "duration": 20,
    "start_time": "2022-11-16T20:11:11.010Z"
   },
   {
    "duration": 7,
    "start_time": "2022-11-16T20:11:11.032Z"
   },
   {
    "duration": 199,
    "start_time": "2022-11-16T20:11:11.041Z"
   },
   {
    "duration": 151,
    "start_time": "2022-11-16T20:11:11.242Z"
   },
   {
    "duration": 310,
    "start_time": "2022-11-16T20:11:11.395Z"
   },
   {
    "duration": 298,
    "start_time": "2022-11-16T20:11:11.707Z"
   },
   {
    "duration": 220,
    "start_time": "2022-11-16T20:11:12.007Z"
   },
   {
    "duration": 383,
    "start_time": "2022-11-16T20:11:12.229Z"
   },
   {
    "duration": 361,
    "start_time": "2022-11-16T20:11:12.614Z"
   },
   {
    "duration": 677,
    "start_time": "2022-11-16T20:11:12.977Z"
   },
   {
    "duration": 1102,
    "start_time": "2022-11-16T20:12:42.439Z"
   },
   {
    "duration": 103,
    "start_time": "2022-11-16T20:12:43.543Z"
   },
   {
    "duration": 10,
    "start_time": "2022-11-16T20:12:43.648Z"
   },
   {
    "duration": 14,
    "start_time": "2022-11-16T20:12:43.661Z"
   },
   {
    "duration": 14,
    "start_time": "2022-11-16T20:12:43.677Z"
   },
   {
    "duration": 379,
    "start_time": "2022-11-16T20:12:43.693Z"
   },
   {
    "duration": 60,
    "start_time": "2022-11-16T20:12:44.074Z"
   },
   {
    "duration": 31,
    "start_time": "2022-11-16T20:12:44.136Z"
   },
   {
    "duration": 41,
    "start_time": "2022-11-16T20:12:44.170Z"
   },
   {
    "duration": 41,
    "start_time": "2022-11-16T20:12:44.214Z"
   },
   {
    "duration": 7,
    "start_time": "2022-11-16T20:12:44.257Z"
   },
   {
    "duration": 245,
    "start_time": "2022-11-16T20:12:44.267Z"
   },
   {
    "duration": 145,
    "start_time": "2022-11-16T20:12:44.513Z"
   },
   {
    "duration": 326,
    "start_time": "2022-11-16T20:12:44.660Z"
   },
   {
    "duration": 371,
    "start_time": "2022-11-16T20:12:44.987Z"
   },
   {
    "duration": 225,
    "start_time": "2022-11-16T20:12:45.360Z"
   },
   {
    "duration": 401,
    "start_time": "2022-11-16T20:12:45.587Z"
   },
   {
    "duration": 506,
    "start_time": "2022-11-16T20:12:45.990Z"
   },
   {
    "duration": 602,
    "start_time": "2022-11-16T20:12:46.498Z"
   },
   {
    "duration": 100,
    "start_time": "2022-11-16T20:19:27.991Z"
   },
   {
    "duration": 10,
    "start_time": "2022-11-16T20:19:46.563Z"
   },
   {
    "duration": 11,
    "start_time": "2022-11-16T20:21:19.193Z"
   },
   {
    "duration": 11,
    "start_time": "2022-11-16T20:21:50.739Z"
   },
   {
    "duration": 10,
    "start_time": "2022-11-16T20:23:38.779Z"
   },
   {
    "duration": 10,
    "start_time": "2022-11-16T20:23:49.428Z"
   },
   {
    "duration": 22,
    "start_time": "2022-11-16T20:24:16.487Z"
   },
   {
    "duration": 1000,
    "start_time": "2022-11-16T20:24:31.613Z"
   },
   {
    "duration": 97,
    "start_time": "2022-11-16T20:24:32.615Z"
   },
   {
    "duration": 9,
    "start_time": "2022-11-16T20:24:32.715Z"
   },
   {
    "duration": 27,
    "start_time": "2022-11-16T20:24:32.726Z"
   },
   {
    "duration": 14,
    "start_time": "2022-11-16T20:24:32.755Z"
   },
   {
    "duration": 346,
    "start_time": "2022-11-16T20:24:32.771Z"
   },
   {
    "duration": 50,
    "start_time": "2022-11-16T20:24:33.119Z"
   },
   {
    "duration": 27,
    "start_time": "2022-11-16T20:24:33.171Z"
   },
   {
    "duration": 33,
    "start_time": "2022-11-16T20:24:33.200Z"
   },
   {
    "duration": 33,
    "start_time": "2022-11-16T20:24:33.236Z"
   },
   {
    "duration": 7,
    "start_time": "2022-11-16T20:24:33.271Z"
   },
   {
    "duration": 226,
    "start_time": "2022-11-16T20:24:33.279Z"
   },
   {
    "duration": 130,
    "start_time": "2022-11-16T20:24:33.507Z"
   },
   {
    "duration": 298,
    "start_time": "2022-11-16T20:24:33.639Z"
   },
   {
    "duration": 311,
    "start_time": "2022-11-16T20:24:33.939Z"
   },
   {
    "duration": 220,
    "start_time": "2022-11-16T20:24:34.252Z"
   },
   {
    "duration": 337,
    "start_time": "2022-11-16T20:24:34.473Z"
   },
   {
    "duration": 224,
    "start_time": "2022-11-16T20:24:34.812Z"
   },
   {
    "duration": 368,
    "start_time": "2022-11-16T20:24:35.038Z"
   },
   {
    "duration": 117,
    "start_time": "2022-11-16T20:24:35.408Z"
   },
   {
    "duration": 10,
    "start_time": "2022-11-16T20:25:28.831Z"
   },
   {
    "duration": 7,
    "start_time": "2022-11-16T20:26:28.269Z"
   },
   {
    "duration": 8,
    "start_time": "2022-11-16T20:36:12.982Z"
   },
   {
    "duration": 7,
    "start_time": "2022-11-16T20:36:17.371Z"
   },
   {
    "duration": 7,
    "start_time": "2022-11-16T20:40:36.858Z"
   },
   {
    "duration": 135,
    "start_time": "2022-11-16T20:42:40.413Z"
   },
   {
    "duration": 129,
    "start_time": "2022-11-16T20:50:28.487Z"
   },
   {
    "duration": 188,
    "start_time": "2022-11-16T20:54:20.414Z"
   },
   {
    "duration": 150,
    "start_time": "2022-11-16T20:55:22.860Z"
   },
   {
    "duration": 1243,
    "start_time": "2022-11-16T21:00:17.935Z"
   },
   {
    "duration": 43,
    "start_time": "2022-11-16T21:00:19.180Z"
   },
   {
    "duration": 10,
    "start_time": "2022-11-16T21:00:19.225Z"
   },
   {
    "duration": 41,
    "start_time": "2022-11-16T21:00:19.237Z"
   },
   {
    "duration": 13,
    "start_time": "2022-11-16T21:00:19.279Z"
   },
   {
    "duration": 320,
    "start_time": "2022-11-16T21:00:19.295Z"
   },
   {
    "duration": 60,
    "start_time": "2022-11-16T21:00:19.617Z"
   },
   {
    "duration": 37,
    "start_time": "2022-11-16T21:00:19.679Z"
   },
   {
    "duration": 50,
    "start_time": "2022-11-16T21:00:19.718Z"
   },
   {
    "duration": 25,
    "start_time": "2022-11-16T21:00:19.771Z"
   },
   {
    "duration": 16,
    "start_time": "2022-11-16T21:00:19.799Z"
   },
   {
    "duration": 187,
    "start_time": "2022-11-16T21:00:19.817Z"
   },
   {
    "duration": 156,
    "start_time": "2022-11-16T21:00:20.006Z"
   },
   {
    "duration": 302,
    "start_time": "2022-11-16T21:00:20.164Z"
   },
   {
    "duration": 303,
    "start_time": "2022-11-16T21:00:20.468Z"
   },
   {
    "duration": 198,
    "start_time": "2022-11-16T21:00:20.772Z"
   },
   {
    "duration": 294,
    "start_time": "2022-11-16T21:00:20.972Z"
   },
   {
    "duration": 221,
    "start_time": "2022-11-16T21:00:21.268Z"
   },
   {
    "duration": 317,
    "start_time": "2022-11-16T21:00:21.491Z"
   },
   {
    "duration": 10,
    "start_time": "2022-11-16T21:00:21.810Z"
   },
   {
    "duration": 151,
    "start_time": "2022-11-16T21:00:21.822Z"
   },
   {
    "duration": 7,
    "start_time": "2022-11-16T21:00:21.975Z"
   },
   {
    "duration": 229,
    "start_time": "2022-11-16T21:00:21.984Z"
   },
   {
    "duration": 216,
    "start_time": "2022-11-16T21:01:59.981Z"
   },
   {
    "duration": 172,
    "start_time": "2022-11-16T21:02:08.773Z"
   },
   {
    "duration": 1132,
    "start_time": "2022-11-16T21:02:22.669Z"
   },
   {
    "duration": 99,
    "start_time": "2022-11-16T21:02:23.804Z"
   },
   {
    "duration": 13,
    "start_time": "2022-11-16T21:02:23.905Z"
   },
   {
    "duration": 32,
    "start_time": "2022-11-16T21:02:23.920Z"
   },
   {
    "duration": 12,
    "start_time": "2022-11-16T21:02:23.954Z"
   },
   {
    "duration": 324,
    "start_time": "2022-11-16T21:02:23.968Z"
   },
   {
    "duration": 52,
    "start_time": "2022-11-16T21:02:24.293Z"
   },
   {
    "duration": 36,
    "start_time": "2022-11-16T21:02:24.347Z"
   },
   {
    "duration": 47,
    "start_time": "2022-11-16T21:02:24.385Z"
   },
   {
    "duration": 21,
    "start_time": "2022-11-16T21:02:24.436Z"
   },
   {
    "duration": 6,
    "start_time": "2022-11-16T21:02:24.459Z"
   },
   {
    "duration": 193,
    "start_time": "2022-11-16T21:02:24.466Z"
   },
   {
    "duration": 134,
    "start_time": "2022-11-16T21:02:24.661Z"
   },
   {
    "duration": 345,
    "start_time": "2022-11-16T21:02:24.797Z"
   },
   {
    "duration": 323,
    "start_time": "2022-11-16T21:02:25.144Z"
   },
   {
    "duration": 200,
    "start_time": "2022-11-16T21:02:25.470Z"
   },
   {
    "duration": 327,
    "start_time": "2022-11-16T21:02:25.672Z"
   },
   {
    "duration": 283,
    "start_time": "2022-11-16T21:02:26.001Z"
   },
   {
    "duration": 396,
    "start_time": "2022-11-16T21:02:26.286Z"
   },
   {
    "duration": 11,
    "start_time": "2022-11-16T21:02:26.684Z"
   },
   {
    "duration": 148,
    "start_time": "2022-11-16T21:02:26.697Z"
   },
   {
    "duration": 8,
    "start_time": "2022-11-16T21:02:26.851Z"
   },
   {
    "duration": 160,
    "start_time": "2022-11-16T21:02:26.862Z"
   },
   {
    "duration": 330,
    "start_time": "2022-11-16T21:04:12.093Z"
   },
   {
    "duration": 195,
    "start_time": "2022-11-16T21:04:33.413Z"
   },
   {
    "duration": 310,
    "start_time": "2022-11-16T21:04:45.067Z"
   },
   {
    "duration": 258,
    "start_time": "2022-11-16T21:05:01.031Z"
   },
   {
    "duration": 151,
    "start_time": "2022-11-16T21:05:19.953Z"
   },
   {
    "duration": 11,
    "start_time": "2022-11-16T21:05:30.561Z"
   },
   {
    "duration": 12,
    "start_time": "2022-11-16T21:05:38.352Z"
   },
   {
    "duration": 135,
    "start_time": "2022-11-16T21:05:52.849Z"
   },
   {
    "duration": 6,
    "start_time": "2022-11-16T21:08:53.357Z"
   },
   {
    "duration": 5,
    "start_time": "2022-11-16T21:09:02.146Z"
   },
   {
    "duration": 4,
    "start_time": "2022-11-16T21:19:11.517Z"
   },
   {
    "duration": 1309,
    "start_time": "2022-11-16T21:22:06.189Z"
   },
   {
    "duration": 1138,
    "start_time": "2022-11-16T21:22:12.375Z"
   },
   {
    "duration": 166,
    "start_time": "2022-11-16T21:23:51.013Z"
   },
   {
    "duration": 147,
    "start_time": "2022-11-16T21:26:18.419Z"
   },
   {
    "duration": 4,
    "start_time": "2022-11-16T21:28:10.727Z"
   },
   {
    "duration": 1042,
    "start_time": "2022-11-16T21:35:48.192Z"
   },
   {
    "duration": 99,
    "start_time": "2022-11-16T21:35:49.236Z"
   },
   {
    "duration": 9,
    "start_time": "2022-11-16T21:35:49.337Z"
   },
   {
    "duration": 14,
    "start_time": "2022-11-16T21:35:49.351Z"
   },
   {
    "duration": 12,
    "start_time": "2022-11-16T21:35:49.366Z"
   },
   {
    "duration": 337,
    "start_time": "2022-11-16T21:35:49.380Z"
   },
   {
    "duration": 56,
    "start_time": "2022-11-16T21:35:49.719Z"
   },
   {
    "duration": 35,
    "start_time": "2022-11-16T21:35:49.778Z"
   },
   {
    "duration": 47,
    "start_time": "2022-11-16T21:35:49.815Z"
   },
   {
    "duration": 19,
    "start_time": "2022-11-16T21:35:49.866Z"
   },
   {
    "duration": 6,
    "start_time": "2022-11-16T21:35:49.887Z"
   },
   {
    "duration": 194,
    "start_time": "2022-11-16T21:35:49.895Z"
   },
   {
    "duration": 140,
    "start_time": "2022-11-16T21:35:50.090Z"
   },
   {
    "duration": 292,
    "start_time": "2022-11-16T21:35:50.232Z"
   },
   {
    "duration": 295,
    "start_time": "2022-11-16T21:35:50.525Z"
   },
   {
    "duration": 202,
    "start_time": "2022-11-16T21:35:50.822Z"
   },
   {
    "duration": 332,
    "start_time": "2022-11-16T21:35:51.025Z"
   },
   {
    "duration": 231,
    "start_time": "2022-11-16T21:35:51.358Z"
   },
   {
    "duration": 312,
    "start_time": "2022-11-16T21:35:51.590Z"
   },
   {
    "duration": 11,
    "start_time": "2022-11-16T21:35:51.904Z"
   },
   {
    "duration": 149,
    "start_time": "2022-11-16T21:35:51.916Z"
   },
   {
    "duration": 4,
    "start_time": "2022-11-16T21:35:52.068Z"
   },
   {
    "duration": 20,
    "start_time": "2022-11-16T21:35:52.074Z"
   },
   {
    "duration": 173,
    "start_time": "2022-11-16T21:35:52.095Z"
   },
   {
    "duration": 4,
    "start_time": "2022-11-16T21:35:52.270Z"
   },
   {
    "duration": 56,
    "start_time": "2022-11-20T09:59:04.746Z"
   },
   {
    "duration": 41,
    "start_time": "2022-11-20T09:59:15.360Z"
   },
   {
    "duration": 63,
    "start_time": "2022-11-20T10:03:09.306Z"
   },
   {
    "duration": 12,
    "start_time": "2022-11-20T10:04:44.657Z"
   },
   {
    "duration": 1208,
    "start_time": "2022-11-20T10:05:14.036Z"
   },
   {
    "duration": 148,
    "start_time": "2022-11-20T10:05:15.246Z"
   },
   {
    "duration": 8,
    "start_time": "2022-11-20T10:05:15.395Z"
   },
   {
    "duration": 40,
    "start_time": "2022-11-20T10:05:15.405Z"
   },
   {
    "duration": 15,
    "start_time": "2022-11-20T10:05:15.447Z"
   },
   {
    "duration": 321,
    "start_time": "2022-11-20T10:05:15.464Z"
   },
   {
    "duration": 107,
    "start_time": "2022-11-20T10:05:15.786Z"
   },
   {
    "duration": 23,
    "start_time": "2022-11-20T10:05:15.895Z"
   },
   {
    "duration": 80,
    "start_time": "2022-11-20T10:05:15.920Z"
   },
   {
    "duration": 21,
    "start_time": "2022-11-20T10:05:16.003Z"
   },
   {
    "duration": 33,
    "start_time": "2022-11-20T10:05:16.027Z"
   },
   {
    "duration": 175,
    "start_time": "2022-11-20T10:05:16.062Z"
   },
   {
    "duration": 169,
    "start_time": "2022-11-20T10:05:16.239Z"
   },
   {
    "duration": 340,
    "start_time": "2022-11-20T10:05:16.411Z"
   },
   {
    "duration": 266,
    "start_time": "2022-11-20T10:05:16.753Z"
   },
   {
    "duration": 200,
    "start_time": "2022-11-20T10:05:17.020Z"
   },
   {
    "duration": 352,
    "start_time": "2022-11-20T10:05:17.223Z"
   },
   {
    "duration": 214,
    "start_time": "2022-11-20T10:05:17.576Z"
   },
   {
    "duration": 407,
    "start_time": "2022-11-20T10:05:17.791Z"
   },
   {
    "duration": 24,
    "start_time": "2022-11-20T10:05:18.201Z"
   },
   {
    "duration": 153,
    "start_time": "2022-11-20T10:05:18.228Z"
   },
   {
    "duration": 4,
    "start_time": "2022-11-20T10:05:18.383Z"
   },
   {
    "duration": 19,
    "start_time": "2022-11-20T10:05:18.389Z"
   },
   {
    "duration": 160,
    "start_time": "2022-11-20T10:05:18.416Z"
   },
   {
    "duration": 4,
    "start_time": "2022-11-20T10:05:18.577Z"
   },
   {
    "duration": 362,
    "start_time": "2022-11-20T10:05:18.582Z"
   },
   {
    "duration": 216,
    "start_time": "2022-11-20T10:05:36.475Z"
   },
   {
    "duration": 222,
    "start_time": "2022-11-20T10:05:51.578Z"
   },
   {
    "duration": 126,
    "start_time": "2022-11-20T10:09:49.269Z"
   },
   {
    "duration": 6,
    "start_time": "2022-11-20T10:19:34.597Z"
   },
   {
    "duration": 25,
    "start_time": "2022-11-20T10:22:49.782Z"
   },
   {
    "duration": 10,
    "start_time": "2022-11-20T10:30:12.190Z"
   },
   {
    "duration": 9,
    "start_time": "2022-11-20T10:38:51.118Z"
   },
   {
    "duration": 8,
    "start_time": "2022-11-20T10:40:47.194Z"
   },
   {
    "duration": 9,
    "start_time": "2022-11-20T10:40:49.502Z"
   },
   {
    "duration": 7,
    "start_time": "2022-11-20T10:40:51.295Z"
   },
   {
    "duration": 24,
    "start_time": "2022-11-20T10:41:16.293Z"
   },
   {
    "duration": 13,
    "start_time": "2022-11-20T10:42:36.354Z"
   },
   {
    "duration": 959,
    "start_time": "2022-11-20T10:42:47.480Z"
   },
   {
    "duration": 91,
    "start_time": "2022-11-20T10:42:48.441Z"
   },
   {
    "duration": 8,
    "start_time": "2022-11-20T10:42:48.536Z"
   },
   {
    "duration": 29,
    "start_time": "2022-11-20T10:42:48.546Z"
   },
   {
    "duration": 21,
    "start_time": "2022-11-20T10:42:48.576Z"
   },
   {
    "duration": 293,
    "start_time": "2022-11-20T10:42:48.599Z"
   },
   {
    "duration": 54,
    "start_time": "2022-11-20T10:42:48.893Z"
   },
   {
    "duration": 23,
    "start_time": "2022-11-20T10:42:48.949Z"
   },
   {
    "duration": 34,
    "start_time": "2022-11-20T10:42:48.975Z"
   },
   {
    "duration": 16,
    "start_time": "2022-11-20T10:42:49.010Z"
   },
   {
    "duration": 19,
    "start_time": "2022-11-20T10:42:49.028Z"
   },
   {
    "duration": 189,
    "start_time": "2022-11-20T10:42:49.048Z"
   },
   {
    "duration": 122,
    "start_time": "2022-11-20T10:42:49.239Z"
   },
   {
    "duration": 267,
    "start_time": "2022-11-20T10:42:49.362Z"
   },
   {
    "duration": 274,
    "start_time": "2022-11-20T10:42:49.631Z"
   },
   {
    "duration": 192,
    "start_time": "2022-11-20T10:42:49.907Z"
   },
   {
    "duration": 307,
    "start_time": "2022-11-20T10:42:50.100Z"
   },
   {
    "duration": 216,
    "start_time": "2022-11-20T10:42:50.409Z"
   },
   {
    "duration": 310,
    "start_time": "2022-11-20T10:42:50.627Z"
   },
   {
    "duration": 11,
    "start_time": "2022-11-20T10:42:50.940Z"
   },
   {
    "duration": 148,
    "start_time": "2022-11-20T10:42:50.952Z"
   },
   {
    "duration": 5,
    "start_time": "2022-11-20T10:42:51.101Z"
   },
   {
    "duration": 22,
    "start_time": "2022-11-20T10:42:51.115Z"
   },
   {
    "duration": 155,
    "start_time": "2022-11-20T10:42:51.139Z"
   },
   {
    "duration": 5,
    "start_time": "2022-11-20T10:42:51.296Z"
   },
   {
    "duration": 285,
    "start_time": "2022-11-20T10:42:51.303Z"
   },
   {
    "duration": 134,
    "start_time": "2022-11-20T10:42:51.592Z"
   },
   {
    "duration": 7,
    "start_time": "2022-11-20T10:42:51.728Z"
   },
   {
    "duration": 37,
    "start_time": "2022-11-20T10:42:51.736Z"
   },
   {
    "duration": 11,
    "start_time": "2022-11-20T10:42:51.774Z"
   },
   {
    "duration": 29,
    "start_time": "2022-11-20T10:42:51.787Z"
   },
   {
    "duration": 34,
    "start_time": "2022-11-20T10:42:51.817Z"
   },
   {
    "duration": 83,
    "start_time": "2022-11-20T10:42:51.852Z"
   },
   {
    "duration": 9,
    "start_time": "2022-11-20T10:43:40.935Z"
   },
   {
    "duration": 10,
    "start_time": "2022-11-20T10:44:33.036Z"
   },
   {
    "duration": 990,
    "start_time": "2022-11-20T10:44:53.636Z"
   },
   {
    "duration": 90,
    "start_time": "2022-11-20T10:44:54.627Z"
   },
   {
    "duration": 9,
    "start_time": "2022-11-20T10:44:54.718Z"
   },
   {
    "duration": 12,
    "start_time": "2022-11-20T10:44:54.728Z"
   },
   {
    "duration": 11,
    "start_time": "2022-11-20T10:44:54.741Z"
   },
   {
    "duration": 294,
    "start_time": "2022-11-20T10:44:54.753Z"
   },
   {
    "duration": 55,
    "start_time": "2022-11-20T10:44:55.049Z"
   },
   {
    "duration": 24,
    "start_time": "2022-11-20T10:44:55.106Z"
   },
   {
    "duration": 31,
    "start_time": "2022-11-20T10:44:55.132Z"
   },
   {
    "duration": 14,
    "start_time": "2022-11-20T10:44:55.166Z"
   },
   {
    "duration": 11,
    "start_time": "2022-11-20T10:44:55.181Z"
   },
   {
    "duration": 167,
    "start_time": "2022-11-20T10:44:55.194Z"
   },
   {
    "duration": 127,
    "start_time": "2022-11-20T10:44:55.363Z"
   },
   {
    "duration": 276,
    "start_time": "2022-11-20T10:44:55.491Z"
   },
   {
    "duration": 252,
    "start_time": "2022-11-20T10:44:55.768Z"
   },
   {
    "duration": 192,
    "start_time": "2022-11-20T10:44:56.021Z"
   },
   {
    "duration": 352,
    "start_time": "2022-11-20T10:44:56.216Z"
   },
   {
    "duration": 203,
    "start_time": "2022-11-20T10:44:56.569Z"
   },
   {
    "duration": 348,
    "start_time": "2022-11-20T10:44:56.774Z"
   },
   {
    "duration": 10,
    "start_time": "2022-11-20T10:44:57.124Z"
   },
   {
    "duration": 140,
    "start_time": "2022-11-20T10:44:57.136Z"
   },
   {
    "duration": 4,
    "start_time": "2022-11-20T10:44:57.278Z"
   },
   {
    "duration": 21,
    "start_time": "2022-11-20T10:44:57.284Z"
   },
   {
    "duration": 151,
    "start_time": "2022-11-20T10:44:57.307Z"
   },
   {
    "duration": 4,
    "start_time": "2022-11-20T10:44:57.460Z"
   },
   {
    "duration": 314,
    "start_time": "2022-11-20T10:44:57.466Z"
   },
   {
    "duration": 139,
    "start_time": "2022-11-20T10:44:57.782Z"
   },
   {
    "duration": 6,
    "start_time": "2022-11-20T10:44:57.924Z"
   },
   {
    "duration": 35,
    "start_time": "2022-11-20T10:44:57.931Z"
   },
   {
    "duration": 10,
    "start_time": "2022-11-20T10:44:57.967Z"
   },
   {
    "duration": 20,
    "start_time": "2022-11-20T10:44:57.979Z"
   },
   {
    "duration": 16,
    "start_time": "2022-11-20T10:44:58.001Z"
   },
   {
    "duration": 39,
    "start_time": "2022-11-20T10:44:58.019Z"
   },
   {
    "duration": 871,
    "start_time": "2022-11-20T10:48:43.042Z"
   },
   {
    "duration": 17,
    "start_time": "2022-11-20T10:49:02.371Z"
   },
   {
    "duration": 1071,
    "start_time": "2022-11-20T11:29:49.207Z"
   },
   {
    "duration": 90,
    "start_time": "2022-11-20T11:29:50.279Z"
   },
   {
    "duration": 8,
    "start_time": "2022-11-20T11:29:50.371Z"
   },
   {
    "duration": 14,
    "start_time": "2022-11-20T11:29:50.380Z"
   },
   {
    "duration": 21,
    "start_time": "2022-11-20T11:29:50.395Z"
   },
   {
    "duration": 269,
    "start_time": "2022-11-20T11:29:50.418Z"
   },
   {
    "duration": 54,
    "start_time": "2022-11-20T11:29:50.689Z"
   },
   {
    "duration": 23,
    "start_time": "2022-11-20T11:29:50.744Z"
   },
   {
    "duration": 37,
    "start_time": "2022-11-20T11:29:50.768Z"
   },
   {
    "duration": 16,
    "start_time": "2022-11-20T11:29:50.807Z"
   },
   {
    "duration": 5,
    "start_time": "2022-11-20T11:29:50.825Z"
   },
   {
    "duration": 176,
    "start_time": "2022-11-20T11:29:50.831Z"
   },
   {
    "duration": 117,
    "start_time": "2022-11-20T11:29:51.009Z"
   },
   {
    "duration": 289,
    "start_time": "2022-11-20T11:29:51.127Z"
   },
   {
    "duration": 260,
    "start_time": "2022-11-20T11:29:51.417Z"
   },
   {
    "duration": 200,
    "start_time": "2022-11-20T11:29:51.678Z"
   },
   {
    "duration": 330,
    "start_time": "2022-11-20T11:29:51.879Z"
   },
   {
    "duration": 214,
    "start_time": "2022-11-20T11:29:52.211Z"
   },
   {
    "duration": 331,
    "start_time": "2022-11-20T11:29:52.427Z"
   },
   {
    "duration": 11,
    "start_time": "2022-11-20T11:29:52.759Z"
   },
   {
    "duration": 137,
    "start_time": "2022-11-20T11:29:52.772Z"
   },
   {
    "duration": 7,
    "start_time": "2022-11-20T11:29:52.910Z"
   },
   {
    "duration": 21,
    "start_time": "2022-11-20T11:29:52.918Z"
   },
   {
    "duration": 145,
    "start_time": "2022-11-20T11:29:52.941Z"
   },
   {
    "duration": 4,
    "start_time": "2022-11-20T11:29:53.088Z"
   },
   {
    "duration": 306,
    "start_time": "2022-11-20T11:29:53.093Z"
   },
   {
    "duration": 130,
    "start_time": "2022-11-20T11:29:53.401Z"
   },
   {
    "duration": 6,
    "start_time": "2022-11-20T11:29:53.534Z"
   },
   {
    "duration": 29,
    "start_time": "2022-11-20T11:29:53.542Z"
   },
   {
    "duration": 11,
    "start_time": "2022-11-20T11:29:53.573Z"
   },
   {
    "duration": 24,
    "start_time": "2022-11-20T11:29:53.585Z"
   },
   {
    "duration": 8,
    "start_time": "2022-11-20T11:29:53.615Z"
   },
   {
    "duration": 35,
    "start_time": "2022-11-20T11:29:53.625Z"
   },
   {
    "duration": 12,
    "start_time": "2022-11-20T11:29:53.663Z"
   },
   {
    "duration": 1050,
    "start_time": "2022-11-20T15:11:55.233Z"
   },
   {
    "duration": 142,
    "start_time": "2022-11-20T15:11:56.285Z"
   },
   {
    "duration": 9,
    "start_time": "2022-11-20T15:11:56.428Z"
   },
   {
    "duration": 28,
    "start_time": "2022-11-20T15:11:56.440Z"
   },
   {
    "duration": 11,
    "start_time": "2022-11-20T15:11:56.470Z"
   },
   {
    "duration": 315,
    "start_time": "2022-11-20T15:11:56.482Z"
   },
   {
    "duration": 87,
    "start_time": "2022-11-20T15:11:56.799Z"
   },
   {
    "duration": 27,
    "start_time": "2022-11-20T15:11:56.887Z"
   },
   {
    "duration": 73,
    "start_time": "2022-11-20T15:11:56.915Z"
   },
   {
    "duration": 16,
    "start_time": "2022-11-20T15:11:56.991Z"
   },
   {
    "duration": 11,
    "start_time": "2022-11-20T15:11:57.008Z"
   },
   {
    "duration": 183,
    "start_time": "2022-11-20T15:11:57.020Z"
   },
   {
    "duration": 133,
    "start_time": "2022-11-20T15:11:57.205Z"
   },
   {
    "duration": 283,
    "start_time": "2022-11-20T15:11:57.340Z"
   },
   {
    "duration": 298,
    "start_time": "2022-11-20T15:11:57.625Z"
   },
   {
    "duration": 209,
    "start_time": "2022-11-20T15:11:57.925Z"
   },
   {
    "duration": 319,
    "start_time": "2022-11-20T15:11:58.136Z"
   },
   {
    "duration": 227,
    "start_time": "2022-11-20T15:11:58.457Z"
   },
   {
    "duration": 382,
    "start_time": "2022-11-20T15:11:58.687Z"
   },
   {
    "duration": 11,
    "start_time": "2022-11-20T15:11:59.071Z"
   },
   {
    "duration": 161,
    "start_time": "2022-11-20T15:11:59.084Z"
   },
   {
    "duration": 5,
    "start_time": "2022-11-20T15:11:59.246Z"
   },
   {
    "duration": 13,
    "start_time": "2022-11-20T15:11:59.253Z"
   },
   {
    "duration": 173,
    "start_time": "2022-11-20T15:11:59.268Z"
   },
   {
    "duration": 4,
    "start_time": "2022-11-20T15:11:59.442Z"
   },
   {
    "duration": 318,
    "start_time": "2022-11-20T15:11:59.449Z"
   },
   {
    "duration": 176,
    "start_time": "2022-11-20T15:11:59.769Z"
   },
   {
    "duration": 7,
    "start_time": "2022-11-20T15:11:59.948Z"
   },
   {
    "duration": 26,
    "start_time": "2022-11-20T15:11:59.957Z"
   },
   {
    "duration": 12,
    "start_time": "2022-11-20T15:11:59.985Z"
   },
   {
    "duration": 30,
    "start_time": "2022-11-20T15:11:59.999Z"
   },
   {
    "duration": 16,
    "start_time": "2022-11-20T15:12:00.032Z"
   },
   {
    "duration": 24,
    "start_time": "2022-11-20T15:12:00.049Z"
   },
   {
    "duration": 14,
    "start_time": "2022-11-20T15:12:00.074Z"
   },
   {
    "duration": 1389,
    "start_time": "2022-11-20T18:49:40.033Z"
   },
   {
    "duration": 190,
    "start_time": "2022-11-20T18:49:41.424Z"
   },
   {
    "duration": 8,
    "start_time": "2022-11-20T18:49:41.615Z"
   },
   {
    "duration": 46,
    "start_time": "2022-11-20T18:49:41.625Z"
   },
   {
    "duration": 13,
    "start_time": "2022-11-20T18:49:41.680Z"
   },
   {
    "duration": 375,
    "start_time": "2022-11-20T18:49:41.695Z"
   },
   {
    "duration": 136,
    "start_time": "2022-11-20T18:49:42.072Z"
   },
   {
    "duration": 25,
    "start_time": "2022-11-20T18:49:42.209Z"
   },
   {
    "duration": 121,
    "start_time": "2022-11-20T18:49:42.236Z"
   },
   {
    "duration": 25,
    "start_time": "2022-11-20T18:49:42.360Z"
   },
   {
    "duration": 22,
    "start_time": "2022-11-20T18:49:42.387Z"
   },
   {
    "duration": 253,
    "start_time": "2022-11-20T18:49:42.411Z"
   },
   {
    "duration": 150,
    "start_time": "2022-11-20T18:49:42.670Z"
   },
   {
    "duration": 346,
    "start_time": "2022-11-20T18:49:42.822Z"
   },
   {
    "duration": 378,
    "start_time": "2022-11-20T18:49:43.170Z"
   },
   {
    "duration": 266,
    "start_time": "2022-11-20T18:49:43.550Z"
   },
   {
    "duration": 475,
    "start_time": "2022-11-20T18:49:43.818Z"
   },
   {
    "duration": 276,
    "start_time": "2022-11-20T18:49:44.295Z"
   },
   {
    "duration": 347,
    "start_time": "2022-11-20T18:49:44.576Z"
   },
   {
    "duration": 15,
    "start_time": "2022-11-20T18:49:44.925Z"
   },
   {
    "duration": 173,
    "start_time": "2022-11-20T18:49:44.951Z"
   },
   {
    "duration": 5,
    "start_time": "2022-11-20T18:49:45.126Z"
   },
   {
    "duration": 40,
    "start_time": "2022-11-20T18:49:45.145Z"
   },
   {
    "duration": 216,
    "start_time": "2022-11-20T18:49:45.187Z"
   },
   {
    "duration": 4,
    "start_time": "2022-11-20T18:49:45.405Z"
   },
   {
    "duration": 395,
    "start_time": "2022-11-20T18:49:45.411Z"
   },
   {
    "duration": 216,
    "start_time": "2022-11-20T18:49:45.808Z"
   },
   {
    "duration": 6,
    "start_time": "2022-11-20T18:49:46.028Z"
   },
   {
    "duration": 69,
    "start_time": "2022-11-20T18:49:46.042Z"
   },
   {
    "duration": 14,
    "start_time": "2022-11-20T18:49:46.113Z"
   },
   {
    "duration": 25,
    "start_time": "2022-11-20T18:49:46.130Z"
   },
   {
    "duration": 29,
    "start_time": "2022-11-20T18:49:46.164Z"
   },
   {
    "duration": 30,
    "start_time": "2022-11-20T18:49:46.195Z"
   },
   {
    "duration": 28,
    "start_time": "2022-11-20T18:49:46.228Z"
   },
   {
    "duration": 1057,
    "start_time": "2022-11-21T01:14:29.715Z"
   },
   {
    "duration": 104,
    "start_time": "2022-11-21T01:14:30.774Z"
   },
   {
    "duration": 9,
    "start_time": "2022-11-21T01:14:30.880Z"
   },
   {
    "duration": 37,
    "start_time": "2022-11-21T01:14:30.891Z"
   },
   {
    "duration": 38,
    "start_time": "2022-11-21T01:14:30.930Z"
   },
   {
    "duration": 286,
    "start_time": "2022-11-21T01:14:30.970Z"
   },
   {
    "duration": 58,
    "start_time": "2022-11-21T01:14:31.258Z"
   },
   {
    "duration": 25,
    "start_time": "2022-11-21T01:14:31.318Z"
   },
   {
    "duration": 32,
    "start_time": "2022-11-21T01:14:31.344Z"
   },
   {
    "duration": 16,
    "start_time": "2022-11-21T01:14:31.378Z"
   },
   {
    "duration": 5,
    "start_time": "2022-11-21T01:14:31.396Z"
   },
   {
    "duration": 179,
    "start_time": "2022-11-21T01:14:31.403Z"
   },
   {
    "duration": 119,
    "start_time": "2022-11-21T01:14:31.584Z"
   },
   {
    "duration": 258,
    "start_time": "2022-11-21T01:14:31.705Z"
   },
   {
    "duration": 267,
    "start_time": "2022-11-21T01:14:31.965Z"
   },
   {
    "duration": 180,
    "start_time": "2022-11-21T01:14:32.236Z"
   },
   {
    "duration": 308,
    "start_time": "2022-11-21T01:14:32.418Z"
   },
   {
    "duration": 211,
    "start_time": "2022-11-21T01:14:32.728Z"
   },
   {
    "duration": 331,
    "start_time": "2022-11-21T01:14:32.941Z"
   },
   {
    "duration": 10,
    "start_time": "2022-11-21T01:14:33.274Z"
   },
   {
    "duration": 138,
    "start_time": "2022-11-21T01:14:33.285Z"
   },
   {
    "duration": 12,
    "start_time": "2022-11-21T01:14:33.424Z"
   },
   {
    "duration": 21,
    "start_time": "2022-11-21T01:14:33.438Z"
   },
   {
    "duration": 150,
    "start_time": "2022-11-21T01:14:33.460Z"
   },
   {
    "duration": 4,
    "start_time": "2022-11-21T01:14:33.612Z"
   },
   {
    "duration": 315,
    "start_time": "2022-11-21T01:14:33.617Z"
   },
   {
    "duration": 144,
    "start_time": "2022-11-21T01:14:33.933Z"
   },
   {
    "duration": 6,
    "start_time": "2022-11-21T01:14:34.080Z"
   },
   {
    "duration": 25,
    "start_time": "2022-11-21T01:14:34.087Z"
   },
   {
    "duration": 24,
    "start_time": "2022-11-21T01:14:34.113Z"
   },
   {
    "duration": 12,
    "start_time": "2022-11-21T01:14:34.139Z"
   },
   {
    "duration": 17,
    "start_time": "2022-11-21T01:14:34.153Z"
   },
   {
    "duration": 26,
    "start_time": "2022-11-21T01:14:34.172Z"
   },
   {
    "duration": 18,
    "start_time": "2022-11-21T01:14:34.200Z"
   },
   {
    "duration": 48,
    "start_time": "2022-11-25T14:27:11.670Z"
   },
   {
    "duration": 7,
    "start_time": "2022-11-25T14:27:16.313Z"
   },
   {
    "duration": 1212,
    "start_time": "2022-11-25T14:27:26.287Z"
   },
   {
    "duration": 142,
    "start_time": "2022-11-25T14:27:27.501Z"
   },
   {
    "duration": 7,
    "start_time": "2022-11-25T14:27:27.645Z"
   },
   {
    "duration": 16,
    "start_time": "2022-11-25T14:27:27.654Z"
   },
   {
    "duration": 11,
    "start_time": "2022-11-25T14:27:27.672Z"
   },
   {
    "duration": 313,
    "start_time": "2022-11-25T14:27:27.684Z"
   },
   {
    "duration": 83,
    "start_time": "2022-11-25T14:27:27.999Z"
   },
   {
    "duration": 27,
    "start_time": "2022-11-25T14:27:28.084Z"
   },
   {
    "duration": 97,
    "start_time": "2022-11-25T14:27:28.112Z"
   },
   {
    "duration": 16,
    "start_time": "2022-11-25T14:27:28.212Z"
   },
   {
    "duration": 6,
    "start_time": "2022-11-25T14:27:28.230Z"
   },
   {
    "duration": 168,
    "start_time": "2022-11-25T14:27:28.238Z"
   },
   {
    "duration": 133,
    "start_time": "2022-11-25T14:27:28.408Z"
   },
   {
    "duration": 276,
    "start_time": "2022-11-25T14:27:28.543Z"
   },
   {
    "duration": 353,
    "start_time": "2022-11-25T14:27:28.820Z"
   },
   {
    "duration": 196,
    "start_time": "2022-11-25T14:27:29.174Z"
   },
   {
    "duration": 350,
    "start_time": "2022-11-25T14:27:29.372Z"
   },
   {
    "duration": 224,
    "start_time": "2022-11-25T14:27:29.724Z"
   },
   {
    "duration": 326,
    "start_time": "2022-11-25T14:27:29.950Z"
   },
   {
    "duration": 11,
    "start_time": "2022-11-25T14:27:30.277Z"
   },
   {
    "duration": 143,
    "start_time": "2022-11-25T14:27:30.290Z"
   },
   {
    "duration": 5,
    "start_time": "2022-11-25T14:27:30.438Z"
   },
   {
    "duration": 18,
    "start_time": "2022-11-25T14:27:30.445Z"
   },
   {
    "duration": 155,
    "start_time": "2022-11-25T14:27:30.465Z"
   },
   {
    "duration": 15,
    "start_time": "2022-11-25T14:27:30.622Z"
   },
   {
    "duration": 308,
    "start_time": "2022-11-25T14:27:30.639Z"
   },
   {
    "duration": 156,
    "start_time": "2022-11-25T14:27:30.948Z"
   },
   {
    "duration": 6,
    "start_time": "2022-11-25T14:27:31.107Z"
   },
   {
    "duration": 34,
    "start_time": "2022-11-25T14:27:31.114Z"
   },
   {
    "duration": 11,
    "start_time": "2022-11-25T14:27:31.150Z"
   },
   {
    "duration": 10,
    "start_time": "2022-11-25T14:27:31.163Z"
   },
   {
    "duration": 9,
    "start_time": "2022-11-25T14:27:31.175Z"
   },
   {
    "duration": 51,
    "start_time": "2022-11-25T14:27:31.186Z"
   },
   {
    "duration": 13,
    "start_time": "2022-11-25T14:27:31.239Z"
   },
   {
    "duration": 38,
    "start_time": "2022-11-25T15:15:32.355Z"
   },
   {
    "duration": 37,
    "start_time": "2022-11-25T15:15:48.717Z"
   },
   {
    "duration": 37,
    "start_time": "2022-11-25T15:15:53.619Z"
   },
   {
    "duration": 65,
    "start_time": "2022-11-25T15:16:05.927Z"
   },
   {
    "duration": 60,
    "start_time": "2022-11-25T15:16:10.780Z"
   },
   {
    "duration": 1349,
    "start_time": "2022-11-25T15:27:02.909Z"
   },
   {
    "duration": 1022,
    "start_time": "2022-11-25T15:27:32.380Z"
   },
   {
    "duration": 96,
    "start_time": "2022-11-25T15:27:33.414Z"
   },
   {
    "duration": 8,
    "start_time": "2022-11-25T15:27:33.512Z"
   },
   {
    "duration": 53,
    "start_time": "2022-11-25T15:27:33.521Z"
   },
   {
    "duration": 41,
    "start_time": "2022-11-25T15:27:33.575Z"
   },
   {
    "duration": 334,
    "start_time": "2022-11-25T15:27:33.617Z"
   },
   {
    "duration": 51,
    "start_time": "2022-11-25T15:27:33.952Z"
   },
   {
    "duration": 26,
    "start_time": "2022-11-25T15:27:34.005Z"
   },
   {
    "duration": 52,
    "start_time": "2022-11-25T15:27:34.033Z"
   },
   {
    "duration": 16,
    "start_time": "2022-11-25T15:27:34.087Z"
   },
   {
    "duration": 22,
    "start_time": "2022-11-25T15:27:34.105Z"
   },
   {
    "duration": 52,
    "start_time": "2022-11-25T15:27:34.129Z"
   },
   {
    "duration": 186,
    "start_time": "2022-11-25T15:27:34.183Z"
   },
   {
    "duration": 128,
    "start_time": "2022-11-25T15:27:34.371Z"
   },
   {
    "duration": 274,
    "start_time": "2022-11-25T15:27:34.501Z"
   },
   {
    "duration": 267,
    "start_time": "2022-11-25T15:27:34.777Z"
   },
   {
    "duration": 193,
    "start_time": "2022-11-25T15:27:35.045Z"
   },
   {
    "duration": 297,
    "start_time": "2022-11-25T15:27:35.240Z"
   },
   {
    "duration": 421,
    "start_time": "2022-11-25T15:27:35.539Z"
   },
   {
    "duration": 578,
    "start_time": "2022-11-25T15:27:35.962Z"
   },
   {
    "duration": 11,
    "start_time": "2022-11-25T15:27:36.542Z"
   },
   {
    "duration": 286,
    "start_time": "2022-11-25T15:27:36.554Z"
   },
   {
    "duration": 4,
    "start_time": "2022-11-25T15:27:36.842Z"
   },
   {
    "duration": 50,
    "start_time": "2022-11-25T15:27:36.848Z"
   },
   {
    "duration": 346,
    "start_time": "2022-11-25T15:27:36.899Z"
   },
   {
    "duration": 4,
    "start_time": "2022-11-25T15:27:37.247Z"
   },
   {
    "duration": 376,
    "start_time": "2022-11-25T15:27:37.253Z"
   },
   {
    "duration": 139,
    "start_time": "2022-11-25T15:27:37.632Z"
   },
   {
    "duration": 6,
    "start_time": "2022-11-25T15:27:37.772Z"
   },
   {
    "duration": 60,
    "start_time": "2022-11-25T15:27:37.779Z"
   },
   {
    "duration": 18,
    "start_time": "2022-11-25T15:27:37.841Z"
   },
   {
    "duration": 22,
    "start_time": "2022-11-25T15:27:37.861Z"
   },
   {
    "duration": 20,
    "start_time": "2022-11-25T15:27:37.885Z"
   },
   {
    "duration": 60,
    "start_time": "2022-11-25T15:27:37.907Z"
   },
   {
    "duration": 20,
    "start_time": "2022-11-25T15:27:37.969Z"
   },
   {
    "duration": 4,
    "start_time": "2022-11-25T15:30:16.731Z"
   },
   {
    "duration": 98,
    "start_time": "2022-11-25T15:30:21.742Z"
   },
   {
    "duration": 6,
    "start_time": "2022-11-25T15:30:28.926Z"
   },
   {
    "duration": 11,
    "start_time": "2022-11-25T15:32:51.995Z"
   },
   {
    "duration": 6,
    "start_time": "2022-11-25T15:33:00.306Z"
   },
   {
    "duration": 6,
    "start_time": "2022-11-25T15:35:06.192Z"
   },
   {
    "duration": 6,
    "start_time": "2022-11-25T15:35:42.900Z"
   },
   {
    "duration": 6,
    "start_time": "2022-11-25T15:35:50.636Z"
   },
   {
    "duration": 12,
    "start_time": "2022-11-25T16:04:24.629Z"
   },
   {
    "duration": 10,
    "start_time": "2022-11-25T16:42:49.380Z"
   },
   {
    "duration": 1106,
    "start_time": "2022-11-25T16:45:50.323Z"
   },
   {
    "duration": 101,
    "start_time": "2022-11-25T16:45:51.431Z"
   },
   {
    "duration": 9,
    "start_time": "2022-11-25T16:45:51.534Z"
   },
   {
    "duration": 19,
    "start_time": "2022-11-25T16:45:51.545Z"
   },
   {
    "duration": 12,
    "start_time": "2022-11-25T16:45:51.566Z"
   },
   {
    "duration": 315,
    "start_time": "2022-11-25T16:45:51.580Z"
   },
   {
    "duration": 51,
    "start_time": "2022-11-25T16:45:51.897Z"
   },
   {
    "duration": 31,
    "start_time": "2022-11-25T16:45:51.950Z"
   },
   {
    "duration": 48,
    "start_time": "2022-11-25T16:45:51.983Z"
   },
   {
    "duration": 16,
    "start_time": "2022-11-25T16:45:52.034Z"
   },
   {
    "duration": 10,
    "start_time": "2022-11-25T16:45:52.053Z"
   },
   {
    "duration": 11,
    "start_time": "2022-11-25T16:45:52.067Z"
   },
   {
    "duration": 15,
    "start_time": "2022-11-25T16:45:52.079Z"
   },
   {
    "duration": 14,
    "start_time": "2022-11-25T16:45:52.095Z"
   },
   {
    "duration": 184,
    "start_time": "2022-11-25T16:45:52.110Z"
   },
   {
    "duration": 125,
    "start_time": "2022-11-25T16:45:52.296Z"
   },
   {
    "duration": 285,
    "start_time": "2022-11-25T16:45:52.422Z"
   },
   {
    "duration": 273,
    "start_time": "2022-11-25T16:45:52.709Z"
   },
   {
    "duration": 210,
    "start_time": "2022-11-25T16:45:52.984Z"
   },
   {
    "duration": 292,
    "start_time": "2022-11-25T16:45:53.196Z"
   },
   {
    "duration": 214,
    "start_time": "2022-11-25T16:45:53.489Z"
   },
   {
    "duration": 380,
    "start_time": "2022-11-25T16:45:53.705Z"
   },
   {
    "duration": 11,
    "start_time": "2022-11-25T16:45:54.087Z"
   },
   {
    "duration": 268,
    "start_time": "2022-11-25T16:45:54.099Z"
   },
   {
    "duration": 4,
    "start_time": "2022-11-25T16:45:54.369Z"
   },
   {
    "duration": 67,
    "start_time": "2022-11-25T16:45:54.375Z"
   },
   {
    "duration": 315,
    "start_time": "2022-11-25T16:45:54.444Z"
   },
   {
    "duration": 4,
    "start_time": "2022-11-25T16:45:54.762Z"
   },
   {
    "duration": 614,
    "start_time": "2022-11-25T16:45:54.768Z"
   },
   {
    "duration": 282,
    "start_time": "2022-11-25T16:45:55.383Z"
   },
   {
    "duration": 7,
    "start_time": "2022-11-25T16:45:55.667Z"
   },
   {
    "duration": 80,
    "start_time": "2022-11-25T16:45:55.675Z"
   },
   {
    "duration": 23,
    "start_time": "2022-11-25T16:45:55.757Z"
   },
   {
    "duration": 63,
    "start_time": "2022-11-25T16:45:55.782Z"
   },
   {
    "duration": 20,
    "start_time": "2022-11-25T16:45:55.847Z"
   },
   {
    "duration": 62,
    "start_time": "2022-11-25T16:45:55.868Z"
   },
   {
    "duration": 41,
    "start_time": "2022-11-25T16:45:55.931Z"
   },
   {
    "duration": 10,
    "start_time": "2022-11-25T17:03:23.293Z"
   },
   {
    "duration": 94,
    "start_time": "2022-11-25T17:08:50.102Z"
   },
   {
    "duration": 1087,
    "start_time": "2022-11-25T17:09:18.241Z"
   },
   {
    "duration": 102,
    "start_time": "2022-11-25T17:09:19.330Z"
   },
   {
    "duration": 8,
    "start_time": "2022-11-25T17:09:19.433Z"
   },
   {
    "duration": 17,
    "start_time": "2022-11-25T17:09:19.443Z"
   },
   {
    "duration": 11,
    "start_time": "2022-11-25T17:09:19.462Z"
   },
   {
    "duration": 318,
    "start_time": "2022-11-25T17:09:19.474Z"
   },
   {
    "duration": 51,
    "start_time": "2022-11-25T17:09:19.794Z"
   },
   {
    "duration": 29,
    "start_time": "2022-11-25T17:09:19.848Z"
   },
   {
    "duration": 33,
    "start_time": "2022-11-25T17:09:19.879Z"
   },
   {
    "duration": 29,
    "start_time": "2022-11-25T17:09:19.914Z"
   },
   {
    "duration": 5,
    "start_time": "2022-11-25T17:09:19.945Z"
   },
   {
    "duration": 7,
    "start_time": "2022-11-25T17:09:19.951Z"
   },
   {
    "duration": 12,
    "start_time": "2022-11-25T17:09:19.959Z"
   },
   {
    "duration": 130,
    "start_time": "2022-11-25T17:09:19.972Z"
   },
   {
    "duration": 0,
    "start_time": "2022-11-25T17:09:20.104Z"
   },
   {
    "duration": 0,
    "start_time": "2022-11-25T17:09:20.105Z"
   },
   {
    "duration": 0,
    "start_time": "2022-11-25T17:09:20.107Z"
   },
   {
    "duration": 0,
    "start_time": "2022-11-25T17:09:20.108Z"
   },
   {
    "duration": 0,
    "start_time": "2022-11-25T17:09:20.109Z"
   },
   {
    "duration": 0,
    "start_time": "2022-11-25T17:09:20.111Z"
   },
   {
    "duration": 0,
    "start_time": "2022-11-25T17:09:20.112Z"
   },
   {
    "duration": 0,
    "start_time": "2022-11-25T17:09:20.113Z"
   },
   {
    "duration": 0,
    "start_time": "2022-11-25T17:09:20.114Z"
   },
   {
    "duration": 0,
    "start_time": "2022-11-25T17:09:20.115Z"
   },
   {
    "duration": 0,
    "start_time": "2022-11-25T17:09:20.116Z"
   },
   {
    "duration": 0,
    "start_time": "2022-11-25T17:09:20.118Z"
   },
   {
    "duration": 0,
    "start_time": "2022-11-25T17:09:20.119Z"
   },
   {
    "duration": 0,
    "start_time": "2022-11-25T17:09:20.138Z"
   },
   {
    "duration": 0,
    "start_time": "2022-11-25T17:09:20.139Z"
   },
   {
    "duration": 1,
    "start_time": "2022-11-25T17:09:20.139Z"
   },
   {
    "duration": 0,
    "start_time": "2022-11-25T17:09:20.140Z"
   },
   {
    "duration": 0,
    "start_time": "2022-11-25T17:09:20.141Z"
   },
   {
    "duration": 0,
    "start_time": "2022-11-25T17:09:20.142Z"
   },
   {
    "duration": 0,
    "start_time": "2022-11-25T17:09:20.143Z"
   },
   {
    "duration": 0,
    "start_time": "2022-11-25T17:09:20.144Z"
   },
   {
    "duration": 0,
    "start_time": "2022-11-25T17:09:20.145Z"
   },
   {
    "duration": 0,
    "start_time": "2022-11-25T17:09:20.145Z"
   },
   {
    "duration": 0,
    "start_time": "2022-11-25T17:09:20.146Z"
   },
   {
    "duration": 14,
    "start_time": "2022-11-25T17:09:36.031Z"
   },
   {
    "duration": 10,
    "start_time": "2022-11-25T17:10:07.241Z"
   },
   {
    "duration": 8,
    "start_time": "2022-11-25T17:11:09.328Z"
   },
   {
    "duration": 6,
    "start_time": "2022-11-25T17:12:20.018Z"
   },
   {
    "duration": 9,
    "start_time": "2022-11-25T17:13:35.048Z"
   },
   {
    "duration": 12,
    "start_time": "2022-11-25T17:14:22.370Z"
   },
   {
    "duration": 11,
    "start_time": "2022-11-25T17:15:18.781Z"
   },
   {
    "duration": 970,
    "start_time": "2022-11-25T17:15:23.889Z"
   },
   {
    "duration": 99,
    "start_time": "2022-11-25T17:15:24.861Z"
   },
   {
    "duration": 9,
    "start_time": "2022-11-25T17:15:24.964Z"
   },
   {
    "duration": 16,
    "start_time": "2022-11-25T17:15:24.974Z"
   },
   {
    "duration": 11,
    "start_time": "2022-11-25T17:15:24.991Z"
   },
   {
    "duration": 330,
    "start_time": "2022-11-25T17:15:25.003Z"
   },
   {
    "duration": 49,
    "start_time": "2022-11-25T17:15:25.338Z"
   },
   {
    "duration": 25,
    "start_time": "2022-11-25T17:15:25.389Z"
   },
   {
    "duration": 27,
    "start_time": "2022-11-25T17:15:25.417Z"
   },
   {
    "duration": 17,
    "start_time": "2022-11-25T17:15:25.445Z"
   },
   {
    "duration": 6,
    "start_time": "2022-11-25T17:15:25.463Z"
   },
   {
    "duration": 10,
    "start_time": "2022-11-25T17:15:25.470Z"
   },
   {
    "duration": 12,
    "start_time": "2022-11-25T17:15:25.482Z"
   },
   {
    "duration": 13,
    "start_time": "2022-11-25T17:15:25.495Z"
   },
   {
    "duration": 31,
    "start_time": "2022-11-25T17:15:25.509Z"
   },
   {
    "duration": 171,
    "start_time": "2022-11-25T17:15:25.542Z"
   },
   {
    "duration": 151,
    "start_time": "2022-11-25T17:15:25.715Z"
   },
   {
    "duration": 286,
    "start_time": "2022-11-25T17:15:25.869Z"
   },
   {
    "duration": 286,
    "start_time": "2022-11-25T17:15:26.157Z"
   },
   {
    "duration": 293,
    "start_time": "2022-11-25T17:15:26.445Z"
   },
   {
    "duration": 406,
    "start_time": "2022-11-25T17:15:26.739Z"
   },
   {
    "duration": 415,
    "start_time": "2022-11-25T17:15:27.148Z"
   },
   {
    "duration": 586,
    "start_time": "2022-11-25T17:15:27.564Z"
   },
   {
    "duration": 17,
    "start_time": "2022-11-25T17:15:28.152Z"
   },
   {
    "duration": 309,
    "start_time": "2022-11-25T17:15:28.172Z"
   },
   {
    "duration": 55,
    "start_time": "2022-11-25T17:15:28.483Z"
   },
   {
    "duration": 9,
    "start_time": "2022-11-25T17:15:28.541Z"
   },
   {
    "duration": 201,
    "start_time": "2022-11-25T17:15:28.552Z"
   },
   {
    "duration": 4,
    "start_time": "2022-11-25T17:15:28.755Z"
   },
   {
    "duration": 415,
    "start_time": "2022-11-25T17:15:28.761Z"
   },
   {
    "duration": 171,
    "start_time": "2022-11-25T17:15:29.178Z"
   },
   {
    "duration": 6,
    "start_time": "2022-11-25T17:15:29.350Z"
   },
   {
    "duration": 82,
    "start_time": "2022-11-25T17:15:29.357Z"
   },
   {
    "duration": 9,
    "start_time": "2022-11-25T17:15:29.441Z"
   },
   {
    "duration": 9,
    "start_time": "2022-11-25T17:15:29.451Z"
   },
   {
    "duration": 10,
    "start_time": "2022-11-25T17:15:29.462Z"
   },
   {
    "duration": 78,
    "start_time": "2022-11-25T17:15:29.474Z"
   },
   {
    "duration": 16,
    "start_time": "2022-11-25T17:15:29.554Z"
   },
   {
    "duration": 11,
    "start_time": "2022-11-25T17:16:47.107Z"
   },
   {
    "duration": 12,
    "start_time": "2022-11-25T17:38:37.284Z"
   },
   {
    "duration": 1035,
    "start_time": "2022-11-25T17:38:43.627Z"
   },
   {
    "duration": 92,
    "start_time": "2022-11-25T17:38:44.663Z"
   },
   {
    "duration": 8,
    "start_time": "2022-11-25T17:38:44.757Z"
   },
   {
    "duration": 12,
    "start_time": "2022-11-25T17:38:44.767Z"
   },
   {
    "duration": 10,
    "start_time": "2022-11-25T17:38:44.780Z"
   },
   {
    "duration": 301,
    "start_time": "2022-11-25T17:38:44.791Z"
   },
   {
    "duration": 50,
    "start_time": "2022-11-25T17:38:45.094Z"
   },
   {
    "duration": 26,
    "start_time": "2022-11-25T17:38:45.145Z"
   },
   {
    "duration": 25,
    "start_time": "2022-11-25T17:38:45.173Z"
   },
   {
    "duration": 15,
    "start_time": "2022-11-25T17:38:45.200Z"
   },
   {
    "duration": 25,
    "start_time": "2022-11-25T17:38:45.216Z"
   },
   {
    "duration": 6,
    "start_time": "2022-11-25T17:38:45.242Z"
   },
   {
    "duration": 11,
    "start_time": "2022-11-25T17:38:45.249Z"
   },
   {
    "duration": 11,
    "start_time": "2022-11-25T17:38:45.261Z"
   },
   {
    "duration": 5,
    "start_time": "2022-11-25T17:38:45.273Z"
   },
   {
    "duration": 175,
    "start_time": "2022-11-25T17:38:45.280Z"
   },
   {
    "duration": 133,
    "start_time": "2022-11-25T17:38:45.457Z"
   },
   {
    "duration": 297,
    "start_time": "2022-11-25T17:38:45.592Z"
   },
   {
    "duration": 262,
    "start_time": "2022-11-25T17:38:45.891Z"
   },
   {
    "duration": 189,
    "start_time": "2022-11-25T17:38:46.155Z"
   },
   {
    "duration": 281,
    "start_time": "2022-11-25T17:38:46.345Z"
   },
   {
    "duration": 211,
    "start_time": "2022-11-25T17:38:46.628Z"
   },
   {
    "duration": 330,
    "start_time": "2022-11-25T17:38:46.841Z"
   },
   {
    "duration": 11,
    "start_time": "2022-11-25T17:38:47.173Z"
   },
   {
    "duration": 180,
    "start_time": "2022-11-25T17:38:47.185Z"
   },
   {
    "duration": 4,
    "start_time": "2022-11-25T17:38:47.367Z"
   },
   {
    "duration": 68,
    "start_time": "2022-11-25T17:38:47.373Z"
   },
   {
    "duration": 295,
    "start_time": "2022-11-25T17:38:47.444Z"
   },
   {
    "duration": 4,
    "start_time": "2022-11-25T17:38:47.741Z"
   },
   {
    "duration": 596,
    "start_time": "2022-11-25T17:38:47.747Z"
   },
   {
    "duration": 229,
    "start_time": "2022-11-25T17:38:48.345Z"
   },
   {
    "duration": 61,
    "start_time": "2022-11-25T17:38:48.576Z"
   },
   {
    "duration": 23,
    "start_time": "2022-11-25T17:38:48.640Z"
   },
   {
    "duration": 9,
    "start_time": "2022-11-25T17:38:48.665Z"
   },
   {
    "duration": 66,
    "start_time": "2022-11-25T17:38:48.676Z"
   },
   {
    "duration": 9,
    "start_time": "2022-11-25T17:38:48.743Z"
   },
   {
    "duration": 24,
    "start_time": "2022-11-25T17:38:48.753Z"
   },
   {
    "duration": 62,
    "start_time": "2022-11-25T17:38:48.779Z"
   },
   {
    "duration": 180,
    "start_time": "2022-11-25T17:41:32.299Z"
   },
   {
    "duration": 136,
    "start_time": "2022-11-25T17:46:59.114Z"
   },
   {
    "duration": 189,
    "start_time": "2022-11-25T17:55:09.720Z"
   },
   {
    "duration": 109,
    "start_time": "2022-11-25T17:55:31.271Z"
   },
   {
    "duration": 105,
    "start_time": "2022-11-25T17:55:53.883Z"
   },
   {
    "duration": 103,
    "start_time": "2022-11-25T17:56:26.664Z"
   },
   {
    "duration": 988,
    "start_time": "2022-11-25T17:56:32.774Z"
   },
   {
    "duration": 106,
    "start_time": "2022-11-25T17:56:33.765Z"
   },
   {
    "duration": 9,
    "start_time": "2022-11-25T17:56:33.873Z"
   },
   {
    "duration": 27,
    "start_time": "2022-11-25T17:56:33.884Z"
   },
   {
    "duration": 22,
    "start_time": "2022-11-25T17:56:33.914Z"
   },
   {
    "duration": 316,
    "start_time": "2022-11-25T17:56:33.938Z"
   },
   {
    "duration": 60,
    "start_time": "2022-11-25T17:56:34.256Z"
   },
   {
    "duration": 30,
    "start_time": "2022-11-25T17:56:34.318Z"
   },
   {
    "duration": 28,
    "start_time": "2022-11-25T17:56:34.350Z"
   },
   {
    "duration": 16,
    "start_time": "2022-11-25T17:56:34.379Z"
   },
   {
    "duration": 5,
    "start_time": "2022-11-25T17:56:34.397Z"
   },
   {
    "duration": 8,
    "start_time": "2022-11-25T17:56:34.403Z"
   },
   {
    "duration": 32,
    "start_time": "2022-11-25T17:56:34.412Z"
   },
   {
    "duration": 12,
    "start_time": "2022-11-25T17:56:34.447Z"
   },
   {
    "duration": 5,
    "start_time": "2022-11-25T17:56:34.461Z"
   },
   {
    "duration": 193,
    "start_time": "2022-11-25T17:56:34.467Z"
   },
   {
    "duration": 129,
    "start_time": "2022-11-25T17:56:34.662Z"
   },
   {
    "duration": 284,
    "start_time": "2022-11-25T17:56:34.793Z"
   },
   {
    "duration": 279,
    "start_time": "2022-11-25T17:56:35.079Z"
   },
   {
    "duration": 203,
    "start_time": "2022-11-25T17:56:35.359Z"
   },
   {
    "duration": 285,
    "start_time": "2022-11-25T17:56:35.564Z"
   },
   {
    "duration": 205,
    "start_time": "2022-11-25T17:56:35.852Z"
   },
   {
    "duration": 308,
    "start_time": "2022-11-25T17:56:36.059Z"
   },
   {
    "duration": 11,
    "start_time": "2022-11-25T17:56:36.369Z"
   },
   {
    "duration": 162,
    "start_time": "2022-11-25T17:56:36.382Z"
   },
   {
    "duration": 5,
    "start_time": "2022-11-25T17:56:36.545Z"
   },
   {
    "duration": 11,
    "start_time": "2022-11-25T17:56:36.552Z"
   },
   {
    "duration": 154,
    "start_time": "2022-11-25T17:56:36.565Z"
   },
   {
    "duration": 264,
    "start_time": "2022-11-25T17:56:36.721Z"
   },
   {
    "duration": 0,
    "start_time": "2022-11-25T17:56:36.986Z"
   },
   {
    "duration": 0,
    "start_time": "2022-11-25T17:56:36.988Z"
   },
   {
    "duration": 0,
    "start_time": "2022-11-25T17:56:36.989Z"
   },
   {
    "duration": 0,
    "start_time": "2022-11-25T17:56:36.990Z"
   },
   {
    "duration": 0,
    "start_time": "2022-11-25T17:56:36.991Z"
   },
   {
    "duration": 0,
    "start_time": "2022-11-25T17:56:36.993Z"
   },
   {
    "duration": 0,
    "start_time": "2022-11-25T17:56:36.994Z"
   },
   {
    "duration": 0,
    "start_time": "2022-11-25T17:56:36.995Z"
   },
   {
    "duration": 0,
    "start_time": "2022-11-25T17:56:36.996Z"
   },
   {
    "duration": 0,
    "start_time": "2022-11-25T17:56:36.997Z"
   },
   {
    "duration": 142,
    "start_time": "2022-11-25T17:58:00.827Z"
   },
   {
    "duration": 130,
    "start_time": "2022-11-25T17:58:32.673Z"
   },
   {
    "duration": 133,
    "start_time": "2022-11-25T17:58:40.985Z"
   },
   {
    "duration": 136,
    "start_time": "2022-11-25T17:58:49.490Z"
   },
   {
    "duration": 126,
    "start_time": "2022-11-25T18:00:29.301Z"
   },
   {
    "duration": 1050,
    "start_time": "2022-11-25T18:00:47.320Z"
   },
   {
    "duration": 104,
    "start_time": "2022-11-25T18:00:48.372Z"
   },
   {
    "duration": 8,
    "start_time": "2022-11-25T18:00:48.477Z"
   },
   {
    "duration": 82,
    "start_time": "2022-11-25T18:00:48.487Z"
   },
   {
    "duration": 15,
    "start_time": "2022-11-25T18:00:48.570Z"
   },
   {
    "duration": 310,
    "start_time": "2022-11-25T18:00:48.587Z"
   },
   {
    "duration": 56,
    "start_time": "2022-11-25T18:00:48.899Z"
   },
   {
    "duration": 31,
    "start_time": "2022-11-25T18:00:48.957Z"
   },
   {
    "duration": 42,
    "start_time": "2022-11-25T18:00:48.990Z"
   },
   {
    "duration": 21,
    "start_time": "2022-11-25T18:00:49.043Z"
   },
   {
    "duration": 6,
    "start_time": "2022-11-25T18:00:49.068Z"
   },
   {
    "duration": 18,
    "start_time": "2022-11-25T18:00:49.076Z"
   },
   {
    "duration": 19,
    "start_time": "2022-11-25T18:00:49.096Z"
   },
   {
    "duration": 35,
    "start_time": "2022-11-25T18:00:49.117Z"
   },
   {
    "duration": 18,
    "start_time": "2022-11-25T18:00:49.154Z"
   },
   {
    "duration": 176,
    "start_time": "2022-11-25T18:00:49.174Z"
   },
   {
    "duration": 111,
    "start_time": "2022-11-25T18:00:49.352Z"
   },
   {
    "duration": 275,
    "start_time": "2022-11-25T18:00:49.464Z"
   },
   {
    "duration": 291,
    "start_time": "2022-11-25T18:00:49.740Z"
   },
   {
    "duration": 203,
    "start_time": "2022-11-25T18:00:50.037Z"
   },
   {
    "duration": 305,
    "start_time": "2022-11-25T18:00:50.242Z"
   },
   {
    "duration": 207,
    "start_time": "2022-11-25T18:00:50.549Z"
   },
   {
    "duration": 309,
    "start_time": "2022-11-25T18:00:50.758Z"
   },
   {
    "duration": 11,
    "start_time": "2022-11-25T18:00:51.068Z"
   },
   {
    "duration": 156,
    "start_time": "2022-11-25T18:00:51.081Z"
   },
   {
    "duration": 5,
    "start_time": "2022-11-25T18:00:51.239Z"
   },
   {
    "duration": 12,
    "start_time": "2022-11-25T18:00:51.245Z"
   },
   {
    "duration": 152,
    "start_time": "2022-11-25T18:00:51.261Z"
   },
   {
    "duration": 294,
    "start_time": "2022-11-25T18:00:51.415Z"
   },
   {
    "duration": 1,
    "start_time": "2022-11-25T18:00:51.711Z"
   },
   {
    "duration": 0,
    "start_time": "2022-11-25T18:00:51.713Z"
   },
   {
    "duration": 0,
    "start_time": "2022-11-25T18:00:51.715Z"
   },
   {
    "duration": 0,
    "start_time": "2022-11-25T18:00:51.716Z"
   },
   {
    "duration": 0,
    "start_time": "2022-11-25T18:00:51.718Z"
   },
   {
    "duration": 0,
    "start_time": "2022-11-25T18:00:51.738Z"
   },
   {
    "duration": 0,
    "start_time": "2022-11-25T18:00:51.740Z"
   },
   {
    "duration": 0,
    "start_time": "2022-11-25T18:00:51.741Z"
   },
   {
    "duration": 0,
    "start_time": "2022-11-25T18:00:51.742Z"
   },
   {
    "duration": 0,
    "start_time": "2022-11-25T18:00:51.744Z"
   },
   {
    "duration": 136,
    "start_time": "2022-11-25T18:01:46.486Z"
   },
   {
    "duration": 199,
    "start_time": "2022-11-25T18:03:03.783Z"
   },
   {
    "duration": 1008,
    "start_time": "2022-11-25T18:03:09.064Z"
   },
   {
    "duration": 101,
    "start_time": "2022-11-25T18:03:10.074Z"
   },
   {
    "duration": 9,
    "start_time": "2022-11-25T18:03:10.177Z"
   },
   {
    "duration": 13,
    "start_time": "2022-11-25T18:03:10.188Z"
   },
   {
    "duration": 10,
    "start_time": "2022-11-25T18:03:10.203Z"
   },
   {
    "duration": 266,
    "start_time": "2022-11-25T18:03:10.238Z"
   },
   {
    "duration": 51,
    "start_time": "2022-11-25T18:03:10.506Z"
   },
   {
    "duration": 26,
    "start_time": "2022-11-25T18:03:10.558Z"
   },
   {
    "duration": 26,
    "start_time": "2022-11-25T18:03:10.586Z"
   },
   {
    "duration": 28,
    "start_time": "2022-11-25T18:03:10.615Z"
   },
   {
    "duration": 5,
    "start_time": "2022-11-25T18:03:10.644Z"
   },
   {
    "duration": 6,
    "start_time": "2022-11-25T18:03:10.651Z"
   },
   {
    "duration": 9,
    "start_time": "2022-11-25T18:03:10.659Z"
   },
   {
    "duration": 11,
    "start_time": "2022-11-25T18:03:10.669Z"
   },
   {
    "duration": 5,
    "start_time": "2022-11-25T18:03:10.682Z"
   },
   {
    "duration": 189,
    "start_time": "2022-11-25T18:03:10.688Z"
   },
   {
    "duration": 117,
    "start_time": "2022-11-25T18:03:10.878Z"
   },
   {
    "duration": 266,
    "start_time": "2022-11-25T18:03:10.996Z"
   },
   {
    "duration": 255,
    "start_time": "2022-11-25T18:03:11.263Z"
   },
   {
    "duration": 196,
    "start_time": "2022-11-25T18:03:11.520Z"
   },
   {
    "duration": 325,
    "start_time": "2022-11-25T18:03:11.717Z"
   },
   {
    "duration": 202,
    "start_time": "2022-11-25T18:03:12.043Z"
   },
   {
    "duration": 313,
    "start_time": "2022-11-25T18:03:12.247Z"
   },
   {
    "duration": 10,
    "start_time": "2022-11-25T18:03:12.562Z"
   },
   {
    "duration": 156,
    "start_time": "2022-11-25T18:03:12.574Z"
   },
   {
    "duration": 7,
    "start_time": "2022-11-25T18:03:12.732Z"
   },
   {
    "duration": 28,
    "start_time": "2022-11-25T18:03:12.740Z"
   },
   {
    "duration": 139,
    "start_time": "2022-11-25T18:03:12.771Z"
   },
   {
    "duration": 216,
    "start_time": "2022-11-25T18:03:12.912Z"
   },
   {
    "duration": 9,
    "start_time": "2022-11-25T18:03:13.130Z"
   },
   {
    "duration": 196,
    "start_time": "2022-11-25T18:03:13.141Z"
   },
   {
    "duration": 120,
    "start_time": "2022-11-25T18:03:13.339Z"
   },
   {
    "duration": 101,
    "start_time": "2022-11-25T18:03:13.461Z"
   },
   {
    "duration": 0,
    "start_time": "2022-11-25T18:03:13.564Z"
   },
   {
    "duration": 0,
    "start_time": "2022-11-25T18:03:13.565Z"
   },
   {
    "duration": 0,
    "start_time": "2022-11-25T18:03:13.567Z"
   },
   {
    "duration": 0,
    "start_time": "2022-11-25T18:03:13.568Z"
   },
   {
    "duration": 0,
    "start_time": "2022-11-25T18:03:13.569Z"
   },
   {
    "duration": 0,
    "start_time": "2022-11-25T18:03:13.570Z"
   },
   {
    "duration": 197,
    "start_time": "2022-11-25T18:03:40.879Z"
   },
   {
    "duration": 1060,
    "start_time": "2022-11-25T18:03:45.499Z"
   },
   {
    "duration": 96,
    "start_time": "2022-11-25T18:03:46.561Z"
   },
   {
    "duration": 7,
    "start_time": "2022-11-25T18:03:46.659Z"
   },
   {
    "duration": 12,
    "start_time": "2022-11-25T18:03:46.668Z"
   },
   {
    "duration": 9,
    "start_time": "2022-11-25T18:03:46.681Z"
   },
   {
    "duration": 307,
    "start_time": "2022-11-25T18:03:46.692Z"
   },
   {
    "duration": 51,
    "start_time": "2022-11-25T18:03:47.000Z"
   },
   {
    "duration": 24,
    "start_time": "2022-11-25T18:03:47.053Z"
   },
   {
    "duration": 28,
    "start_time": "2022-11-25T18:03:47.078Z"
   },
   {
    "duration": 35,
    "start_time": "2022-11-25T18:03:47.108Z"
   },
   {
    "duration": 4,
    "start_time": "2022-11-25T18:03:47.145Z"
   },
   {
    "duration": 7,
    "start_time": "2022-11-25T18:03:47.151Z"
   },
   {
    "duration": 7,
    "start_time": "2022-11-25T18:03:47.160Z"
   },
   {
    "duration": 11,
    "start_time": "2022-11-25T18:03:47.169Z"
   },
   {
    "duration": 5,
    "start_time": "2022-11-25T18:03:47.181Z"
   },
   {
    "duration": 192,
    "start_time": "2022-11-25T18:03:47.188Z"
   },
   {
    "duration": 123,
    "start_time": "2022-11-25T18:03:47.381Z"
   },
   {
    "duration": 268,
    "start_time": "2022-11-25T18:03:47.506Z"
   },
   {
    "duration": 271,
    "start_time": "2022-11-25T18:03:47.776Z"
   },
   {
    "duration": 193,
    "start_time": "2022-11-25T18:03:48.049Z"
   },
   {
    "duration": 286,
    "start_time": "2022-11-25T18:03:48.244Z"
   },
   {
    "duration": 199,
    "start_time": "2022-11-25T18:03:48.532Z"
   },
   {
    "duration": 351,
    "start_time": "2022-11-25T18:03:48.736Z"
   },
   {
    "duration": 12,
    "start_time": "2022-11-25T18:03:49.088Z"
   },
   {
    "duration": 182,
    "start_time": "2022-11-25T18:03:49.102Z"
   },
   {
    "duration": 4,
    "start_time": "2022-11-25T18:03:49.286Z"
   },
   {
    "duration": 13,
    "start_time": "2022-11-25T18:03:49.291Z"
   },
   {
    "duration": 161,
    "start_time": "2022-11-25T18:03:49.307Z"
   },
   {
    "duration": 220,
    "start_time": "2022-11-25T18:03:49.470Z"
   },
   {
    "duration": 4,
    "start_time": "2022-11-25T18:03:49.691Z"
   },
   {
    "duration": 223,
    "start_time": "2022-11-25T18:03:49.697Z"
   },
   {
    "duration": 132,
    "start_time": "2022-11-25T18:03:49.922Z"
   },
   {
    "duration": 6,
    "start_time": "2022-11-25T18:03:50.056Z"
   },
   {
    "duration": 30,
    "start_time": "2022-11-25T18:03:50.063Z"
   },
   {
    "duration": 9,
    "start_time": "2022-11-25T18:03:50.094Z"
   },
   {
    "duration": 8,
    "start_time": "2022-11-25T18:03:50.105Z"
   },
   {
    "duration": 23,
    "start_time": "2022-11-25T18:03:50.115Z"
   },
   {
    "duration": 22,
    "start_time": "2022-11-25T18:03:50.139Z"
   },
   {
    "duration": 12,
    "start_time": "2022-11-25T18:03:50.162Z"
   },
   {
    "duration": 1047,
    "start_time": "2022-11-25T18:09:55.538Z"
   },
   {
    "duration": 99,
    "start_time": "2022-11-25T18:09:56.587Z"
   },
   {
    "duration": 9,
    "start_time": "2022-11-25T18:09:56.688Z"
   },
   {
    "duration": 16,
    "start_time": "2022-11-25T18:09:56.699Z"
   },
   {
    "duration": 29,
    "start_time": "2022-11-25T18:09:56.716Z"
   },
   {
    "duration": 275,
    "start_time": "2022-11-25T18:09:56.747Z"
   },
   {
    "duration": 50,
    "start_time": "2022-11-25T18:09:57.024Z"
   },
   {
    "duration": 24,
    "start_time": "2022-11-25T18:09:57.075Z"
   },
   {
    "duration": 28,
    "start_time": "2022-11-25T18:09:57.100Z"
   },
   {
    "duration": 16,
    "start_time": "2022-11-25T18:09:57.131Z"
   },
   {
    "duration": 4,
    "start_time": "2022-11-25T18:09:57.149Z"
   },
   {
    "duration": 9,
    "start_time": "2022-11-25T18:09:57.155Z"
   },
   {
    "duration": 11,
    "start_time": "2022-11-25T18:09:57.166Z"
   },
   {
    "duration": 13,
    "start_time": "2022-11-25T18:09:57.179Z"
   },
   {
    "duration": 6,
    "start_time": "2022-11-25T18:09:57.193Z"
   },
   {
    "duration": 196,
    "start_time": "2022-11-25T18:09:57.201Z"
   },
   {
    "duration": 124,
    "start_time": "2022-11-25T18:09:57.399Z"
   },
   {
    "duration": 286,
    "start_time": "2022-11-25T18:09:57.525Z"
   },
   {
    "duration": 283,
    "start_time": "2022-11-25T18:09:57.813Z"
   },
   {
    "duration": 202,
    "start_time": "2022-11-25T18:09:58.097Z"
   },
   {
    "duration": 310,
    "start_time": "2022-11-25T18:09:58.301Z"
   },
   {
    "duration": 221,
    "start_time": "2022-11-25T18:09:58.613Z"
   },
   {
    "duration": 336,
    "start_time": "2022-11-25T18:09:58.837Z"
   },
   {
    "duration": 11,
    "start_time": "2022-11-25T18:09:59.175Z"
   },
   {
    "duration": 168,
    "start_time": "2022-11-25T18:09:59.188Z"
   },
   {
    "duration": 4,
    "start_time": "2022-11-25T18:09:59.358Z"
   },
   {
    "duration": 12,
    "start_time": "2022-11-25T18:09:59.363Z"
   },
   {
    "duration": 158,
    "start_time": "2022-11-25T18:09:59.379Z"
   },
   {
    "duration": 218,
    "start_time": "2022-11-25T18:09:59.539Z"
   },
   {
    "duration": 4,
    "start_time": "2022-11-25T18:09:59.760Z"
   },
   {
    "duration": 221,
    "start_time": "2022-11-25T18:09:59.766Z"
   },
   {
    "duration": 137,
    "start_time": "2022-11-25T18:09:59.988Z"
   },
   {
    "duration": 14,
    "start_time": "2022-11-25T18:10:00.127Z"
   },
   {
    "duration": 44,
    "start_time": "2022-11-25T18:10:00.143Z"
   },
   {
    "duration": 11,
    "start_time": "2022-11-25T18:10:00.189Z"
   },
   {
    "duration": 13,
    "start_time": "2022-11-25T18:10:00.201Z"
   },
   {
    "duration": 8,
    "start_time": "2022-11-25T18:10:00.216Z"
   },
   {
    "duration": 29,
    "start_time": "2022-11-25T18:10:00.226Z"
   },
   {
    "duration": 13,
    "start_time": "2022-11-25T18:10:00.257Z"
   },
   {
    "duration": 22,
    "start_time": "2022-11-25T18:34:22.781Z"
   },
   {
    "duration": 23,
    "start_time": "2022-11-25T18:34:41.100Z"
   },
   {
    "duration": 24,
    "start_time": "2022-11-25T18:34:52.594Z"
   },
   {
    "duration": 23,
    "start_time": "2022-11-25T18:37:56.533Z"
   },
   {
    "duration": 1004,
    "start_time": "2022-11-25T18:38:02.774Z"
   },
   {
    "duration": 106,
    "start_time": "2022-11-25T18:38:03.780Z"
   },
   {
    "duration": 9,
    "start_time": "2022-11-25T18:38:03.888Z"
   },
   {
    "duration": 15,
    "start_time": "2022-11-25T18:38:03.900Z"
   },
   {
    "duration": 29,
    "start_time": "2022-11-25T18:38:03.917Z"
   },
   {
    "duration": 317,
    "start_time": "2022-11-25T18:38:03.948Z"
   },
   {
    "duration": 51,
    "start_time": "2022-11-25T18:38:04.268Z"
   },
   {
    "duration": 25,
    "start_time": "2022-11-25T18:38:04.321Z"
   },
   {
    "duration": 26,
    "start_time": "2022-11-25T18:38:04.348Z"
   },
   {
    "duration": 16,
    "start_time": "2022-11-25T18:38:04.377Z"
   },
   {
    "duration": 4,
    "start_time": "2022-11-25T18:38:04.394Z"
   },
   {
    "duration": 8,
    "start_time": "2022-11-25T18:38:04.399Z"
   },
   {
    "duration": 29,
    "start_time": "2022-11-25T18:38:04.409Z"
   },
   {
    "duration": 13,
    "start_time": "2022-11-25T18:38:04.440Z"
   },
   {
    "duration": 5,
    "start_time": "2022-11-25T18:38:04.455Z"
   },
   {
    "duration": 181,
    "start_time": "2022-11-25T18:38:04.462Z"
   },
   {
    "duration": 118,
    "start_time": "2022-11-25T18:38:04.645Z"
   },
   {
    "duration": 275,
    "start_time": "2022-11-25T18:38:04.765Z"
   },
   {
    "duration": 257,
    "start_time": "2022-11-25T18:38:05.044Z"
   },
   {
    "duration": 197,
    "start_time": "2022-11-25T18:38:05.303Z"
   },
   {
    "duration": 313,
    "start_time": "2022-11-25T18:38:05.502Z"
   },
   {
    "duration": 210,
    "start_time": "2022-11-25T18:38:05.818Z"
   },
   {
    "duration": 329,
    "start_time": "2022-11-25T18:38:06.038Z"
   },
   {
    "duration": 11,
    "start_time": "2022-11-25T18:38:06.368Z"
   },
   {
    "duration": 162,
    "start_time": "2022-11-25T18:38:06.381Z"
   },
   {
    "duration": 4,
    "start_time": "2022-11-25T18:38:06.544Z"
   },
   {
    "duration": 16,
    "start_time": "2022-11-25T18:38:06.550Z"
   },
   {
    "duration": 157,
    "start_time": "2022-11-25T18:38:06.569Z"
   },
   {
    "duration": 226,
    "start_time": "2022-11-25T18:38:06.727Z"
   },
   {
    "duration": 5,
    "start_time": "2022-11-25T18:38:06.954Z"
   },
   {
    "duration": 252,
    "start_time": "2022-11-25T18:38:06.961Z"
   },
   {
    "duration": 138,
    "start_time": "2022-11-25T18:38:07.215Z"
   },
   {
    "duration": 5,
    "start_time": "2022-11-25T18:38:07.355Z"
   },
   {
    "duration": 25,
    "start_time": "2022-11-25T18:38:07.362Z"
   },
   {
    "duration": 11,
    "start_time": "2022-11-25T18:38:07.389Z"
   },
   {
    "duration": 37,
    "start_time": "2022-11-25T18:38:07.402Z"
   },
   {
    "duration": 13,
    "start_time": "2022-11-25T18:38:07.441Z"
   },
   {
    "duration": 33,
    "start_time": "2022-11-25T18:38:07.456Z"
   },
   {
    "duration": 14,
    "start_time": "2022-11-25T18:38:07.492Z"
   },
   {
    "duration": 11,
    "start_time": "2022-11-25T18:39:06.127Z"
   },
   {
    "duration": 10,
    "start_time": "2022-11-25T18:41:23.353Z"
   },
   {
    "duration": 11,
    "start_time": "2022-11-25T18:41:28.137Z"
   },
   {
    "duration": 11,
    "start_time": "2022-11-25T18:41:38.193Z"
   },
   {
    "duration": 23,
    "start_time": "2022-11-25T18:42:07.265Z"
   },
   {
    "duration": 23,
    "start_time": "2022-11-25T18:42:59.793Z"
   },
   {
    "duration": 14,
    "start_time": "2022-11-25T18:44:36.587Z"
   },
   {
    "duration": 1077,
    "start_time": "2022-11-25T18:44:48.274Z"
   },
   {
    "duration": 96,
    "start_time": "2022-11-25T18:44:49.352Z"
   },
   {
    "duration": 8,
    "start_time": "2022-11-25T18:44:49.450Z"
   },
   {
    "duration": 14,
    "start_time": "2022-11-25T18:44:49.460Z"
   },
   {
    "duration": 16,
    "start_time": "2022-11-25T18:44:49.475Z"
   },
   {
    "duration": 298,
    "start_time": "2022-11-25T18:44:49.493Z"
   },
   {
    "duration": 53,
    "start_time": "2022-11-25T18:44:49.792Z"
   },
   {
    "duration": 26,
    "start_time": "2022-11-25T18:44:49.846Z"
   },
   {
    "duration": 26,
    "start_time": "2022-11-25T18:44:49.874Z"
   },
   {
    "duration": 15,
    "start_time": "2022-11-25T18:44:49.902Z"
   },
   {
    "duration": 6,
    "start_time": "2022-11-25T18:44:49.937Z"
   },
   {
    "duration": 20,
    "start_time": "2022-11-25T18:44:49.945Z"
   },
   {
    "duration": 22,
    "start_time": "2022-11-25T18:44:49.967Z"
   },
   {
    "duration": 35,
    "start_time": "2022-11-25T18:44:49.990Z"
   },
   {
    "duration": 20,
    "start_time": "2022-11-25T18:44:50.027Z"
   },
   {
    "duration": 165,
    "start_time": "2022-11-25T18:44:50.049Z"
   },
   {
    "duration": 125,
    "start_time": "2022-11-25T18:44:50.216Z"
   },
   {
    "duration": 264,
    "start_time": "2022-11-25T18:44:50.343Z"
   },
   {
    "duration": 261,
    "start_time": "2022-11-25T18:44:50.609Z"
   },
   {
    "duration": 194,
    "start_time": "2022-11-25T18:44:50.872Z"
   },
   {
    "duration": 273,
    "start_time": "2022-11-25T18:44:51.067Z"
   },
   {
    "duration": 200,
    "start_time": "2022-11-25T18:44:51.341Z"
   },
   {
    "duration": 331,
    "start_time": "2022-11-25T18:44:51.543Z"
   },
   {
    "duration": 11,
    "start_time": "2022-11-25T18:44:51.876Z"
   },
   {
    "duration": 167,
    "start_time": "2022-11-25T18:44:51.889Z"
   },
   {
    "duration": 5,
    "start_time": "2022-11-25T18:44:52.057Z"
   },
   {
    "duration": 36,
    "start_time": "2022-11-25T18:44:52.064Z"
   },
   {
    "duration": 168,
    "start_time": "2022-11-25T18:44:52.105Z"
   },
   {
    "duration": 213,
    "start_time": "2022-11-25T18:44:52.274Z"
   },
   {
    "duration": 4,
    "start_time": "2022-11-25T18:44:52.489Z"
   },
   {
    "duration": 224,
    "start_time": "2022-11-25T18:44:52.495Z"
   },
   {
    "duration": 122,
    "start_time": "2022-11-25T18:44:52.721Z"
   },
   {
    "duration": 5,
    "start_time": "2022-11-25T18:44:52.845Z"
   },
   {
    "duration": 42,
    "start_time": "2022-11-25T18:44:52.851Z"
   },
   {
    "duration": 8,
    "start_time": "2022-11-25T18:44:52.895Z"
   },
   {
    "duration": 8,
    "start_time": "2022-11-25T18:44:52.905Z"
   },
   {
    "duration": 12,
    "start_time": "2022-11-25T18:44:52.914Z"
   },
   {
    "duration": 25,
    "start_time": "2022-11-25T18:44:52.937Z"
   },
   {
    "duration": 13,
    "start_time": "2022-11-25T18:44:52.964Z"
   },
   {
    "duration": 101,
    "start_time": "2022-11-25T19:02:21.076Z"
   },
   {
    "duration": 16,
    "start_time": "2022-11-25T19:02:51.796Z"
   },
   {
    "duration": 4,
    "start_time": "2022-11-25T19:04:06.043Z"
   },
   {
    "duration": 5,
    "start_time": "2022-11-25T19:04:21.623Z"
   },
   {
    "duration": 9,
    "start_time": "2022-11-25T19:05:36.416Z"
   },
   {
    "duration": 13,
    "start_time": "2022-11-25T19:06:22.973Z"
   },
   {
    "duration": 1112,
    "start_time": "2022-11-25T19:06:28.994Z"
   },
   {
    "duration": 104,
    "start_time": "2022-11-25T19:06:30.108Z"
   },
   {
    "duration": 9,
    "start_time": "2022-11-25T19:06:30.213Z"
   },
   {
    "duration": 26,
    "start_time": "2022-11-25T19:06:30.224Z"
   },
   {
    "duration": 12,
    "start_time": "2022-11-25T19:06:30.251Z"
   },
   {
    "duration": 327,
    "start_time": "2022-11-25T19:06:30.265Z"
   },
   {
    "duration": 53,
    "start_time": "2022-11-25T19:06:30.594Z"
   },
   {
    "duration": 29,
    "start_time": "2022-11-25T19:06:30.650Z"
   },
   {
    "duration": 52,
    "start_time": "2022-11-25T19:06:30.680Z"
   },
   {
    "duration": 18,
    "start_time": "2022-11-25T19:06:30.735Z"
   },
   {
    "duration": 6,
    "start_time": "2022-11-25T19:06:30.755Z"
   },
   {
    "duration": 14,
    "start_time": "2022-11-25T19:06:30.762Z"
   },
   {
    "duration": 17,
    "start_time": "2022-11-25T19:06:30.778Z"
   },
   {
    "duration": 25,
    "start_time": "2022-11-25T19:06:30.796Z"
   },
   {
    "duration": 31,
    "start_time": "2022-11-25T19:06:30.823Z"
   },
   {
    "duration": 176,
    "start_time": "2022-11-25T19:06:30.856Z"
   },
   {
    "duration": 143,
    "start_time": "2022-11-25T19:06:31.034Z"
   },
   {
    "duration": 307,
    "start_time": "2022-11-25T19:06:31.179Z"
   },
   {
    "duration": 279,
    "start_time": "2022-11-25T19:06:31.488Z"
   },
   {
    "duration": 224,
    "start_time": "2022-11-25T19:06:31.769Z"
   },
   {
    "duration": 303,
    "start_time": "2022-11-25T19:06:31.995Z"
   },
   {
    "duration": 217,
    "start_time": "2022-11-25T19:06:32.300Z"
   },
   {
    "duration": 349,
    "start_time": "2022-11-25T19:06:32.519Z"
   },
   {
    "duration": 12,
    "start_time": "2022-11-25T19:06:32.870Z"
   },
   {
    "duration": 171,
    "start_time": "2022-11-25T19:06:32.883Z"
   },
   {
    "duration": 4,
    "start_time": "2022-11-25T19:06:33.056Z"
   },
   {
    "duration": 15,
    "start_time": "2022-11-25T19:06:33.062Z"
   },
   {
    "duration": 159,
    "start_time": "2022-11-25T19:06:33.080Z"
   },
   {
    "duration": 234,
    "start_time": "2022-11-25T19:06:33.241Z"
   },
   {
    "duration": 7,
    "start_time": "2022-11-25T19:06:33.476Z"
   },
   {
    "duration": 273,
    "start_time": "2022-11-25T19:06:33.485Z"
   },
   {
    "duration": 178,
    "start_time": "2022-11-25T19:06:33.760Z"
   },
   {
    "duration": 7,
    "start_time": "2022-11-25T19:06:33.940Z"
   },
   {
    "duration": 28,
    "start_time": "2022-11-25T19:06:33.948Z"
   },
   {
    "duration": 10,
    "start_time": "2022-11-25T19:06:33.978Z"
   },
   {
    "duration": 132,
    "start_time": "2022-11-25T19:06:33.990Z"
   },
   {
    "duration": 0,
    "start_time": "2022-11-25T19:06:34.124Z"
   },
   {
    "duration": 0,
    "start_time": "2022-11-25T19:06:34.125Z"
   },
   {
    "duration": 0,
    "start_time": "2022-11-25T19:06:34.126Z"
   },
   {
    "duration": 16,
    "start_time": "2022-11-25T19:07:48.049Z"
   },
   {
    "duration": 14,
    "start_time": "2022-11-25T19:08:00.310Z"
   },
   {
    "duration": 18,
    "start_time": "2022-11-25T19:08:20.456Z"
   },
   {
    "duration": 21,
    "start_time": "2022-11-25T19:08:34.123Z"
   },
   {
    "duration": 5,
    "start_time": "2022-11-25T19:10:48.257Z"
   },
   {
    "duration": 13,
    "start_time": "2022-11-25T19:17:48.054Z"
   },
   {
    "duration": 21,
    "start_time": "2022-11-25T19:18:18.851Z"
   },
   {
    "duration": 11,
    "start_time": "2022-11-25T19:23:26.752Z"
   },
   {
    "duration": 4,
    "start_time": "2022-11-25T19:23:46.168Z"
   },
   {
    "duration": 4,
    "start_time": "2022-11-25T19:23:59.686Z"
   },
   {
    "duration": 10,
    "start_time": "2022-11-25T19:24:32.276Z"
   },
   {
    "duration": 8,
    "start_time": "2022-11-25T19:26:37.394Z"
   },
   {
    "duration": 994,
    "start_time": "2022-11-25T19:27:06.777Z"
   },
   {
    "duration": 104,
    "start_time": "2022-11-25T19:27:07.773Z"
   },
   {
    "duration": 8,
    "start_time": "2022-11-25T19:27:07.879Z"
   },
   {
    "duration": 17,
    "start_time": "2022-11-25T19:27:07.890Z"
   },
   {
    "duration": 30,
    "start_time": "2022-11-25T19:27:07.909Z"
   },
   {
    "duration": 289,
    "start_time": "2022-11-25T19:27:07.941Z"
   },
   {
    "duration": 53,
    "start_time": "2022-11-25T19:27:08.231Z"
   },
   {
    "duration": 24,
    "start_time": "2022-11-25T19:27:08.286Z"
   },
   {
    "duration": 27,
    "start_time": "2022-11-25T19:27:08.312Z"
   },
   {
    "duration": 17,
    "start_time": "2022-11-25T19:27:08.341Z"
   },
   {
    "duration": 5,
    "start_time": "2022-11-25T19:27:08.359Z"
   },
   {
    "duration": 7,
    "start_time": "2022-11-25T19:27:08.365Z"
   },
   {
    "duration": 9,
    "start_time": "2022-11-25T19:27:08.373Z"
   },
   {
    "duration": 13,
    "start_time": "2022-11-25T19:27:08.383Z"
   },
   {
    "duration": 42,
    "start_time": "2022-11-25T19:27:08.398Z"
   },
   {
    "duration": 176,
    "start_time": "2022-11-25T19:27:08.442Z"
   },
   {
    "duration": 132,
    "start_time": "2022-11-25T19:27:08.620Z"
   },
   {
    "duration": 348,
    "start_time": "2022-11-25T19:27:08.753Z"
   },
   {
    "duration": 257,
    "start_time": "2022-11-25T19:27:09.102Z"
   },
   {
    "duration": 206,
    "start_time": "2022-11-25T19:27:09.361Z"
   },
   {
    "duration": 296,
    "start_time": "2022-11-25T19:27:09.569Z"
   },
   {
    "duration": 206,
    "start_time": "2022-11-25T19:27:09.867Z"
   },
   {
    "duration": 299,
    "start_time": "2022-11-25T19:27:10.075Z"
   },
   {
    "duration": 12,
    "start_time": "2022-11-25T19:27:10.376Z"
   },
   {
    "duration": 160,
    "start_time": "2022-11-25T19:27:10.390Z"
   },
   {
    "duration": 4,
    "start_time": "2022-11-25T19:27:10.552Z"
   },
   {
    "duration": 12,
    "start_time": "2022-11-25T19:27:10.558Z"
   },
   {
    "duration": 165,
    "start_time": "2022-11-25T19:27:10.574Z"
   },
   {
    "duration": 210,
    "start_time": "2022-11-25T19:27:10.740Z"
   },
   {
    "duration": 4,
    "start_time": "2022-11-25T19:27:10.951Z"
   },
   {
    "duration": 235,
    "start_time": "2022-11-25T19:27:10.957Z"
   },
   {
    "duration": 145,
    "start_time": "2022-11-25T19:27:11.193Z"
   },
   {
    "duration": 7,
    "start_time": "2022-11-25T19:27:11.339Z"
   },
   {
    "duration": 25,
    "start_time": "2022-11-25T19:27:11.347Z"
   },
   {
    "duration": 9,
    "start_time": "2022-11-25T19:27:11.374Z"
   },
   {
    "duration": 10,
    "start_time": "2022-11-25T19:27:11.384Z"
   },
   {
    "duration": 9,
    "start_time": "2022-11-25T19:27:11.395Z"
   },
   {
    "duration": 53,
    "start_time": "2022-11-25T19:27:11.406Z"
   },
   {
    "duration": 15,
    "start_time": "2022-11-25T19:27:11.461Z"
   },
   {
    "duration": 1089,
    "start_time": "2022-11-25T19:29:08.369Z"
   },
   {
    "duration": 99,
    "start_time": "2022-11-25T19:29:09.460Z"
   },
   {
    "duration": 9,
    "start_time": "2022-11-25T19:29:09.561Z"
   },
   {
    "duration": 13,
    "start_time": "2022-11-25T19:29:09.572Z"
   },
   {
    "duration": 12,
    "start_time": "2022-11-25T19:29:09.587Z"
   },
   {
    "duration": 312,
    "start_time": "2022-11-25T19:29:09.601Z"
   },
   {
    "duration": 52,
    "start_time": "2022-11-25T19:29:09.915Z"
   },
   {
    "duration": 27,
    "start_time": "2022-11-25T19:29:09.968Z"
   },
   {
    "duration": 28,
    "start_time": "2022-11-25T19:29:09.997Z"
   },
   {
    "duration": 24,
    "start_time": "2022-11-25T19:29:10.029Z"
   },
   {
    "duration": 5,
    "start_time": "2022-11-25T19:29:10.055Z"
   },
   {
    "duration": 7,
    "start_time": "2022-11-25T19:29:10.062Z"
   },
   {
    "duration": 10,
    "start_time": "2022-11-25T19:29:10.071Z"
   },
   {
    "duration": 12,
    "start_time": "2022-11-25T19:29:10.083Z"
   },
   {
    "duration": 44,
    "start_time": "2022-11-25T19:29:10.097Z"
   },
   {
    "duration": 164,
    "start_time": "2022-11-25T19:29:10.143Z"
   },
   {
    "duration": 120,
    "start_time": "2022-11-25T19:29:10.309Z"
   },
   {
    "duration": 283,
    "start_time": "2022-11-25T19:29:10.436Z"
   },
   {
    "duration": 258,
    "start_time": "2022-11-25T19:29:10.721Z"
   },
   {
    "duration": 200,
    "start_time": "2022-11-25T19:29:10.981Z"
   },
   {
    "duration": 269,
    "start_time": "2022-11-25T19:29:11.183Z"
   },
   {
    "duration": 205,
    "start_time": "2022-11-25T19:29:11.454Z"
   },
   {
    "duration": 313,
    "start_time": "2022-11-25T19:29:11.661Z"
   },
   {
    "duration": 10,
    "start_time": "2022-11-25T19:29:11.976Z"
   },
   {
    "duration": 161,
    "start_time": "2022-11-25T19:29:11.987Z"
   },
   {
    "duration": 4,
    "start_time": "2022-11-25T19:29:12.150Z"
   },
   {
    "duration": 12,
    "start_time": "2022-11-25T19:29:12.155Z"
   },
   {
    "duration": 163,
    "start_time": "2022-11-25T19:29:12.170Z"
   },
   {
    "duration": 214,
    "start_time": "2022-11-25T19:29:12.337Z"
   },
   {
    "duration": 4,
    "start_time": "2022-11-25T19:29:12.552Z"
   },
   {
    "duration": 226,
    "start_time": "2022-11-25T19:29:12.558Z"
   },
   {
    "duration": 121,
    "start_time": "2022-11-25T19:29:12.786Z"
   },
   {
    "duration": 6,
    "start_time": "2022-11-25T19:29:12.909Z"
   },
   {
    "duration": 31,
    "start_time": "2022-11-25T19:29:12.917Z"
   },
   {
    "duration": 9,
    "start_time": "2022-11-25T19:29:12.950Z"
   },
   {
    "duration": 10,
    "start_time": "2022-11-25T19:29:12.961Z"
   },
   {
    "duration": 7,
    "start_time": "2022-11-25T19:29:12.973Z"
   },
   {
    "duration": 24,
    "start_time": "2022-11-25T19:29:12.981Z"
   },
   {
    "duration": 42,
    "start_time": "2022-11-25T19:29:13.007Z"
   },
   {
    "duration": 332,
    "start_time": "2022-11-25T19:40:03.005Z"
   },
   {
    "duration": 1027,
    "start_time": "2022-11-25T19:49:36.054Z"
   },
   {
    "duration": 101,
    "start_time": "2022-11-25T19:49:37.083Z"
   },
   {
    "duration": 7,
    "start_time": "2022-11-25T19:49:37.188Z"
   },
   {
    "duration": 12,
    "start_time": "2022-11-25T19:49:37.197Z"
   },
   {
    "duration": 29,
    "start_time": "2022-11-25T19:49:37.210Z"
   },
   {
    "duration": 279,
    "start_time": "2022-11-25T19:49:37.240Z"
   },
   {
    "duration": 49,
    "start_time": "2022-11-25T19:49:37.521Z"
   },
   {
    "duration": 25,
    "start_time": "2022-11-25T19:49:37.572Z"
   },
   {
    "duration": 28,
    "start_time": "2022-11-25T19:49:37.600Z"
   },
   {
    "duration": 16,
    "start_time": "2022-11-25T19:49:37.630Z"
   },
   {
    "duration": 4,
    "start_time": "2022-11-25T19:49:37.648Z"
   },
   {
    "duration": 8,
    "start_time": "2022-11-25T19:49:37.653Z"
   },
   {
    "duration": 10,
    "start_time": "2022-11-25T19:49:37.662Z"
   },
   {
    "duration": 11,
    "start_time": "2022-11-25T19:49:37.674Z"
   },
   {
    "duration": 5,
    "start_time": "2022-11-25T19:49:37.686Z"
   },
   {
    "duration": 198,
    "start_time": "2022-11-25T19:49:37.692Z"
   },
   {
    "duration": 131,
    "start_time": "2022-11-25T19:49:37.892Z"
   },
   {
    "duration": 273,
    "start_time": "2022-11-25T19:49:38.025Z"
   },
   {
    "duration": 259,
    "start_time": "2022-11-25T19:49:38.299Z"
   },
   {
    "duration": 203,
    "start_time": "2022-11-25T19:49:38.559Z"
   },
   {
    "duration": 320,
    "start_time": "2022-11-25T19:49:38.763Z"
   },
   {
    "duration": 204,
    "start_time": "2022-11-25T19:49:39.084Z"
   },
   {
    "duration": 316,
    "start_time": "2022-11-25T19:49:39.290Z"
   },
   {
    "duration": 11,
    "start_time": "2022-11-25T19:49:39.608Z"
   },
   {
    "duration": 162,
    "start_time": "2022-11-25T19:49:39.621Z"
   },
   {
    "duration": 5,
    "start_time": "2022-11-25T19:49:39.785Z"
   },
   {
    "duration": 10,
    "start_time": "2022-11-25T19:49:39.793Z"
   },
   {
    "duration": 161,
    "start_time": "2022-11-25T19:49:39.804Z"
   },
   {
    "duration": 219,
    "start_time": "2022-11-25T19:49:39.967Z"
   },
   {
    "duration": 5,
    "start_time": "2022-11-25T19:49:40.188Z"
   },
   {
    "duration": 223,
    "start_time": "2022-11-25T19:49:40.194Z"
   },
   {
    "duration": 145,
    "start_time": "2022-11-25T19:49:40.419Z"
   },
   {
    "duration": 6,
    "start_time": "2022-11-25T19:49:40.566Z"
   },
   {
    "duration": 26,
    "start_time": "2022-11-25T19:49:40.573Z"
   },
   {
    "duration": 10,
    "start_time": "2022-11-25T19:49:40.601Z"
   },
   {
    "duration": 26,
    "start_time": "2022-11-25T19:49:40.613Z"
   },
   {
    "duration": 9,
    "start_time": "2022-11-25T19:49:40.641Z"
   },
   {
    "duration": 25,
    "start_time": "2022-11-25T19:49:40.651Z"
   },
   {
    "duration": 13,
    "start_time": "2022-11-25T19:49:40.677Z"
   },
   {
    "duration": 1273,
    "start_time": "2022-11-26T18:33:57.059Z"
   },
   {
    "duration": 150,
    "start_time": "2022-11-26T18:33:58.335Z"
   },
   {
    "duration": 8,
    "start_time": "2022-11-26T18:33:58.487Z"
   },
   {
    "duration": 29,
    "start_time": "2022-11-26T18:33:58.497Z"
   },
   {
    "duration": 24,
    "start_time": "2022-11-26T18:33:58.528Z"
   },
   {
    "duration": 351,
    "start_time": "2022-11-26T18:33:58.557Z"
   },
   {
    "duration": 122,
    "start_time": "2022-11-26T18:33:58.910Z"
   },
   {
    "duration": 42,
    "start_time": "2022-11-26T18:33:59.033Z"
   },
   {
    "duration": 95,
    "start_time": "2022-11-26T18:33:59.077Z"
   },
   {
    "duration": 20,
    "start_time": "2022-11-26T18:33:59.175Z"
   },
   {
    "duration": 6,
    "start_time": "2022-11-26T18:33:59.197Z"
   },
   {
    "duration": 12,
    "start_time": "2022-11-26T18:33:59.205Z"
   },
   {
    "duration": 27,
    "start_time": "2022-11-26T18:33:59.219Z"
   },
   {
    "duration": 19,
    "start_time": "2022-11-26T18:33:59.249Z"
   },
   {
    "duration": 6,
    "start_time": "2022-11-26T18:33:59.270Z"
   },
   {
    "duration": 183,
    "start_time": "2022-11-26T18:33:59.278Z"
   },
   {
    "duration": 141,
    "start_time": "2022-11-26T18:33:59.463Z"
   },
   {
    "duration": 311,
    "start_time": "2022-11-26T18:33:59.606Z"
   },
   {
    "duration": 303,
    "start_time": "2022-11-26T18:33:59.920Z"
   },
   {
    "duration": 242,
    "start_time": "2022-11-26T18:34:00.225Z"
   },
   {
    "duration": 352,
    "start_time": "2022-11-26T18:34:00.475Z"
   },
   {
    "duration": 241,
    "start_time": "2022-11-26T18:34:00.830Z"
   },
   {
    "duration": 398,
    "start_time": "2022-11-26T18:34:01.073Z"
   },
   {
    "duration": 12,
    "start_time": "2022-11-26T18:34:01.472Z"
   },
   {
    "duration": 186,
    "start_time": "2022-11-26T18:34:01.486Z"
   },
   {
    "duration": 7,
    "start_time": "2022-11-26T18:34:01.674Z"
   },
   {
    "duration": 19,
    "start_time": "2022-11-26T18:34:01.683Z"
   },
   {
    "duration": 168,
    "start_time": "2022-11-26T18:34:01.706Z"
   },
   {
    "duration": 228,
    "start_time": "2022-11-26T18:34:01.875Z"
   },
   {
    "duration": 4,
    "start_time": "2022-11-26T18:34:02.105Z"
   },
   {
    "duration": 248,
    "start_time": "2022-11-26T18:34:02.111Z"
   },
   {
    "duration": 196,
    "start_time": "2022-11-26T18:34:02.361Z"
   },
   {
    "duration": 38,
    "start_time": "2022-11-26T18:34:02.560Z"
   },
   {
    "duration": 71,
    "start_time": "2022-11-26T18:34:02.601Z"
   },
   {
    "duration": 16,
    "start_time": "2022-11-26T18:34:02.678Z"
   },
   {
    "duration": 44,
    "start_time": "2022-11-26T18:34:02.696Z"
   },
   {
    "duration": 28,
    "start_time": "2022-11-26T18:34:02.743Z"
   },
   {
    "duration": 59,
    "start_time": "2022-11-26T18:34:02.774Z"
   },
   {
    "duration": 22,
    "start_time": "2022-11-26T18:34:02.835Z"
   },
   {
    "duration": 6,
    "start_time": "2022-11-26T18:35:39.044Z"
   }
  ],
  "kernelspec": {
   "display_name": "Python 3 (ipykernel)",
   "language": "python",
   "name": "python3"
  },
  "language_info": {
   "codemirror_mode": {
    "name": "ipython",
    "version": 3
   },
   "file_extension": ".py",
   "mimetype": "text/x-python",
   "name": "python",
   "nbconvert_exporter": "python",
   "pygments_lexer": "ipython3",
   "version": "3.10.9"
  },
  "toc": {
   "base_numbering": 1,
   "nav_menu": {},
   "number_sections": true,
   "sideBar": true,
   "skip_h1_title": true,
   "title_cell": "Содержание",
   "title_sidebar": "Contents",
   "toc_cell": true,
   "toc_position": {
    "height": "calc(100% - 180px)",
    "left": "10px",
    "top": "150px",
    "width": "371.5px"
   },
   "toc_section_display": true,
   "toc_window_display": false
  }
 },
 "nbformat": 4,
 "nbformat_minor": 2
}
