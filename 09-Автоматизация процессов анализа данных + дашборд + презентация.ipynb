{
 "cells": [
  {
   "cell_type": "markdown",
   "id": "f3a76e82",
   "metadata": {},
   "source": [
    "# Дашборд для Яндекс.Дзен"
   ]
  },
  {
   "cell_type": "markdown",
   "id": "c221463b",
   "metadata": {
    "toc": true
   },
   "source": [
    "<h1>Содержание<span class=\"tocSkip\"></span></h1>\n",
    "<div class=\"toc\"><ul class=\"toc-item\"><li><span><a href=\"#Предобработка-данных\" data-toc-modified-id=\"Предобработка-данных-1\"><span class=\"toc-item-num\">1&nbsp;&nbsp;</span>Предобработка данных</a></span></li><li><span><a href=\"#Экспорт-данных-в-csv-файл\" data-toc-modified-id=\"Экспорт-данных-в-csv-файл-2\"><span class=\"toc-item-num\">2&nbsp;&nbsp;</span>Экспорт данных в csv-файл</a></span></li><li><span><a href=\"#Ссылка-на-дашборд-в-Tableau-Public\" data-toc-modified-id=\"Ссылка-на-дашборд-в-Tableau-Public-3\"><span class=\"toc-item-num\">3&nbsp;&nbsp;</span>Ссылка на дашборд в Tableau Public</a></span></li><li><span><a href=\"#Ссылка-на-презентацию-по-взаимодействию-пользователей-с-карточками-статей\" data-toc-modified-id=\"Ссылка-на-презентацию-по-взаимодействию-пользователей-с-карточками-статей-4\"><span class=\"toc-item-num\">4&nbsp;&nbsp;</span>Ссылка на презентацию по взаимодействию пользователей с карточками статей</a></span></li></ul></div>"
   ]
  },
  {
   "cell_type": "markdown",
   "id": "b527ec5b",
   "metadata": {},
   "source": [
    "**Описание проекта**\n",
    "\n",
    "Мы анализируем пользовательские взаимодействия с карточками статей. Каждую карточку определяют её тема и источник (у него тоже есть тема). Примеры тем: \"Красота и здоровье\", \"Россия\", \"Путешествия\".\n",
    "\n",
    "Пользователей системы характеризует возрастная категория. Скажем, \"26-30\" или \"45+\".\n",
    "\n",
    "Есть три способа взаимодействия пользователей с системой:\n",
    "- Карточка отображена для пользователя (`show`);\n",
    "- Пользователь кликнул на карточку (`click`);\n",
    "- Пользователь просмотрел статью карточки (`view`).\n",
    "\n",
    "Каждую неделю менеджеры задают одни и те же вопросы:\n",
    "- Cколько взаимодействий пользователей с карточками происходит в системе с разбивкой по темам карточек?\n",
    "- Как много событий генерируют источники с разными темами?\n",
    "- Как соотносятся темы карточек и темы источников?\n",
    "\n",
    "Необходимо автоматизировать этот процесс и сделать дашборд.\n",
    "\n",
    "Дашборд будет основываться на пайплайне, который будет брать данные из таблицы, в которых хранятся сырые данные, трансформировать данные и укладывать их в агрегирующую таблицу. Пайплайн будет разработан дата-инженерами."
   ]
  },
  {
   "cell_type": "markdown",
   "id": "925563a2",
   "metadata": {},
   "source": [
    "## Предобработка данных"
   ]
  },
  {
   "cell_type": "markdown",
   "id": "bc6904b1",
   "metadata": {},
   "source": [
    "Создадим коннекцию к базе, запишем в переменную `dash_data`:"
   ]
  },
  {
   "cell_type": "code",
   "execution_count": 1,
   "id": "2ef54551",
   "metadata": {},
   "outputs": [],
   "source": [
    "# импортируем библиотеки\n",
    "import pandas as pd\n",
    "from sqlalchemy import create_engine\n",
    "\n",
    "import warnings\n",
    "warnings.filterwarnings('ignore')"
   ]
  },
  {
   "cell_type": "code",
   "execution_count": 2,
   "id": "8fec9312",
   "metadata": {},
   "outputs": [
    {
     "name": "stdout",
     "output_type": "stream",
     "text": [
      "Collecting psycopg2-binary\n",
      "  Downloading psycopg2_binary-2.9.6-cp310-cp310-win_amd64.whl (1.2 MB)\n",
      "     ---------------------------------------- 1.2/1.2 MB 2.8 MB/s eta 0:00:00\n",
      "Installing collected packages: psycopg2-binary\n",
      "Successfully installed psycopg2-binary-2.9.6\n"
     ]
    }
   ],
   "source": [
    "!pip install psycopg2-binary"
   ]
  },
  {
   "cell_type": "code",
   "execution_count": 3,
   "id": "c64b0f99",
   "metadata": {},
   "outputs": [],
   "source": [
    "db_config = {'user': 'praktikum_student', # имя пользователя\n",
    "            'pwd': 'Sdf4$2;d-d30pp', # пароль\n",
    "            'host': 'rc1b-wcoijxj3yxfsf3fs.mdb.yandexcloud.net',\n",
    "            'port': 6432, # порт подключения\n",
    "            'db': 'data-analyst-zen-project-db'} # название базы данных\n",
    "\n",
    "connection_string = 'postgresql://{}:{}@{}:{}/{}'.format(db_config['user'],\n",
    "                                                db_config['pwd'],\n",
    "                                                db_config['host'],\n",
    "                                                db_config['port'],\n",
    "                                                db_config['db'])\n",
    "\n",
    "engine = create_engine(connection_string)"
   ]
  },
  {
   "cell_type": "code",
   "execution_count": 4,
   "id": "459792f7",
   "metadata": {},
   "outputs": [],
   "source": [
    "query = ''' SELECT *\n",
    "            FROM dash_visits\n",
    "        '''\n",
    "\n",
    "dash_visits = pd.io.sql.read_sql(query, con = engine)"
   ]
  },
  {
   "cell_type": "code",
   "execution_count": 5,
   "id": "0d3c41e2",
   "metadata": {},
   "outputs": [
    {
     "data": {
      "text/html": [
       "<div>\n",
       "<style scoped>\n",
       "    .dataframe tbody tr th:only-of-type {\n",
       "        vertical-align: middle;\n",
       "    }\n",
       "\n",
       "    .dataframe tbody tr th {\n",
       "        vertical-align: top;\n",
       "    }\n",
       "\n",
       "    .dataframe thead th {\n",
       "        text-align: right;\n",
       "    }\n",
       "</style>\n",
       "<table border=\"1\" class=\"dataframe\">\n",
       "  <thead>\n",
       "    <tr style=\"text-align: right;\">\n",
       "      <th></th>\n",
       "      <th>record_id</th>\n",
       "      <th>item_topic</th>\n",
       "      <th>source_topic</th>\n",
       "      <th>age_segment</th>\n",
       "      <th>dt</th>\n",
       "      <th>visits</th>\n",
       "    </tr>\n",
       "  </thead>\n",
       "  <tbody>\n",
       "    <tr>\n",
       "      <th>0</th>\n",
       "      <td>1040597</td>\n",
       "      <td>Деньги</td>\n",
       "      <td>Авто</td>\n",
       "      <td>18-25</td>\n",
       "      <td>2019-09-24 18:32:00</td>\n",
       "      <td>3</td>\n",
       "    </tr>\n",
       "    <tr>\n",
       "      <th>1</th>\n",
       "      <td>1040598</td>\n",
       "      <td>Деньги</td>\n",
       "      <td>Авто</td>\n",
       "      <td>18-25</td>\n",
       "      <td>2019-09-24 18:35:00</td>\n",
       "      <td>1</td>\n",
       "    </tr>\n",
       "    <tr>\n",
       "      <th>2</th>\n",
       "      <td>1040599</td>\n",
       "      <td>Деньги</td>\n",
       "      <td>Авто</td>\n",
       "      <td>18-25</td>\n",
       "      <td>2019-09-24 18:54:00</td>\n",
       "      <td>4</td>\n",
       "    </tr>\n",
       "    <tr>\n",
       "      <th>3</th>\n",
       "      <td>1040600</td>\n",
       "      <td>Деньги</td>\n",
       "      <td>Авто</td>\n",
       "      <td>18-25</td>\n",
       "      <td>2019-09-24 18:55:00</td>\n",
       "      <td>17</td>\n",
       "    </tr>\n",
       "    <tr>\n",
       "      <th>4</th>\n",
       "      <td>1040601</td>\n",
       "      <td>Деньги</td>\n",
       "      <td>Авто</td>\n",
       "      <td>18-25</td>\n",
       "      <td>2019-09-24 18:56:00</td>\n",
       "      <td>27</td>\n",
       "    </tr>\n",
       "    <tr>\n",
       "      <th>...</th>\n",
       "      <td>...</td>\n",
       "      <td>...</td>\n",
       "      <td>...</td>\n",
       "      <td>...</td>\n",
       "      <td>...</td>\n",
       "      <td>...</td>\n",
       "    </tr>\n",
       "    <tr>\n",
       "      <th>30740</th>\n",
       "      <td>1071337</td>\n",
       "      <td>Юмор</td>\n",
       "      <td>Финансы</td>\n",
       "      <td>36-40</td>\n",
       "      <td>2019-09-24 18:57:00</td>\n",
       "      <td>2</td>\n",
       "    </tr>\n",
       "    <tr>\n",
       "      <th>30741</th>\n",
       "      <td>1071338</td>\n",
       "      <td>Юмор</td>\n",
       "      <td>Финансы</td>\n",
       "      <td>36-40</td>\n",
       "      <td>2019-09-24 19:00:00</td>\n",
       "      <td>1</td>\n",
       "    </tr>\n",
       "    <tr>\n",
       "      <th>30742</th>\n",
       "      <td>1071339</td>\n",
       "      <td>Юмор</td>\n",
       "      <td>Финансы</td>\n",
       "      <td>41-45</td>\n",
       "      <td>2019-09-24 18:54:00</td>\n",
       "      <td>1</td>\n",
       "    </tr>\n",
       "    <tr>\n",
       "      <th>30743</th>\n",
       "      <td>1071340</td>\n",
       "      <td>Юмор</td>\n",
       "      <td>Финансы</td>\n",
       "      <td>41-45</td>\n",
       "      <td>2019-09-24 18:56:00</td>\n",
       "      <td>1</td>\n",
       "    </tr>\n",
       "    <tr>\n",
       "      <th>30744</th>\n",
       "      <td>1071341</td>\n",
       "      <td>Юмор</td>\n",
       "      <td>Финансы</td>\n",
       "      <td>41-45</td>\n",
       "      <td>2019-09-24 19:00:00</td>\n",
       "      <td>1</td>\n",
       "    </tr>\n",
       "  </tbody>\n",
       "</table>\n",
       "<p>30745 rows × 6 columns</p>\n",
       "</div>"
      ],
      "text/plain": [
       "       record_id item_topic source_topic age_segment                  dt  \\\n",
       "0        1040597     Деньги         Авто       18-25 2019-09-24 18:32:00   \n",
       "1        1040598     Деньги         Авто       18-25 2019-09-24 18:35:00   \n",
       "2        1040599     Деньги         Авто       18-25 2019-09-24 18:54:00   \n",
       "3        1040600     Деньги         Авто       18-25 2019-09-24 18:55:00   \n",
       "4        1040601     Деньги         Авто       18-25 2019-09-24 18:56:00   \n",
       "...          ...        ...          ...         ...                 ...   \n",
       "30740    1071337       Юмор      Финансы       36-40 2019-09-24 18:57:00   \n",
       "30741    1071338       Юмор      Финансы       36-40 2019-09-24 19:00:00   \n",
       "30742    1071339       Юмор      Финансы       41-45 2019-09-24 18:54:00   \n",
       "30743    1071340       Юмор      Финансы       41-45 2019-09-24 18:56:00   \n",
       "30744    1071341       Юмор      Финансы       41-45 2019-09-24 19:00:00   \n",
       "\n",
       "       visits  \n",
       "0           3  \n",
       "1           1  \n",
       "2           4  \n",
       "3          17  \n",
       "4          27  \n",
       "...       ...  \n",
       "30740       2  \n",
       "30741       1  \n",
       "30742       1  \n",
       "30743       1  \n",
       "30744       1  \n",
       "\n",
       "[30745 rows x 6 columns]"
      ]
     },
     "execution_count": 5,
     "metadata": {},
     "output_type": "execute_result"
    }
   ],
   "source": [
    "dash_visits"
   ]
  },
  {
   "cell_type": "markdown",
   "id": "9d4398aa",
   "metadata": {},
   "source": [
    "Структура таблицы:\n",
    "- `record_id` — первичный ключ,\n",
    "- `item_topic` — тема карточки,\n",
    "- `source_topic` — тема источника,\n",
    "- `age_segment` — возрастной сегмент,\n",
    "- `dt` — дата и время,\n",
    "- `visits` — количество событий."
   ]
  },
  {
   "cell_type": "markdown",
   "id": "3397ea28",
   "metadata": {},
   "source": [
    "Проверим данные:"
   ]
  },
  {
   "cell_type": "code",
   "execution_count": 6,
   "id": "689d0f6b",
   "metadata": {},
   "outputs": [
    {
     "name": "stdout",
     "output_type": "stream",
     "text": [
      "<class 'pandas.core.frame.DataFrame'>\n",
      "RangeIndex: 30745 entries, 0 to 30744\n",
      "Data columns (total 6 columns):\n",
      " #   Column        Non-Null Count  Dtype         \n",
      "---  ------        --------------  -----         \n",
      " 0   record_id     30745 non-null  int64         \n",
      " 1   item_topic    30745 non-null  object        \n",
      " 2   source_topic  30745 non-null  object        \n",
      " 3   age_segment   30745 non-null  object        \n",
      " 4   dt            30745 non-null  datetime64[ns]\n",
      " 5   visits        30745 non-null  int64         \n",
      "dtypes: datetime64[ns](1), int64(2), object(3)\n",
      "memory usage: 1.4+ MB\n"
     ]
    }
   ],
   "source": [
    "dash_visits.info()"
   ]
  },
  {
   "cell_type": "markdown",
   "id": "cfe6f79f",
   "metadata": {},
   "source": [
    "С данными все в порядке - пропусков нет, типы корректны."
   ]
  },
  {
   "cell_type": "markdown",
   "id": "6848f4e0",
   "metadata": {},
   "source": [
    "Проверим дубликаты:"
   ]
  },
  {
   "cell_type": "code",
   "execution_count": 7,
   "id": "61a88d76",
   "metadata": {},
   "outputs": [
    {
     "data": {
      "text/plain": [
       "0"
      ]
     },
     "execution_count": 7,
     "metadata": {},
     "output_type": "execute_result"
    }
   ],
   "source": [
    "dash_visits.duplicated().sum()"
   ]
  },
  {
   "cell_type": "markdown",
   "id": "4cf15da6",
   "metadata": {},
   "source": [
    "Проверим каждый столбец с числовыми показателями:"
   ]
  },
  {
   "cell_type": "code",
   "execution_count": 8,
   "id": "7fec52a8",
   "metadata": {},
   "outputs": [
    {
     "name": "stdout",
     "output_type": "stream",
     "text": [
      "count    3.074500e+04\n",
      "mean     1.055969e+06\n",
      "std      8.875461e+03\n",
      "min      1.040597e+06\n",
      "25%      1.048283e+06\n",
      "50%      1.055969e+06\n",
      "75%      1.063655e+06\n",
      "max      1.071341e+06\n",
      "Name: record_id, dtype: float64\n",
      "30745\n"
     ]
    }
   ],
   "source": [
    "print(dash_visits['record_id'].describe())\n",
    "print(dash_visits['record_id'].nunique())"
   ]
  },
  {
   "cell_type": "markdown",
   "id": "95ab8b0f",
   "metadata": {},
   "source": [
    "С данными все в порядке - количество первичных ключей соответствует количеству строк в таблице."
   ]
  },
  {
   "cell_type": "code",
   "execution_count": 9,
   "id": "003237bd",
   "metadata": {},
   "outputs": [
    {
     "name": "stdout",
     "output_type": "stream",
     "text": [
      "count    30745.000000\n",
      "mean        10.089673\n",
      "std         19.727601\n",
      "min          1.000000\n",
      "25%          1.000000\n",
      "50%          3.000000\n",
      "75%         10.000000\n",
      "max        371.000000\n",
      "Name: visits, dtype: float64\n",
      "212\n"
     ]
    }
   ],
   "source": [
    "print(dash_visits['visits'].describe())\n",
    "print(dash_visits['visits'].nunique())"
   ]
  },
  {
   "cell_type": "markdown",
   "id": "9570657a",
   "metadata": {},
   "source": [
    "Посмотрим покказатели на графике:"
   ]
  },
  {
   "cell_type": "code",
   "execution_count": 10,
   "id": "0e8be97c",
   "metadata": {},
   "outputs": [
    {
     "data": {
      "text/plain": [
       "<Axes: >"
      ]
     },
     "execution_count": 10,
     "metadata": {},
     "output_type": "execute_result"
    },
    {
     "data": {
      "image/png": "[encoded data removed]",
      "text/plain": [
       "<Figure size 1500x500 with 1 Axes>"
      ]
     },
     "metadata": {},
     "output_type": "display_data"
    }
   ],
   "source": [
    "dash_visits['visits'].hist(bins=50, figsize=(15, 5), range=(0,372))"
   ]
  },
  {
   "cell_type": "markdown",
   "id": "209fa463",
   "metadata": {},
   "source": [
    "Большинство значений от 1 до 25. Есть выбросы, но мы оставим данные как есть."
   ]
  },
  {
   "cell_type": "markdown",
   "id": "03c36866",
   "metadata": {},
   "source": [
    "Посмотрим на строковые столбцы:"
   ]
  },
  {
   "cell_type": "code",
   "execution_count": 11,
   "id": "a116cd46",
   "metadata": {},
   "outputs": [
    {
     "name": "stdout",
     "output_type": "stream",
     "text": [
      "Отношения             1536\n",
      "Интересные факты      1535\n",
      "Наука                 1505\n",
      "Подборки              1456\n",
      "Полезные советы       1424\n",
      "Общество              1422\n",
      "Россия                1385\n",
      "История               1363\n",
      "Семья                 1287\n",
      "Путешествия           1247\n",
      "Деньги                1234\n",
      "Женщины               1230\n",
      "Дети                  1229\n",
      "Туризм                1206\n",
      "Здоровье              1203\n",
      "Красота               1193\n",
      "Культура              1160\n",
      "Юмор                  1129\n",
      "Искусство             1119\n",
      "Рассказы              1109\n",
      "Психология            1056\n",
      "Скандалы              1023\n",
      "Знаменитости           976\n",
      "Женская психология     914\n",
      "Шоу                    804\n",
      "Name: item_topic, dtype: int64\n",
      "Итого значений: 25\n",
      "Семейные отношения    1822\n",
      "Россия                1687\n",
      "Знаменитости          1650\n",
      "Полезные советы       1578\n",
      "Путешествия           1563\n",
      "Кино                  1505\n",
      "Дети                  1459\n",
      "История               1437\n",
      "Семья                 1405\n",
      "Одежда                1379\n",
      "Здоровье              1243\n",
      "Искусство             1228\n",
      "Авто                  1077\n",
      "Психология            1055\n",
      "Сад и дача            1036\n",
      "Политика              1024\n",
      "Спорт                 1007\n",
      "Сделай сам             995\n",
      "Ремонт                 985\n",
      "Деньги                 973\n",
      "Еда                    912\n",
      "Интерьеры              809\n",
      "Строительство          758\n",
      "Музыка                 750\n",
      "Технологии             741\n",
      "Финансы                667\n",
      "Name: source_topic, dtype: int64\n",
      "Итого значений: 26\n",
      "18-25    7056\n",
      "26-30    5875\n",
      "31-35    5552\n",
      "36-40    5105\n",
      "41-45    3903\n",
      "45+      3254\n",
      "Name: age_segment, dtype: int64\n",
      "Итого значений: 6\n"
     ]
    }
   ],
   "source": [
    "for column in ['item_topic','source_topic','age_segment']:\n",
    "    print(dash_visits[column].value_counts())\n",
    "    print('Итого значений:', dash_visits[column].nunique())"
   ]
  },
  {
   "cell_type": "markdown",
   "id": "0bbfbfe0",
   "metadata": {},
   "source": [
    "Столбец с датой:"
   ]
  },
  {
   "cell_type": "code",
   "execution_count": 12,
   "id": "9b7824c7",
   "metadata": {},
   "outputs": [
    {
     "name": "stdout",
     "output_type": "stream",
     "text": [
      "count                   30745\n",
      "unique                     17\n",
      "top       2019-09-24 18:58:00\n",
      "freq                     3383\n",
      "first     2019-09-24 18:28:00\n",
      "last      2019-09-24 19:00:00\n",
      "Name: dt, dtype: object\n",
      "['2019-09-24T18:28:00.000000000' '2019-09-24T18:29:00.000000000'\n",
      " '2019-09-24T18:30:00.000000000' '2019-09-24T18:31:00.000000000'\n",
      " '2019-09-24T18:32:00.000000000' '2019-09-24T18:33:00.000000000'\n",
      " '2019-09-24T18:34:00.000000000' '2019-09-24T18:35:00.000000000'\n",
      " '2019-09-24T18:52:00.000000000' '2019-09-24T18:53:00.000000000'\n",
      " '2019-09-24T18:54:00.000000000' '2019-09-24T18:55:00.000000000'\n",
      " '2019-09-24T18:56:00.000000000' '2019-09-24T18:57:00.000000000'\n",
      " '2019-09-24T18:58:00.000000000' '2019-09-24T18:59:00.000000000'\n",
      " '2019-09-24T19:00:00.000000000']\n",
      "Итого значений: 17\n"
     ]
    }
   ],
   "source": [
    "print(dash_visits['dt'].describe())\n",
    "print(dash_visits['dt'].sort_values().unique())\n",
    "print('Итого значений:', dash_visits['dt'].nunique())"
   ]
  },
  {
   "cell_type": "markdown",
   "id": "2f739d64",
   "metadata": {},
   "source": [
    "Получается, что в базе данные за один день - 24 сентября 2019 года."
   ]
  },
  {
   "cell_type": "markdown",
   "id": "5e9c0f65",
   "metadata": {},
   "source": [
    "**Вывод:**\n",
    "\n",
    "Мы проверили данные - пропусков и дубликатов нет. Присутствуют выбросы в колонке с количеством событий, но мы оставим их как есть. Данные готовы для дальнейшего анализа."
   ]
  },
  {
   "cell_type": "markdown",
   "id": "05a926ec",
   "metadata": {},
   "source": [
    "## Экспорт данных в csv-файл"
   ]
  },
  {
   "cell_type": "markdown",
   "id": "a318514a",
   "metadata": {},
   "source": [
    "Для того чтобы в Tableau Public сформировать дашборд в соответствии с макетом, выгрузим файл `dash_visits` в формате `csv`."
   ]
  },
  {
   "cell_type": "code",
   "execution_count": 13,
   "id": "54188f09",
   "metadata": {},
   "outputs": [],
   "source": [
    "dash_visits.to_csv('dash_visits.csv', index=False)"
   ]
  },
  {
   "cell_type": "markdown",
   "id": "ebe82ba0",
   "metadata": {},
   "source": [
    "Протестируем, открывается ли он:"
   ]
  },
  {
   "cell_type": "code",
   "execution_count": 14,
   "id": "dfb1c1e3",
   "metadata": {},
   "outputs": [
    {
     "data": {
      "text/html": [
       "<div>\n",
       "<style scoped>\n",
       "    .dataframe tbody tr th:only-of-type {\n",
       "        vertical-align: middle;\n",
       "    }\n",
       "\n",
       "    .dataframe tbody tr th {\n",
       "        vertical-align: top;\n",
       "    }\n",
       "\n",
       "    .dataframe thead th {\n",
       "        text-align: right;\n",
       "    }\n",
       "</style>\n",
       "<table border=\"1\" class=\"dataframe\">\n",
       "  <thead>\n",
       "    <tr style=\"text-align: right;\">\n",
       "      <th></th>\n",
       "      <th>record_id</th>\n",
       "      <th>item_topic</th>\n",
       "      <th>source_topic</th>\n",
       "      <th>age_segment</th>\n",
       "      <th>dt</th>\n",
       "      <th>visits</th>\n",
       "    </tr>\n",
       "  </thead>\n",
       "  <tbody>\n",
       "    <tr>\n",
       "      <th>0</th>\n",
       "      <td>1040597</td>\n",
       "      <td>Деньги</td>\n",
       "      <td>Авто</td>\n",
       "      <td>18-25</td>\n",
       "      <td>2019-09-24 18:32:00</td>\n",
       "      <td>3</td>\n",
       "    </tr>\n",
       "    <tr>\n",
       "      <th>1</th>\n",
       "      <td>1040598</td>\n",
       "      <td>Деньги</td>\n",
       "      <td>Авто</td>\n",
       "      <td>18-25</td>\n",
       "      <td>2019-09-24 18:35:00</td>\n",
       "      <td>1</td>\n",
       "    </tr>\n",
       "    <tr>\n",
       "      <th>2</th>\n",
       "      <td>1040599</td>\n",
       "      <td>Деньги</td>\n",
       "      <td>Авто</td>\n",
       "      <td>18-25</td>\n",
       "      <td>2019-09-24 18:54:00</td>\n",
       "      <td>4</td>\n",
       "    </tr>\n",
       "    <tr>\n",
       "      <th>3</th>\n",
       "      <td>1040600</td>\n",
       "      <td>Деньги</td>\n",
       "      <td>Авто</td>\n",
       "      <td>18-25</td>\n",
       "      <td>2019-09-24 18:55:00</td>\n",
       "      <td>17</td>\n",
       "    </tr>\n",
       "    <tr>\n",
       "      <th>4</th>\n",
       "      <td>1040601</td>\n",
       "      <td>Деньги</td>\n",
       "      <td>Авто</td>\n",
       "      <td>18-25</td>\n",
       "      <td>2019-09-24 18:56:00</td>\n",
       "      <td>27</td>\n",
       "    </tr>\n",
       "    <tr>\n",
       "      <th>...</th>\n",
       "      <td>...</td>\n",
       "      <td>...</td>\n",
       "      <td>...</td>\n",
       "      <td>...</td>\n",
       "      <td>...</td>\n",
       "      <td>...</td>\n",
       "    </tr>\n",
       "    <tr>\n",
       "      <th>30740</th>\n",
       "      <td>1071337</td>\n",
       "      <td>Юмор</td>\n",
       "      <td>Финансы</td>\n",
       "      <td>36-40</td>\n",
       "      <td>2019-09-24 18:57:00</td>\n",
       "      <td>2</td>\n",
       "    </tr>\n",
       "    <tr>\n",
       "      <th>30741</th>\n",
       "      <td>1071338</td>\n",
       "      <td>Юмор</td>\n",
       "      <td>Финансы</td>\n",
       "      <td>36-40</td>\n",
       "      <td>2019-09-24 19:00:00</td>\n",
       "      <td>1</td>\n",
       "    </tr>\n",
       "    <tr>\n",
       "      <th>30742</th>\n",
       "      <td>1071339</td>\n",
       "      <td>Юмор</td>\n",
       "      <td>Финансы</td>\n",
       "      <td>41-45</td>\n",
       "      <td>2019-09-24 18:54:00</td>\n",
       "      <td>1</td>\n",
       "    </tr>\n",
       "    <tr>\n",
       "      <th>30743</th>\n",
       "      <td>1071340</td>\n",
       "      <td>Юмор</td>\n",
       "      <td>Финансы</td>\n",
       "      <td>41-45</td>\n",
       "      <td>2019-09-24 18:56:00</td>\n",
       "      <td>1</td>\n",
       "    </tr>\n",
       "    <tr>\n",
       "      <th>30744</th>\n",
       "      <td>1071341</td>\n",
       "      <td>Юмор</td>\n",
       "      <td>Финансы</td>\n",
       "      <td>41-45</td>\n",
       "      <td>2019-09-24 19:00:00</td>\n",
       "      <td>1</td>\n",
       "    </tr>\n",
       "  </tbody>\n",
       "</table>\n",
       "<p>30745 rows × 6 columns</p>\n",
       "</div>"
      ],
      "text/plain": [
       "       record_id item_topic source_topic age_segment                   dt  \\\n",
       "0        1040597     Деньги         Авто       18-25  2019-09-24 18:32:00   \n",
       "1        1040598     Деньги         Авто       18-25  2019-09-24 18:35:00   \n",
       "2        1040599     Деньги         Авто       18-25  2019-09-24 18:54:00   \n",
       "3        1040600     Деньги         Авто       18-25  2019-09-24 18:55:00   \n",
       "4        1040601     Деньги         Авто       18-25  2019-09-24 18:56:00   \n",
       "...          ...        ...          ...         ...                  ...   \n",
       "30740    1071337       Юмор      Финансы       36-40  2019-09-24 18:57:00   \n",
       "30741    1071338       Юмор      Финансы       36-40  2019-09-24 19:00:00   \n",
       "30742    1071339       Юмор      Финансы       41-45  2019-09-24 18:54:00   \n",
       "30743    1071340       Юмор      Финансы       41-45  2019-09-24 18:56:00   \n",
       "30744    1071341       Юмор      Финансы       41-45  2019-09-24 19:00:00   \n",
       "\n",
       "       visits  \n",
       "0           3  \n",
       "1           1  \n",
       "2           4  \n",
       "3          17  \n",
       "4          27  \n",
       "...       ...  \n",
       "30740       2  \n",
       "30741       1  \n",
       "30742       1  \n",
       "30743       1  \n",
       "30744       1  \n",
       "\n",
       "[30745 rows x 6 columns]"
      ]
     },
     "execution_count": 14,
     "metadata": {},
     "output_type": "execute_result"
    }
   ],
   "source": [
    "test = pd.read_csv('dash_visits.csv')\n",
    "test"
   ]
  },
  {
   "cell_type": "markdown",
   "id": "4be9dc5d",
   "metadata": {},
   "source": [
    "**Вывод:**\n",
    "\n",
    "Данные экспортированы в файл `dash_visits.csv`."
   ]
  },
  {
   "cell_type": "markdown",
   "id": "e553d722",
   "metadata": {},
   "source": [
    "## Ссылка на дашборд в Tableau Public"
   ]
  },
  {
   "cell_type": "markdown",
   "id": "db95b748",
   "metadata": {},
   "source": [
    "https://public.tableau.com/app/profile/julia3332/viz/Project_JuliaTa/Dashboard1"
   ]
  },
  {
   "cell_type": "markdown",
   "id": "60e67191",
   "metadata": {},
   "source": [
    "## Ссылка на презентацию по взаимодействию пользователей с карточками статей"
   ]
  },
  {
   "cell_type": "markdown",
   "id": "7bf76a00",
   "metadata": {},
   "source": [
    "https://disk.yandex.ru/i/AXwXQtbTgIL1MA"
   ]
  }
 ],
 "metadata": {
  "kernelspec": {
   "display_name": "Python 3 (ipykernel)",
   "language": "python",
   "name": "python3"
  },
  "language_info": {
   "codemirror_mode": {
    "name": "ipython",
    "version": 3
   },
   "file_extension": ".py",
   "mimetype": "text/x-python",
   "name": "python",
   "nbconvert_exporter": "python",
   "pygments_lexer": "ipython3",
   "version": "3.10.9"
  },
  "toc": {
   "base_numbering": 1,
   "nav_menu": {},
   "number_sections": true,
   "sideBar": true,
   "skip_h1_title": true,
   "title_cell": "Содержание",
   "title_sidebar": "Содержание",
   "toc_cell": true,
   "toc_position": {
    "height": "calc(100% - 180px)",
    "left": "10px",
    "top": "150px",
    "width": "353.333px"
   },
   "toc_section_display": true,
   "toc_window_display": false
  }
 },
 "nbformat": 4,
 "nbformat_minor": 5
}
